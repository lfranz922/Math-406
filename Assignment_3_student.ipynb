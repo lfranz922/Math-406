{
 "cells": [
  {
   "cell_type": "markdown",
   "metadata": {},
   "source": [
    "Before you turn this problem in, make sure everything runs as expected. First, **restart the kernel** (in the menubar, select Kernel $\\rightarrow$ Restart) and then **run all cells** (in the menubar, select Cell $\\rightarrow$ Run All).\n",
    "\n",
    "Make sure you fill in any place that says `YOUR CODE HERE` or \"YOUR ANSWER HERE\". DO NOT edit cells except the one containing `YOUR CODE HERE` or \"YOUR ANSWER HERE\".  \n",
    "Erase the line `raise NotImplementedError()`, but do not edit the other code that is already in the notebook. For example do not change the output/input of function if they are already defined.\n",
    "\n",
    "Make sure you fill  your name and student number below:"
   ]
  },
  {
   "cell_type": "code",
   "execution_count": null,
   "metadata": {},
   "outputs": [],
   "source": [
    "NAME = \"\"\n",
    "STUDENT_NUMBER = \"\""
   ]
  },
  {
   "cell_type": "markdown",
   "metadata": {},
   "source": [
    "---"
   ]
  },
  {
   "cell_type": "code",
   "execution_count": null,
   "metadata": {
    "deletable": false,
    "editable": false,
    "nbgrader": {
     "cell_type": "code",
     "checksum": "ffb07136d5b12688bcb1cd91900ea817",
     "grade": false,
     "grade_id": "cell-fbde5f45a43468bf",
     "locked": true,
     "schema_version": 3,
     "solution": false,
     "task": false
    }
   },
   "outputs": [],
   "source": [
    "import numpy as np \n",
    "import matplotlib.pyplot as plt \n",
    "from numpy.testing import assert_allclose as nassert\n",
    "from scipy.integrate import solve_ivp"
   ]
  },
  {
   "cell_type": "markdown",
   "metadata": {
    "vscode": {
     "languageId": "plaintext"
    }
   },
   "source": [
    "# Math 406 Assignment 3 \n",
    "\n",
    "## Exercise 1\n",
    "\n",
    "\n",
    "Write Python routines to integrate the initial value ODE:\n",
    "\n",
    "\n",
    "on an interval $[a,b]$ by means of: the Forward Euler (FE), the Improved\n",
    "Euler (ImpE), the Backward Euler (BE), the Trapezium Rule (TR), and RK-4.\n",
    "Use these routines to solve the following ODE:\n",
    "$$\n",
    "y^{\\prime }=f(x,y),\\quad y(a)=y_{0} \n",
    "$$"
   ]
  },
  {
   "cell_type": "markdown",
   "metadata": {},
   "source": [
    "1. Use FE and ImpE to solve: \n",
    "$[a,b]=[0,\\frac{1}{2}],\\; y^{\\prime}=10(-1-3^{\\frac{1}{2}}i)y,\\; y(0)=1,\\; y_{\\text{exact}}(x)=e^{10(-1-\\sqrt{3}i)x}.$ Use the stability region in each case determine the maximal value of the step-size $h_{m}$ for which each method will be stable. Solve and plot the problem with $h<h_{m},\\;  h=h_{m},\\; h>h_{m}$ to test the theoretical stability results."
   ]
  },
  {
   "cell_type": "markdown",
   "metadata": {
    "deletable": false,
    "nbgrader": {
     "cell_type": "markdown",
     "checksum": "2b2a6aa10271c7570127e5ac3ad0510d",
     "grade": true,
     "grade_id": "cell-99009ebfc1ec35f8",
     "locked": false,
     "points": 5,
     "schema_version": 3,
     "solution": true,
     "task": false
    }
   },
   "source": [
    "YOUR ANSWER HERE"
   ]
  },
  {
   "cell_type": "code",
   "execution_count": null,
   "metadata": {
    "deletable": false,
    "nbgrader": {
     "cell_type": "code",
     "checksum": "d90b03be1a2470c2176e0f8241254fcb",
     "grade": false,
     "grade_id": "cell-4643bbd23a8f4c66",
     "locked": false,
     "schema_version": 3,
     "solution": true,
     "task": false
    }
   },
   "outputs": [],
   "source": [
    "# Your plot\n",
    "\n",
    "# YOUR CODE HERE\n",
    "raise NotImplementedError()"
   ]
  },
  {
   "cell_type": "code",
   "execution_count": null,
   "metadata": {
    "deletable": false,
    "nbgrader": {
     "cell_type": "code",
     "checksum": "5a36bb1b0830f99299d601ae608dc9e7",
     "grade": false,
     "grade_id": "cell-7f29d50af7334c5e",
     "locked": false,
     "schema_version": 3,
     "solution": true,
     "task": false
    }
   },
   "outputs": [],
   "source": [
    "hm_FE = 0\n",
    "hm_ImpE = 0\n",
    "# YOUR CODE HERE\n",
    "raise NotImplementedError()"
   ]
  },
  {
   "cell_type": "code",
   "execution_count": null,
   "metadata": {
    "deletable": false,
    "editable": false,
    "nbgrader": {
     "cell_type": "code",
     "checksum": "33f4c330b5a4ed661659bccaa30f17b0",
     "grade": true,
     "grade_id": "cell-485c2eed141a4aaf",
     "locked": true,
     "points": 5,
     "schema_version": 3,
     "solution": false,
     "task": false
    }
   },
   "outputs": [],
   "source": [
    "#Testing answer \n"
   ]
  },
  {
   "cell_type": "markdown",
   "metadata": {},
   "source": [
    "2. Consider the initial value problem (IVP): $[a,b]=[0,1],$ $y^{\\prime }=\\frac{x}{1+x^{2}}y,$ $y(0)=1,$ $y_{\\text{exact}}(x)=\\sqrt{1+x^{2}}.$ A\n",
    "useful way to determine the convergence rate of a given method, without\n",
    "plotting, is to determine $Y_{N}(h)$ and $Y_{2N}(h/2)$ using the same method\n",
    "and evaluating following quotient\n",
    "\\begin{equation*}\n",
    "Q=\\log_{2}\\frac{E(h)}{E(h/2)} \n",
    "\\end{equation*}\n",
    "Assuming that $E(h)=|y_{\\text{exact}}(b)-Y_{N}(h)|=ch^{p}$ show that the\n",
    "quotient $Q$  is just $p$ - the order of the\n",
    "method. "
   ]
  },
  {
   "cell_type": "markdown",
   "metadata": {
    "deletable": false,
    "nbgrader": {
     "cell_type": "markdown",
     "checksum": "743dcfbbdbf17be9749ddf6eb412cf82",
     "grade": true,
     "grade_id": "cell-69669e3ad2e730d2",
     "locked": false,
     "points": 3,
     "schema_version": 3,
     "solution": true,
     "task": false
    }
   },
   "source": [
    "YOUR ANSWER HERE"
   ]
  },
  {
   "cell_type": "markdown",
   "metadata": {},
   "source": [
    "- Now complete the  table A for the following methods by\n",
    "solving the above ODE to obtain estimates of $y_{\\text{exact}}(1)=\\sqrt{2}.$ No need to estimate $Q$ for the first column, keep the value 0 instead.\n",
    "\n",
    "|$Method$|$h=2^{-2}$|$h=2^{-3}$|$h=2^{-4}$ |\n",
    "|---|---|----|---- |\n",
    "|$E_{FE}$|$A_{0,0}$|$A_{0,1}$|$A_{0,2}$ |\n",
    "|$Q_{FE}$|0|*|* |\n",
    "|$E_{\\text{ImpE}}$|$A_{2,0}$|*|*|\n",
    "|$Q_{\\text{ImpE}}$|0|*|* |\n",
    "|$E_{\\text{TR}}$|$A_{4,0}$|*|*|\n",
    "|$Q_{\\text{TR}}$|0|*|* |\n",
    "|$E_{\\text{RK4}}$|$A_{6,0}$|*|*|\n",
    "|$Q_{\\text{RK4}}$|0|*|* |\n",
    "|$E_{\\text{BE}}$|$A_{8,0}$|*|*|\n",
    "|$Q_{\\text{BE}}$|0|*|* |"
   ]
  },
  {
   "cell_type": "code",
   "execution_count": null,
   "metadata": {
    "deletable": false,
    "nbgrader": {
     "cell_type": "code",
     "checksum": "21ce782769122338cfd11d43987c195b",
     "grade": false,
     "grade_id": "cell-f2d252f1d12dbdc6",
     "locked": false,
     "schema_version": 3,
     "solution": true,
     "task": false
    }
   },
   "outputs": [],
   "source": [
    "A = np.zeros((10,3))\n",
    "# YOUR CODE HERE\n",
    "raise NotImplementedError()"
   ]
  },
  {
   "cell_type": "code",
   "execution_count": null,
   "metadata": {
    "deletable": false,
    "editable": false,
    "nbgrader": {
     "cell_type": "code",
     "checksum": "635bd50e3d9d7fa24e79bdb13eb6885f",
     "grade": true,
     "grade_id": "cell-1182ee0c2c3900d5",
     "locked": true,
     "points": 7,
     "schema_version": 3,
     "solution": false,
     "task": false
    }
   },
   "outputs": [],
   "source": [
    "#Testing answer \n"
   ]
  },
  {
   "cell_type": "markdown",
   "metadata": {},
   "source": [
    "# Exercise 2\n",
    "Consider the difference scheme:\n",
    "\\begin{equation*}\n",
    "Y_{k+2}=Y_{k}+\\frac{h}{2}(f_{k+1}+3f_{k}) \n",
    "\\end{equation*}\n",
    "Determine:"
   ]
  },
  {
   "cell_type": "markdown",
   "metadata": {},
   "source": [
    "1. The (global) truncation error"
   ]
  },
  {
   "cell_type": "markdown",
   "metadata": {
    "deletable": false,
    "nbgrader": {
     "cell_type": "markdown",
     "checksum": "aed2a0f60f842315c9b30356d4c6f1e0",
     "grade": true,
     "grade_id": "cell-e1a5c15e3e83416c",
     "locked": false,
     "points": 5,
     "schema_version": 3,
     "solution": true,
     "task": false
    }
   },
   "source": [
    "YOUR ANSWER HERE"
   ]
  },
  {
   "cell_type": "markdown",
   "metadata": {},
   "source": [
    "2. The stability region by considering the model problem\n",
    "in which: $f(x,y)=\\lambda y,\\ y(0)=1$ and converting the routine \n",
    "`StabregionsImplicit` posted on the web. "
   ]
  },
  {
   "cell_type": "markdown",
   "metadata": {
    "deletable": false,
    "nbgrader": {
     "cell_type": "markdown",
     "checksum": "da343d8eede42bf6c2f89d711be7770f",
     "grade": true,
     "grade_id": "cell-ae66c386fc74fa1b",
     "locked": false,
     "points": 3,
     "schema_version": 3,
     "solution": true,
     "task": false
    }
   },
   "source": [
    "YOUR ANSWER HERE"
   ]
  },
  {
   "cell_type": "markdown",
   "metadata": {
    "deletable": false,
    "editable": false,
    "nbgrader": {
     "cell_type": "markdown",
     "checksum": "209fe1cd5856e1df10054b662a7018d0",
     "grade": false,
     "grade_id": "cell-d00e9babc1814067",
     "locked": true,
     "points": 2,
     "schema_version": 3,
     "solution": false,
     "task": true
    }
   },
   "source": [
    "Plot the region boundary :"
   ]
  },
  {
   "cell_type": "code",
   "execution_count": null,
   "metadata": {
    "deletable": false,
    "nbgrader": {
     "cell_type": "code",
     "checksum": "f41a0e6236365bd55aad35acb510e02f",
     "grade": false,
     "grade_id": "cell-b237bb8aea001190",
     "locked": false,
     "schema_version": 3,
     "solution": true,
     "task": false
    }
   },
   "outputs": [],
   "source": [
    "# Your plot\n",
    "\n",
    "# YOUR CODE HERE\n",
    "raise NotImplementedError()"
   ]
  },
  {
   "cell_type": "markdown",
   "metadata": {},
   "source": [
    "3. Make the substitution $Y_{k}=G^{k}$ in the scheme applied to the model\n",
    "problem and parameterize the boundary of the stability region $|G| =1$ by making the substitution $G=e^{i\\theta }.$ Now obtain an\n",
    "expression for the so-called boundary locus $z=h\\lambda =g(\\theta ).$ How\n",
    "does this compare with the stability region obtained in (2)?"
   ]
  },
  {
   "cell_type": "markdown",
   "metadata": {
    "deletable": false,
    "nbgrader": {
     "cell_type": "markdown",
     "checksum": "beaa973e29d780ee55443a13952b9899",
     "grade": true,
     "grade_id": "cell-dd6eac867e0cacc1",
     "locked": false,
     "points": 5,
     "schema_version": 3,
     "solution": true,
     "task": false
    }
   },
   "source": [
    "YOUR ANSWER HERE"
   ]
  },
  {
   "cell_type": "markdown",
   "metadata": {},
   "source": [
    "# Exercise 3\n",
    "\n",
    "Consider the following model problem for a stiff ODE:\n",
    "\n",
    "\\begin{equation*}\n",
    "y^{\\prime }=-\\alpha (y-\\sin (x))+\\cos (x),\\; y(0)=1\n",
    "\\end{equation*}\n",
    "\n",
    "for which the exact solution is $y=\\sin x+e^{-\\alpha x}.$ Observe that there\n",
    "are two very different time scales built into this problem.\n",
    "\n",
    "\n",
    "1. Use your RK2/ImpE code, the Crank-Nicolson method, and the Backward\n",
    "Euler scheme to solve this problem with $\\alpha =1000$ on the interval $%\n",
    "[0,\\pi ].$ Start with about 20 steps for each of these methods. Plot each of\n",
    "these solutions and compare them to the exact solution. Explain each of the\n",
    "phenomena you observe.\n",
    "\n",
    "- RK2:\n"
   ]
  },
  {
   "cell_type": "code",
   "execution_count": null,
   "metadata": {
    "deletable": false,
    "nbgrader": {
     "cell_type": "code",
     "checksum": "27c80e27cc8228751d770c21cab50bce",
     "grade": false,
     "grade_id": "cell-4669dc55f666d2f0",
     "locked": false,
     "schema_version": 3,
     "solution": true,
     "task": false
    }
   },
   "outputs": [],
   "source": [
    "# Your plot RK2\n",
    "\n",
    "# YOUR CODE HERE\n",
    "raise NotImplementedError()"
   ]
  },
  {
   "cell_type": "markdown",
   "metadata": {
    "deletable": false,
    "nbgrader": {
     "cell_type": "markdown",
     "checksum": "668eeb846ed203c1226990af4081e0dc",
     "grade": true,
     "grade_id": "cell-1af64adac0f5d25c",
     "locked": false,
     "points": 5,
     "schema_version": 3,
     "solution": true,
     "task": false
    }
   },
   "source": [
    "YOUR ANSWER HERE"
   ]
  },
  {
   "cell_type": "markdown",
   "metadata": {},
   "source": [
    "- Crank-Nicolson:"
   ]
  },
  {
   "cell_type": "code",
   "execution_count": null,
   "metadata": {
    "deletable": false,
    "nbgrader": {
     "cell_type": "code",
     "checksum": "850aefad9e9ab2202a5a1f590ee1dee0",
     "grade": false,
     "grade_id": "cell-8d12742e923124d1",
     "locked": false,
     "schema_version": 3,
     "solution": true,
     "task": false
    }
   },
   "outputs": [],
   "source": [
    "# Your plot Crank-Nicolson\n",
    "\n",
    "# YOUR CODE HERE\n",
    "raise NotImplementedError()"
   ]
  },
  {
   "cell_type": "markdown",
   "metadata": {
    "deletable": false,
    "nbgrader": {
     "cell_type": "markdown",
     "checksum": "238797315a3e4d0fda050890e137c548",
     "grade": true,
     "grade_id": "cell-fc9a3065efc34e9b",
     "locked": false,
     "points": 5,
     "schema_version": 3,
     "solution": true,
     "task": false
    }
   },
   "source": [
    "YOUR ANSWER HERE"
   ]
  },
  {
   "cell_type": "markdown",
   "metadata": {},
   "source": [
    "- Backward Euler:"
   ]
  },
  {
   "cell_type": "code",
   "execution_count": null,
   "metadata": {
    "deletable": false,
    "nbgrader": {
     "cell_type": "code",
     "checksum": "045cbb9df48280ae8babb72cd7d9fb87",
     "grade": false,
     "grade_id": "cell-9c23f206155ea6ef",
     "locked": false,
     "schema_version": 3,
     "solution": true,
     "task": false
    }
   },
   "outputs": [],
   "source": [
    "# Your plot Backward Euler\n",
    "\n",
    "# YOUR CODE HERE\n",
    "raise NotImplementedError()"
   ]
  },
  {
   "cell_type": "markdown",
   "metadata": {
    "deletable": false,
    "nbgrader": {
     "cell_type": "markdown",
     "checksum": "d24d1cd8de421d72384d0fa0c2aa1e5a",
     "grade": true,
     "grade_id": "cell-91e8c1a3e9da05cd",
     "locked": false,
     "points": 5,
     "schema_version": 3,
     "solution": true,
     "task": false
    }
   },
   "source": [
    "YOUR ANSWER HERE"
   ]
  },
  {
   "cell_type": "markdown",
   "metadata": {},
   "source": [
    "2. Determine theoretically how many steps (as an integer) N_RK2 will be required for the RK2\n",
    "algorithm to work. Confirm these results with a numerical experiment (plot for N_RK2-1 and N_RK2+4)."
   ]
  },
  {
   "cell_type": "code",
   "execution_count": null,
   "metadata": {
    "deletable": false,
    "nbgrader": {
     "cell_type": "code",
     "checksum": "9c85b44d5a6150b1d2c83fc6f79e1adf",
     "grade": false,
     "grade_id": "cell-0134692ee9e64d1a",
     "locked": false,
     "schema_version": 3,
     "solution": true,
     "task": false
    }
   },
   "outputs": [],
   "source": [
    "N_RK2 = 0\n",
    "# YOUR CODE HERE\n",
    "raise NotImplementedError()"
   ]
  },
  {
   "cell_type": "code",
   "execution_count": null,
   "metadata": {
    "deletable": false,
    "editable": false,
    "nbgrader": {
     "cell_type": "code",
     "checksum": "929a9c53cf2457ad66c0025f9a308bf9",
     "grade": true,
     "grade_id": "cell-955ae427255f1c46",
     "locked": true,
     "points": 5,
     "schema_version": 3,
     "solution": false,
     "task": false
    }
   },
   "outputs": [],
   "source": [
    "#Testing answer \n"
   ]
  },
  {
   "cell_type": "code",
   "execution_count": null,
   "metadata": {
    "deletable": false,
    "nbgrader": {
     "cell_type": "code",
     "checksum": "9cbf060aec736ebeaec67abd08b729e1",
     "grade": false,
     "grade_id": "cell-3675badd5497bcf7",
     "locked": false,
     "schema_version": 3,
     "solution": true,
     "task": false
    }
   },
   "outputs": [],
   "source": [
    "# Your plot\n",
    "\n",
    "# YOUR CODE HERE\n",
    "raise NotImplementedError()"
   ]
  },
  {
   "cell_type": "markdown",
   "metadata": {
    "deletable": false,
    "nbgrader": {
     "cell_type": "markdown",
     "checksum": "9113444ae2a404b938ce0b1c5cb2b3f9",
     "grade": true,
     "grade_id": "cell-39a1f919bff8a20b",
     "locked": false,
     "points": 0,
     "schema_version": 3,
     "solution": true,
     "task": false
    }
   },
   "source": [
    "YOUR ANSWER HERE"
   ]
  },
  {
   "cell_type": "markdown",
   "metadata": {},
   "source": [
    "\n",
    "3. Will adaptive time stepping alleviate the problem? Use the method `RK23` of the Python\n",
    "routine `solve_ivp` to solve this problem to a tolerance of $10^{-4}.$ How many\n",
    "steps (N_RK23) does it require? What can you conclude from this example?\n"
   ]
  },
  {
   "cell_type": "code",
   "execution_count": null,
   "metadata": {
    "deletable": false,
    "nbgrader": {
     "cell_type": "code",
     "checksum": "c8f9795d5972b0a575ec83aa7dd09f46",
     "grade": false,
     "grade_id": "cell-a61c723214182914",
     "locked": false,
     "schema_version": 3,
     "solution": true,
     "task": false
    }
   },
   "outputs": [],
   "source": [
    "N_RK23 = 0\n",
    "# YOUR CODE HERE\n",
    "raise NotImplementedError()"
   ]
  },
  {
   "cell_type": "code",
   "execution_count": null,
   "metadata": {
    "deletable": false,
    "editable": false,
    "nbgrader": {
     "cell_type": "code",
     "checksum": "6bf2be3dc44d0936243fc1912839b6a1",
     "grade": true,
     "grade_id": "cell-95279aa65957923e",
     "locked": true,
     "points": 4,
     "schema_version": 3,
     "solution": false,
     "task": false
    }
   },
   "outputs": [],
   "source": [
    "#Testing answer \n"
   ]
  },
  {
   "cell_type": "markdown",
   "metadata": {
    "deletable": false,
    "nbgrader": {
     "cell_type": "markdown",
     "checksum": "3f22d66dc126703d5b4b6f4a912a9eef",
     "grade": true,
     "grade_id": "cell-f455143360d19fa3",
     "locked": false,
     "points": 1,
     "schema_version": 3,
     "solution": true,
     "task": false
    }
   },
   "source": [
    "YOUR ANSWER HERE"
   ]
  },
  {
   "cell_type": "markdown",
   "metadata": {},
   "source": [
    "# Exercise 4: Conservative Schemes\n",
    "Consider the following parametric\n",
    "representation for a circle of radius $r$: $(x,y)=(r\\cos \\theta ,r\\sin\\theta ).$ Differentiating with respect to $\\theta $ we obtain the following\n",
    "system of ODE:\n",
    "\n",
    "\\begin{align*}\n",
    "x^{\\prime } &=&-y,\\text{ }x(0)=r \\\\\n",
    "y^{\\prime } &=&x,\\text{ }y(0)=0\n",
    "\\end{align*}\n",
    "\n",
    "whose solution trajectory $(x(\\theta ),y(\\theta ))$ is, by construction, a\n",
    "circle of radius $r.$\n",
    "\n",
    "\n",
    "1. Use the Forward Euler, the Backward Euler, and the trapezoidal methods\n",
    "to solve this system and plot the solution trajectories $(x(\\theta),y(\\theta )).$ In your simulations use $h=0.02$ over the interval $0\\leq\\theta \\leq 120.$ Is the expected circle reproduced in each case?"
   ]
  },
  {
   "cell_type": "code",
   "execution_count": null,
   "metadata": {
    "deletable": false,
    "nbgrader": {
     "cell_type": "code",
     "checksum": "d3e0e8fda384d34d43a79ea195a7e9dc",
     "grade": false,
     "grade_id": "cell-e27b8ea9b08b2ec8",
     "locked": false,
     "schema_version": 3,
     "solution": true,
     "task": false
    }
   },
   "outputs": [],
   "source": [
    "# Your plots\n",
    "\n",
    "# YOUR CODE HERE\n",
    "raise NotImplementedError()"
   ]
  },
  {
   "cell_type": "markdown",
   "metadata": {
    "deletable": false,
    "nbgrader": {
     "cell_type": "markdown",
     "checksum": "ef191b20b3f0ce58c32c5ffd553ae457",
     "grade": true,
     "grade_id": "cell-98032cc633c88330",
     "locked": false,
     "points": 5,
     "schema_version": 3,
     "solution": true,
     "task": false
    }
   },
   "source": [
    "YOUR ANSWER HERE"
   ]
  },
  {
   "cell_type": "markdown",
   "metadata": {},
   "source": [
    "2. By multiplying the first equation by $x$ and the second equation by $y$\n",
    ", adding the two resulting equations, and integrating, show that the\n",
    "quantity $r^{2}=$ constant is a conserved quantity of the system of ODE\n",
    "(given the source of the ODE this is to be expected). By performing a\n",
    "similar analysis on each of the difference equations for the numerical\n",
    "schemes in (a), determine the extent to which they will conserve the radius (find a relation between the squared radii $R_n^2$ and $R_{n+1}^2$).\n",
    "Use the results of your analysis to explain the numerical results that you\n",
    "obtained in (a).\n",
    "\n",
    "- Forward Euler :"
   ]
  },
  {
   "cell_type": "markdown",
   "metadata": {
    "deletable": false,
    "nbgrader": {
     "cell_type": "markdown",
     "checksum": "9d2654b5fec63728e69db969b00f7265",
     "grade": true,
     "grade_id": "cell-1f96065835897c9b",
     "locked": false,
     "points": 5,
     "schema_version": 3,
     "solution": true,
     "task": false
    }
   },
   "source": [
    "YOUR ANSWER HERE"
   ]
  },
  {
   "cell_type": "markdown",
   "metadata": {},
   "source": [
    "- Backward Euler:"
   ]
  },
  {
   "cell_type": "markdown",
   "metadata": {
    "deletable": false,
    "nbgrader": {
     "cell_type": "markdown",
     "checksum": "1537dc12aa072d37869c6af045dae55f",
     "grade": true,
     "grade_id": "cell-dc7c4fd0ffcce261",
     "locked": false,
     "points": 5,
     "schema_version": 3,
     "solution": true,
     "task": false
    }
   },
   "source": [
    "YOUR ANSWER HERE"
   ]
  },
  {
   "cell_type": "markdown",
   "metadata": {},
   "source": [
    "- Traperzium rule:"
   ]
  },
  {
   "cell_type": "markdown",
   "metadata": {
    "deletable": false,
    "nbgrader": {
     "cell_type": "markdown",
     "checksum": "391742bb443c2ec649ee747792dc9360",
     "grade": true,
     "grade_id": "cell-ce6baa654ac3bedc",
     "locked": false,
     "points": 5,
     "schema_version": 3,
     "solution": true,
     "task": false
    }
   },
   "source": [
    "YOUR ANSWER HERE"
   ]
  },
  {
   "cell_type": "markdown",
   "metadata": {},
   "source": [
    "# Exercise 5: Runge-Kutta-Fehlberg Schemes\n",
    "\n",
    "In practice researchers use packages to solve ODE initial value problems.\n",
    "One of the basic ingredients of these packages is logic that controls the\n",
    "step size automatically. In order to get an idea of how these schemes work\n",
    "we will go through the process of building a simple on based on RK-2 and\n",
    "RK-3. We consider the two schemes:\n",
    "\n",
    "- RK-2: $Y_{k+1}^{(2)}=Y_{k}+\\frac{h}{2}(m_{1}+m_{2})$\n",
    "\n",
    "- RK-3: $Y_{k+1}^{(3)}=Y_{k}+\\frac{h}{6}(m_{1}+4m_{3}+m_{2})$\n",
    "\n",
    "where $m_{1}=f(x_{k},Y_{k}),$ $m_{2}=f(x_{k+1},Y_{k}+hm_{1}),$ $m_{3}=f(x_{k}+\\frac{h}{2},Y_{k}+\\frac{h}{4}(m_{1}+m_{2}))$\n",
    "\n",
    "Let $\\Delta =Y_{k+1}^{(3)}-Y_{k+1}^{(2)}$ and verify that $\\Delta =$ $\\frac{h}{3}(2m_{3}-m_{1}-m_{2}).$ Now because of the difference in accuracy between\n",
    "the two methods $\\Delta \\approx h^{3}y^{(3)}(\\xi )/6\\triangleq \\alpha h^{3}.$\n",
    "We are going to use this fact to perform our step size adjustment\n",
    "automatically. Since $\\Delta $ is a measure of the error in the less\n",
    "accurate approximations $Y_{k+1}^{(2)}$ we have at any step in the process\n",
    "an idea of how well the algorithm is performing. If, in going from $k $ to $k+1$, we have used a step size $h_{1}$ then the associated error is $\\Delta_{1}=\\alpha h_{1}^{3}.$ If this error is unacceptable in terms of some\n",
    "criterion then we can estimate how small we need to choose the new step size \n",
    "$h_{2}$ in order to achieve an error $\\Delta _{2}$ which is within a given\n",
    "tolerance by choosing:\n",
    "\n",
    "\\begin{equation*}\n",
    "h_{2}=h_{1}\\left(\\frac{\\Delta _{2}}{\\Delta _{1}}\\right)^{\\frac{1}{3}} \n",
    "\\end{equation*}\n",
    "\n",
    "The calculation with $h_{1}$ is rejected and a new candidate using the\n",
    "smaller step size $h_{2}$ is considered. This process is repeated until the\n",
    "error is acceptable (in which case we proceed to the next step) or the step\n",
    "size falls below some minimum specified value (in which case the routine\n",
    "terminates with an error message).\n",
    "\n",
    "Write such a Runge-Kutta-Fehlberg routine following the this pseudo code:\n",
    "\n",
    "#### Algorithm:\n",
    "The RKF-23 scheme:\n",
    "\n",
    "Initialize: $x=a,$ $y=y_{0},$ $h_{\\max }=(b-a)/10,$ $h_{\\min }=(b-a)/10000,$ \n",
    "$h=(b-a)/100.$\n",
    "\n",
    "do while $x<b,$ and $h>h_{\\min }$\n",
    "> if $x+h>b$ then set $h=b-x$<br />\n",
    "> Calculate the slopes:<br />\n",
    ">> $m_{1}=f(x,y),$<br />\n",
    ">> $ m_{2}=f(x+h,y+h\\ast m_{1}),$<br />\n",
    ">> $m_{3}=f(x+\\frac{h}{2},y+\\frac{h}{4}\\ast (m_{1}+m_{2}))$<br />\n",
    "\n",
    "> Estimate the error $\\Delta $ and the error $\\mathcal{E}$ we would<br />\n",
    "find acceptable<br />\n",
    ">> $\\Delta =||\\frac{h}{3}(2m_{3}-m_{1}-m_{2})||_{\\infty }$<br />\n",
    ">> $\\mathcal{E=}\\epsilon ||y||_{\\infty }$ <br />\n",
    "\n",
    "> Update the solution if error is acceptable<br />\n",
    ">> if $\\Delta \\leq \\mathcal{E}$ then<br />\n",
    ">>>  $x=x+h$<br />\n",
    ">>> $y=y+\\frac{h}{6}(m_{1}+4m_{3}+m_{2})$<br />\n",
    "\n",
    ">> end if<br />\n",
    "\n",
    "> Update the step size<br />\n",
    ">> If $\\Delta \\neq 0$ then set $h=\\min \\left\\{ h_{\\max },0.8h(\\frac{\\mathcal{E}}{\\Delta })^{\\frac{1}{3}}\\right\\} $<br />\n",
    "\n",
    "end do<br />\n",
    "if $x<b$ then print an error message.<br />"
   ]
  },
  {
   "cell_type": "code",
   "execution_count": null,
   "metadata": {
    "deletable": false,
    "nbgrader": {
     "cell_type": "code",
     "checksum": "4541f92ea6cb62fa1feb50dcc3d70e14",
     "grade": false,
     "grade_id": "cell-193b0e28b2d38dec",
     "locked": false,
     "schema_version": 3,
     "solution": true,
     "task": false
    }
   },
   "outputs": [],
   "source": [
    "def RKF_23(fun,a,b,y0,tol):\n",
    "    times = [a]\n",
    "    vals = [y0]\n",
    "    # YOUR CODE HERE\n",
    "    raise NotImplementedError()\n",
    "    return np.array(times), np.array(vals)"
   ]
  },
  {
   "cell_type": "markdown",
   "metadata": {
    "deletable": false,
    "editable": false,
    "nbgrader": {
     "cell_type": "markdown",
     "checksum": "6ffa489b9f400ecf7339259cde0cffd3",
     "grade": false,
     "grade_id": "cell-051963ca9931a5fd",
     "locked": true,
     "points": 10,
     "schema_version": 3,
     "solution": false,
     "task": true
    }
   },
   "source": [
    "1. Use the routine to solve the logistic equations $y^{\\prime }=2y(100-y),$ $y(a)=10,$ and $[a,b]=[0,0.5].$ \n",
    "Compare (plot) your solution to the analytic solution and that\n",
    "obtained from your RK-4 routine using the same number of steps, but\n",
    "uniformly distributed over the interval $[a,b].$"
   ]
  },
  {
   "cell_type": "code",
   "execution_count": null,
   "metadata": {
    "deletable": false,
    "nbgrader": {
     "cell_type": "code",
     "checksum": "32e3bfd37092f081962a20f394265082",
     "grade": false,
     "grade_id": "cell-aa29876ca1b50e5a",
     "locked": false,
     "schema_version": 3,
     "solution": true,
     "task": false
    }
   },
   "outputs": [],
   "source": [
    "# Your plot\n",
    "# YOUR CODE HERE\n",
    "raise NotImplementedError()"
   ]
  },
  {
   "cell_type": "code",
   "execution_count": null,
   "metadata": {
    "deletable": false,
    "editable": false,
    "nbgrader": {
     "cell_type": "code",
     "checksum": "33e59141ef37d4745e38579a164e1ab0",
     "grade": true,
     "grade_id": "cell-70a24791e59c8551",
     "locked": true,
     "points": 0,
     "schema_version": 3,
     "solution": false,
     "task": false
    }
   },
   "outputs": [],
   "source": [
    "#Testing answer \n"
   ]
  },
  {
   "cell_type": "code",
   "execution_count": null,
   "metadata": {
    "deletable": false,
    "editable": false,
    "nbgrader": {
     "cell_type": "code",
     "checksum": "01d5d6aedfa2e2d4f6630b62b17704da",
     "grade": true,
     "grade_id": "cell-0521f47312651a22",
     "locked": true,
     "points": 15,
     "schema_version": 3,
     "solution": false,
     "task": false
    }
   },
   "outputs": [],
   "source": [
    "#Testing answer \n"
   ]
  },
  {
   "cell_type": "markdown",
   "metadata": {
    "deletable": false,
    "nbgrader": {
     "cell_type": "markdown",
     "checksum": "2c7064e9cd4b22aba89fd0e05a3e3faf",
     "grade": true,
     "grade_id": "cell-eb4bd915b42ef36c",
     "locked": false,
     "points": 5,
     "schema_version": 3,
     "solution": true,
     "task": false
    }
   },
   "source": [
    "YOUR ANSWER HERE"
   ]
  }
 ],
 "metadata": {
  "kernelspec": {
   "display_name": ".venv",
   "language": "python",
   "name": "python3"
  },
  "language_info": {
   "codemirror_mode": {
    "name": "ipython",
    "version": 3
   },
   "file_extension": ".py",
   "mimetype": "text/x-python",
   "name": "python",
   "nbconvert_exporter": "python",
   "pygments_lexer": "ipython3",
   "version": "3.12.3"
  }
 },
 "nbformat": 4,
 "nbformat_minor": 4
}
