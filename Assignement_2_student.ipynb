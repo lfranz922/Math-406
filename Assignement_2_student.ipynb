{
 "cells": [
  {
   "cell_type": "markdown",
   "metadata": {},
   "source": [
    "Before you turn this problem in, make sure everything runs as expected. First, **restart the kernel** (in the menubar, select Kernel $\\rightarrow$ Restart) and then **run all cells** (in the menubar, select Cell $\\rightarrow$ Run All).\n",
    "\n",
    "Make sure you fill in any place that says `YOUR CODE HERE` or \"YOUR ANSWER HERE\". DO NOT edit cells except the one containing `YOUR CODE HERE` or \"YOUR ANSWER HERE\".  \n",
    "Make sure you fill  your name and student number below:"
   ]
  },
  {
   "cell_type": "code",
   "execution_count": 79,
   "metadata": {},
   "outputs": [],
   "source": [
    "NAME = \"Lukas Franz\"\n",
    "STUDENT_NUMBER = \"23501307\""
   ]
  },
  {
   "cell_type": "markdown",
   "metadata": {},
   "source": [
    "---"
   ]
  },
  {
   "cell_type": "code",
   "execution_count": 80,
   "metadata": {
    "deletable": false,
    "editable": false,
    "nbgrader": {
     "cell_type": "code",
     "checksum": "b72d6e5b4c1ccadb0b80d7238a868b17",
     "grade": false,
     "grade_id": "cell-ceb5875c5402a17c",
     "locked": true,
     "schema_version": 3,
     "solution": false,
     "task": false
    }
   },
   "outputs": [],
   "source": [
    "import numpy as np \n",
    "import matplotlib.pyplot as plt \n",
    "from numpy.testing import assert_allclose as nassert"
   ]
  },
  {
   "cell_type": "markdown",
   "metadata": {},
   "source": [
    "# Numerical Integration:\n",
    "## 1 Integration Methods Comparision\n",
    "Write routines to perform numerical integration of a user-defined function $\n",
    "f(x)$ over an interval $[a,b]$: $I=\\int_{a}^{b}f(x)dx$ by means of : the\n",
    "Midpoint rule with $N$ cells, the Trapezium rule with $N$ cells, Simpson's\n",
    "rule with $2N$ cells and three point Gauss-Legendre quadrature in each of $N$\n",
    "cells. Use these routines to evaluate the integrals (a)-(e) below. In each\n",
    "case complete a table  A of the form:\n",
    "\n",
    "| $N$ | Midpoint | Trapezium | Simpson | Gauss-Legendre |\n",
    "| ----- | ----- | ----- |-----  | ----- |\n",
    "| $2$ | $A_{0,0}$ | $A_{0,1}$ |$A_{0,2}$  | $A_{0,3}$ |\n",
    "| $4$ | $A_{1,0}$ | $A_{1,1}$ | $A_{1,2}$ | $A_{1,3}$ |\n",
    "| $16$ | $A_{2,0}$ | $A_{2,1}$ | $A_{2,2}$ | $A_{2,3}$ |\n",
    "| $32$ | $A_{3,0}$ | $A_{3,1}$ | $A_{3,2}$ | $A_{3,3}$ |"
   ]
  },
  {
   "cell_type": "markdown",
   "metadata": {},
   "source": [
    "\n",
    "and determine the rate of convergence of the algorithms by calculating the\n",
    "error for different values of $N$. Compare the performance of the different\n",
    "algorithms for each of the given integrals by establishing the order of the\n",
    "error term. Using the error estimate derived in class try to explain the\n",
    "different error behaviour for each of integrands.\n"
   ]
  },
  {
   "cell_type": "markdown",
   "metadata": {},
   "source": [
    "\n",
    "\n",
    "\n",
    "-  (a) $I=\\int_{0}^{\\pi }x\\cos \\left( 3x\\right) dx=-\\frac{2}{9}$ \n"
   ]
  },
  {
   "cell_type": "code",
   "execution_count": 103,
   "metadata": {
    "deletable": false,
    "nbgrader": {
     "cell_type": "code",
     "checksum": "848e9a9595966bedf1212506c9f5b9b9",
     "grade": false,
     "grade_id": "cell-357a5e93eea9ecef",
     "locked": false,
     "schema_version": 3,
     "solution": true,
     "task": false
    }
   },
   "outputs": [
    {
     "name": "stdout",
     "output_type": "stream",
     "text": [
      "-0.2222222222222222\n",
      "--- N = 2 ---\n",
      "midpoint: 1.7447160499097205  error:  1.9669382721319426\n",
      "trapezium: -2.4674011002723404  error:  2.245178878050118\n",
      "simpson: 0.34067699984903355  error:  0.5628992220712558\n",
      "GL: -0.1950752363233642  error:  0.027146985898858\n",
      "--- N = 4 ---\n",
      "midpoint: -0.13827979779585342  error:  0.08394242442636879\n",
      "trapezium: -0.3613425251813097  error:  0.1391203029590875\n",
      "simpson: -0.2126340402576721  error:  0.009588181964550108\n",
      "GL: -0.22209713570323153  error:  0.00012508651899068024\n",
      "--- N = 16 ---\n",
      "midpoint: -0.21891041334777084  error:  0.003311808874451372\n",
      "trapezium: -0.22876077554016977  error:  0.00653855331794756\n",
      "simpson: -0.22219386741190714  error:  2.8354810315073253e-05\n",
      "GL: -0.2222221988133623  error:  2.3408859906037804e-08\n",
      "--- N = 32 ---\n",
      "midpoint: -0.22141291211797792  error:  0.0008093101042442874\n",
      "trapezium: -0.2238355944439699  error:  0.0016133722217476776\n",
      "simpson: -0.22222047289331623  error:  1.749328905981118e-06\n",
      "GL: -0.22222222186098567  error:  3.6123654068020983e-10\n"
     ]
    }
   ],
   "source": [
    "A = np.zeros((4,4)) \n",
    "\n",
    "# YOUR CODE HERE\n",
    "\n",
    "def f(x):\n",
    "    return x * np.cos(3*x)\n",
    "\n",
    "def midpoint(f, N, a, b):\n",
    "    dx = (b-a)/N\n",
    "    I = 0\n",
    "    for i in range(N):\n",
    "        I+= dx*f(a+dx*i + dx/2)\n",
    "\n",
    "    return I\n",
    "\n",
    "def midpoint_width(f, dx, a, b):\n",
    "    I = 0\n",
    "    i = 0\n",
    "    while a+dx*i <= b:\n",
    "        I+= dx*f(a+dx*i + dx/2)\n",
    "        i+=1\n",
    "\n",
    "    return I\n",
    "\n",
    "def trapezuim(f, N, a, b):\n",
    "    dx = (b-a)/N\n",
    "    I = 0\n",
    "    for i in range(N):\n",
    "        I += 0.5*dx*(f(a+i*dx) + f(a + (i+1)*dx))\n",
    "\n",
    "    return I\n",
    "\n",
    "def trapezuim_width(f, dx, a, b):\n",
    "    I = 0\n",
    "    i = 0\n",
    "    while a + (i+1)*dx <= b:\n",
    "        I += 0.5*dx*(f(a+i*dx) + f(a + (i+1)*dx))\n",
    "        i+=1\n",
    "\n",
    "    return I\n",
    "\n",
    "def simpson(f, N, a, b):\n",
    "    n = 2*N\n",
    "    h=(b-a)/n\n",
    "    k=0.0\n",
    "    x=a + h\n",
    "    for i in range(1, N + 1):\n",
    "        k += 4*f(x)\n",
    "        x += 2*h\n",
    "\n",
    "    x = a + 2*h\n",
    "    for i in range(1,N):\n",
    "        k += 2*f(x)\n",
    "        x += 2*h\n",
    "    return (h/3)*(f(a)+f(b)+k)\n",
    "\n",
    "def GL(f, N , a, b):\n",
    "    dx = (b-a)/N\n",
    "    xk = dx / 2 \n",
    "    I = 0\n",
    "    for i in range(N):\n",
    "        I += dx / 2 * (  5/9 * f(a + i*dx + xk - np.sqrt(3/5) *dx/2)\n",
    "                       + 8/9 * f(a + i*dx + xk ) \n",
    "                       + 5/9 * f(a + i*dx + xk + np.sqrt(3/5) *dx/2))\n",
    "        \n",
    "    return I\n",
    "\n",
    "def GL_width(f, dx , a, b):\n",
    "    xk = dx / 2 \n",
    "    I = 0\n",
    "    i = 0\n",
    "    while a + i*dx + xk <= b:\n",
    "        I += dx / 2 * (  5/9 * f(a + i*dx + xk - np.sqrt(3/5) *dx/2)\n",
    "                       + 8/9 * f(a + i*dx + xk ) \n",
    "                       + 5/9 * f(a + i*dx + xk + np.sqrt(3/5) *dx/2))\n",
    "        i+=1\n",
    "        \n",
    "    return I\n",
    "\n",
    "\n",
    "exact = -2/9\n",
    "print(-2/9)\n",
    "a = 0\n",
    "b = np.pi\n",
    "for N in [2,4,16,32]:\n",
    "    print(f\"--- N = {N} ---\")\n",
    "    mp = midpoint(f, N, a, b)\n",
    "    trp = trapezuim(f, N, a, b)\n",
    "    simp = simpson(f, N, a, b)\n",
    "    gl = GL(f, N, a, b)\n",
    "    print(\"midpoint:\", mp, \" error: \", abs(exact-mp))\n",
    "    print(\"trapezium:\", trp, \" error: \", abs(exact-trp))\n",
    "    print(\"simpson:\", simp, \" error: \", abs(exact-simp))\n",
    "    print(\"GL:\", gl, \" error: \", abs(exact-gl))\n",
    "\n",
    "for i, N in enumerate([2,4,16,32]):\n",
    "    A[i][0] = midpoint(f, N, a, b)\n",
    "    A[i][1] = trapezuim(f, N, a, b)\n",
    "    A[i][2] = simpson(f, N, a, b)\n",
    "    A[i][3] = GL(f, N, a, b)\n"
   ]
  },
  {
   "cell_type": "code",
   "execution_count": 82,
   "metadata": {
    "deletable": false,
    "editable": false,
    "nbgrader": {
     "cell_type": "code",
     "checksum": "1a7e046a48b8f9bcce77f8305c69cd43",
     "grade": true,
     "grade_id": "cell-6b1231882c47010b",
     "locked": true,
     "points": 5,
     "schema_version": 3,
     "solution": false,
     "task": false
    }
   },
   "outputs": [],
   "source": [
    "#Testing answer \n"
   ]
  },
  {
   "cell_type": "markdown",
   "metadata": {},
   "source": [
    "Order of the error terms for the different methods and explanation :"
   ]
  },
  {
   "cell_type": "markdown",
   "metadata": {
    "deletable": false,
    "nbgrader": {
     "cell_type": "markdown",
     "checksum": "0267e7717ecb33a77c45a42b2686ca3f",
     "grade": true,
     "grade_id": "cell-2ccfef4492c47716",
     "locked": false,
     "points": 5,
     "schema_version": 3,
     "solution": true,
     "task": false
    }
   },
   "source": [
    "YOUR ANSWER HERE\n",
    "\n",
    "Midpoint Rule has $O(h^2)$ Error\n",
    "\n",
    "Trapezium rule has $O(h^2)$ Error \n",
    "\n",
    "Simpson's rule has $O(h^4)$ Error \n",
    "\n",
    "Gauss-Legendre has $O(h^{2n})$ Error\n",
    "\n",
    "Low N estimates are accurate in increasing order:\n",
    "1. Trapezium Rule\n",
    "2. Midpoint Rule\n",
    "3. Simpson's rule\n",
    "4. Gauss-Legendre\n",
    "\n",
    "High N estimates are accurate in increasing order:\n",
    "1. Trapezium Rule\n",
    "2. Midpoint Rule\n",
    "3. Simpson's rule\n",
    "4. Gauss-Legendre"
   ]
  },
  {
   "cell_type": "markdown",
   "metadata": {},
   "source": [
    "-  (b) $I=\\int_{0}^{\\pi }\\sin ^{4}2xdx=\\frac{3}{8}\\pi $"
   ]
  },
  {
   "cell_type": "code",
   "execution_count": 83,
   "metadata": {
    "deletable": false,
    "nbgrader": {
     "cell_type": "code",
     "checksum": "63a63b51a8fb91cfdc817b69811b9b25",
     "grade": false,
     "grade_id": "cell-23a69516abca67f4",
     "locked": false,
     "schema_version": 3,
     "solution": true,
     "task": false
    }
   },
   "outputs": [
    {
     "name": "stdout",
     "output_type": "stream",
     "text": [
      "1.1780972450961724\n",
      "--- N = 2 ---\n",
      "midpoint: 3.141592653589793  error:  1.9634954084936207\n",
      "trapezium: 3.179843845553853e-63  error:  1.1780972450961724\n",
      "simpson: 2.0943951023931953  error:  0.9162978572970228\n",
      "GL: 1.4214836726417794  error:  0.24338642754560702\n",
      "--- N = 4 ---\n",
      "midpoint: 0.7853981633974485  error:  0.3926990816987239\n",
      "trapezium: 1.5707963267948966  error:  0.39269908169872414\n",
      "simpson: 1.0471975511965976  error:  0.1308996938995748\n",
      "GL: 1.169279501190392  error:  0.008817743905780384\n",
      "--- N = 16 ---\n",
      "midpoint: 1.1780972450961722  error:  2.220446049250313e-16\n",
      "trapezium: 1.1780972450961724  error:  0.0\n",
      "simpson: 1.1780972450961722  error:  2.220446049250313e-16\n",
      "GL: 1.178097245096172  error:  4.440892098500626e-16\n",
      "--- N = 32 ---\n",
      "midpoint: 1.1780972450961722  error:  2.220446049250313e-16\n",
      "trapezium: 1.1780972450961724  error:  0.0\n",
      "simpson: 1.1780972450961713  error:  1.1102230246251565e-15\n",
      "GL: 1.1780972450961722  error:  2.220446049250313e-16\n"
     ]
    }
   ],
   "source": [
    "A = np.zeros((4,4)) \n",
    "# YOUR CODE HERE\n",
    "# raise NotImplementedError()\n",
    "\n",
    "def f(x):\n",
    "    return np.sin(2*x)**4\n",
    "\n",
    "print(3/8 *np.pi)\n",
    "exact = 3/8 *np.pi\n",
    "# print(\"midpoint:\", abs(exact - midpoint(f, 2, a, b)))\n",
    "# print(\"trapezium:\", abs(exact - trapezuim(f, 2, a, b)))\n",
    "# print(\"simpson:\", abs(exact - simpson(f, 2, a, b)))\n",
    "# print(\"GL:\", abs(exact - GL(f, 2, a, b)))\n",
    "\n",
    "\n",
    "a = 0\n",
    "b = np.pi\n",
    "for N in [2,4,16,32]:\n",
    "    print(f\"--- N = {N} ---\")\n",
    "    mp = midpoint(f, N, a, b)\n",
    "    trp = trapezuim(f, N, a, b)\n",
    "    simp = simpson(f, N, a, b)\n",
    "    gl = GL(f, N, a, b)\n",
    "    print(\"midpoint:\", mp, \" error: \", abs(mp-exact))\n",
    "    print(\"trapezium:\", trp, \" error: \", abs(trp-exact))\n",
    "    print(\"simpson:\", simp, \" error: \", abs(simp-exact))\n",
    "    print(\"GL:\", gl, \" error: \", abs(gl-exact))\n",
    "\n",
    "for i, N in enumerate([2,4,16,32]):\n",
    "    A[i, 0] = midpoint(f, N, a, b)\n",
    "    A[i, 1] = trapezuim(f, N, a, b)\n",
    "    A[i, 2] = simpson(f, N, a, b)\n",
    "    A[i, 3] = GL(f, N, a, b)"
   ]
  },
  {
   "cell_type": "code",
   "execution_count": 84,
   "metadata": {
    "deletable": false,
    "editable": false,
    "nbgrader": {
     "cell_type": "code",
     "checksum": "33078c2bb162e73e0786d40bddc4c9e7",
     "grade": true,
     "grade_id": "cell-50b19854d4d329bd",
     "locked": true,
     "points": 5,
     "schema_version": 3,
     "solution": false,
     "task": false
    }
   },
   "outputs": [],
   "source": [
    "#Testing answer \n"
   ]
  },
  {
   "cell_type": "markdown",
   "metadata": {},
   "source": [
    "Order of the error terms for the different methods and explanation :"
   ]
  },
  {
   "cell_type": "code",
   "execution_count": null,
   "metadata": {},
   "outputs": [],
   "source": []
  },
  {
   "cell_type": "markdown",
   "metadata": {
    "deletable": false,
    "nbgrader": {
     "cell_type": "markdown",
     "checksum": "af4b91abbb903f157879c6c90b2d89fc",
     "grade": true,
     "grade_id": "cell-e0998b8e3d283641",
     "locked": false,
     "points": 5,
     "schema_version": 3,
     "solution": true,
     "task": false
    }
   },
   "source": [
    "YOUR ANSWER HERE\n",
    "\n",
    "Midpoint Rule has $O(h^2)$ Error\n",
    "\n",
    "Trapezium rule has $O(h^2)$ Error \n",
    "\n",
    "Simpson's rule has $O(h^4)$ Error \n",
    "\n",
    "Gauss-Legendre has $O(h^{2n})$ Error\n",
    "\n",
    "Low N estimates are accurate in increasing order:\n",
    "1. Midpoint Rule\n",
    "2. Trapezium Rule\n",
    "3. Simpson's rule\n",
    "4. Gauss-Legendre\n",
    "\n",
    "High N estimates are accurate in increasing order:\n",
    "1. Simpson Rule\n",
    "2. Gaussian-Legendre\n",
    "2. Midpoint's Rule\n",
    "3. Trapezium Rule"
   ]
  },
  {
   "cell_type": "markdown",
   "metadata": {},
   "source": [
    "-  (c) $I=\\int_{0}^{1}x^{\\frac{3}{2}}dx=\\frac{2}{5}$ "
   ]
  },
  {
   "cell_type": "code",
   "execution_count": 85,
   "metadata": {
    "deletable": false,
    "nbgrader": {
     "cell_type": "code",
     "checksum": "bb0b1e0705bb32718c7f20841f007fe3",
     "grade": false,
     "grade_id": "cell-1e7cc34e70bcdeda",
     "locked": false,
     "schema_version": 3,
     "solution": true,
     "task": false
    }
   },
   "outputs": [
    {
     "name": "stdout",
     "output_type": "stream",
     "text": [
      "0.4\n",
      "--- N = 2 ---\n",
      "midpoint: 0.3872595264191645  error:  0.01274047358083552\n",
      "trapezium: 0.42677669529663687  error:  0.026776695296636843\n",
      "simpson: 0.4004319160449886  error:  0.0004319160449886006\n",
      "GL: 0.39996676288406474  error:  3.323711593528067e-05\n",
      "--- N = 4 ---\n",
      "midpoint: 0.3966068187420478  error:  0.003393181257952238\n",
      "trapezium: 0.4070181108579007  error:  0.007018110857900661\n",
      "simpson: 0.40007724944733214  error:  7.724944733211725e-05\n",
      "GL: 0.39999412290282765  error:  5.877097172368728e-06\n",
      "--- N = 16 ---\n",
      "midpoint: 0.39977194111750863  error:  0.00022805888249138873\n",
      "trapezium: 0.40046340130204794  error:  0.00046340130204791663\n",
      "simpson: 0.4000024278456883  error:  2.427845688268704e-06\n",
      "GL: 0.39999981633560144  error:  1.8366439857864236e-07\n",
      "--- N = 32 ---\n",
      "midpoint: 0.39994180851527916  error:  5.8191484720859776e-05\n",
      "trapezium: 0.4001176712097782  error:  0.00011767120977818069\n",
      "simpson: 0.4000004294134456  error:  4.2941344557956285e-07\n",
      "GL: 0.39999996753240785  error:  3.246759217034878e-08\n"
     ]
    }
   ],
   "source": [
    "A = np.zeros((4,4)) \n",
    "# YOUR CODE HERE\n",
    "# raise NotImplementedError()\n",
    "\n",
    "def f(x):\n",
    "    return x**(3/2)\n",
    "\n",
    "print(2/5)\n",
    "exact = 2/5\n",
    "a = 0\n",
    "b = 1\n",
    "for N in [2,4,16,32]:\n",
    "    print(f\"--- N = {N} ---\")\n",
    "    mp = midpoint(f, N, a, b)\n",
    "    trp = trapezuim(f, N, a, b)\n",
    "    simp = simpson(f, N, a, b)\n",
    "    gl = GL(f, N, a, b)\n",
    "    print(\"midpoint:\", mp, \" error: \", abs(mp-exact))\n",
    "    print(\"trapezium:\", trp, \" error: \", abs(trp-exact))\n",
    "    print(\"simpson:\", simp, \" error: \", abs(simp-exact))\n",
    "    print(\"GL:\", gl, \" error: \", abs(gl-exact))\n",
    "\n",
    "for i, N in enumerate([2,4,16,32]):\n",
    "    A[i, 0] = midpoint(f, N, a, b)\n",
    "    A[i, 1] = trapezuim(f, N, a, b)\n",
    "    A[i, 2] = simpson(f, N, a, b)\n",
    "    A[i, 3] = GL(f, N, a, b)"
   ]
  },
  {
   "cell_type": "code",
   "execution_count": 86,
   "metadata": {
    "deletable": false,
    "editable": false,
    "nbgrader": {
     "cell_type": "code",
     "checksum": "3285d220e33816598d938953791060aa",
     "grade": true,
     "grade_id": "cell-ffc835df280f9a24",
     "locked": true,
     "points": 5,
     "schema_version": 3,
     "solution": false,
     "task": false
    }
   },
   "outputs": [],
   "source": [
    "#Testing answer \n"
   ]
  },
  {
   "cell_type": "markdown",
   "metadata": {},
   "source": [
    "Order of the error terms for the different methods and explanation :"
   ]
  },
  {
   "cell_type": "markdown",
   "metadata": {
    "deletable": false,
    "nbgrader": {
     "cell_type": "markdown",
     "checksum": "8ba5be3863bf2506338ce1a5e8f4b552",
     "grade": true,
     "grade_id": "cell-52f9aabfa240e86a",
     "locked": false,
     "points": 5,
     "schema_version": 3,
     "solution": true,
     "task": false
    }
   },
   "source": [
    "YOUR ANSWER HERE\n",
    "\n",
    "Midpoint Rule has $O(h^2)$ Error\n",
    "\n",
    "Trapezium rule has $O(h^2)$ Error \n",
    "\n",
    "Simpson's rule has $O(h^4)$ Error \n",
    "\n",
    "Gauss-Legendre has $O(h^{2n})$ Error\n",
    "\n",
    "Low N estimates are accurate in increasing order:\n",
    "1. Trapeziun Rule\n",
    "2. Midpoint Rule\n",
    "3. Simpson's rule\n",
    "4. Gauss-Legendre\n",
    "\n",
    "High N estimates are accurate in increasing order:\n",
    "1. Trapeziun Rule\n",
    "2. Midpoint Rule\n",
    "3. Simpson's rule\n",
    "4. Gauss-Legendre"
   ]
  },
  {
   "cell_type": "markdown",
   "metadata": {},
   "source": [
    "-  (d) $I=\\int_{0}^{1}x^{\\frac{1}{2}}dx=\\frac{2}{3}$"
   ]
  },
  {
   "cell_type": "code",
   "execution_count": 87,
   "metadata": {
    "deletable": false,
    "nbgrader": {
     "cell_type": "code",
     "checksum": "4d6cd324d05c0438a0f24034feae2de7",
     "grade": false,
     "grade_id": "cell-4178672a915990e1",
     "locked": false,
     "schema_version": 3,
     "solution": true,
     "task": false
    }
   },
   "outputs": [
    {
     "name": "stdout",
     "output_type": "stream",
     "text": [
      "0.6666666666666666\n",
      "--- N = 2 ---\n",
      "midpoint: 0.6830127018922193  error:  0.01634603522555267\n",
      "trapezium: 0.6035533905932737  error:  0.0631132760733929\n",
      "simpson: 0.6565262647925707  error:  0.010140401874095928\n",
      "GL: 0.667555450538809  error:  0.0008887838721424179\n",
      "--- N = 4 ---\n",
      "midpoint: 0.6729773970061621  error:  0.006310730339495474\n",
      "trapezium: 0.6432830462427466  error:  0.02338362042392006\n",
      "simpson: 0.6630792800850236  error:  0.0035873865816430373\n",
      "GL: 0.6669809063686559  error:  0.00031423970198929396\n",
      "--- N = 16 ---\n",
      "midpoint: 0.6675366756806553  error:  0.000870009013988704\n",
      "trapezium: 0.6635811968772282  error:  0.0030854697894384664\n",
      "simpson: 0.6662181827461795  error:  0.0004484839204871305\n",
      "GL: 0.6667059466765669  error:  3.928000990027769e-05\n",
      "--- N = 32 ---\n",
      "midpoint: 0.6669826864780721  error:  0.00031601981140549906\n",
      "trapezium: 0.6655589362789417  error:  0.0011077303877249367\n",
      "simpson: 0.6665081030783622  error:  0.00015856358830446116\n",
      "GL: 0.6666805542473822  error:  1.388758071552143e-05\n"
     ]
    }
   ],
   "source": [
    "A = np.zeros((4,4)) \n",
    "# YOUR CODE HERE\n",
    "# raise NotImplementedError()\n",
    "\n",
    "def f(x):\n",
    "    return x**0.5\n",
    "\n",
    "print(2/3)\n",
    "exact = 2/3\n",
    "a = 0\n",
    "b = 1\n",
    "for N in [2,4,16,32]:\n",
    "    print(f\"--- N = {N} ---\")\n",
    "    mp = midpoint(f, N, a, b)\n",
    "    trp = trapezuim(f, N, a, b)\n",
    "    simp = simpson(f, N, a, b)\n",
    "    gl = GL(f, N, a, b)\n",
    "    print(\"midpoint:\", mp, \" error: \", abs(mp-exact))\n",
    "    print(\"trapezium:\", trp, \" error: \", abs(trp-exact))\n",
    "    print(\"simpson:\", simp, \" error: \", abs(simp-exact))\n",
    "    print(\"GL:\", gl, \" error: \", abs(gl-exact))\n",
    "\n",
    "for i, N in enumerate([2,4,16,32]):\n",
    "    A[i, 0] = midpoint(f, N, a, b)\n",
    "    A[i, 1] = trapezuim(f, N, a, b)\n",
    "    A[i, 2] = simpson(f, N, a, b)\n",
    "    A[i, 3] = GL(f, N, a, b)"
   ]
  },
  {
   "cell_type": "code",
   "execution_count": 88,
   "metadata": {
    "deletable": false,
    "editable": false,
    "nbgrader": {
     "cell_type": "code",
     "checksum": "ead4fc543bb4c49d83102588df27069a",
     "grade": true,
     "grade_id": "cell-a4c83d7f46b54cfd",
     "locked": true,
     "points": 5,
     "schema_version": 3,
     "solution": false,
     "task": false
    }
   },
   "outputs": [],
   "source": [
    "#Testing answer \n"
   ]
  },
  {
   "cell_type": "markdown",
   "metadata": {},
   "source": [
    "Order of the error terms for the different methods and explanation :"
   ]
  },
  {
   "cell_type": "markdown",
   "metadata": {
    "deletable": false,
    "nbgrader": {
     "cell_type": "markdown",
     "checksum": "c59a2bbc78c74a1a130cb85bcbfd16fe",
     "grade": true,
     "grade_id": "cell-a4cef080a5bf711d",
     "locked": false,
     "points": 5,
     "schema_version": 3,
     "solution": true,
     "task": false
    }
   },
   "source": [
    "YOUR ANSWER HERE\n",
    "\n",
    "Midpoint Rule has $O(h^2)$ Error\n",
    "\n",
    "Trapezium rule has $O(h^2)$ Error \n",
    "\n",
    "Simpson's rule has $O(h^4)$ Error \n",
    "\n",
    "Gauss-Legendre has $O(h^{2n})$ Error\n",
    "\n",
    "Low N estimates are accurate in increasing order:\n",
    "1. Trapeziun Rule\n",
    "2. Midpoint Rule\n",
    "3. Simpson's rule\n",
    "4. Gauss-Legendre\n",
    "\n",
    "High N estimates are accurate in increasing order:\n",
    "1. Trapeziun Rule\n",
    "2. Midpoint Rule\n",
    "3. Simpson's rule\n",
    "4. Gauss-Legendre"
   ]
  },
  {
   "cell_type": "markdown",
   "metadata": {},
   "source": [
    "\n",
    "-  (e) $I=\\int_{0}^{1}\\left( -\\ln x\\right) ^{\\frac{3}{2}}dx= \\frac{3}{4}\\pi ^{1/2}$ (use only the open integration rules i.e. Midpoint and Gauss integration for this integral). Here the matrix A has only 2 columns"
   ]
  },
  {
   "cell_type": "code",
   "execution_count": 89,
   "metadata": {
    "deletable": false,
    "nbgrader": {
     "cell_type": "code",
     "checksum": "4ed77d43fcf7a168f5fa9afe2b20bbbc",
     "grade": false,
     "grade_id": "cell-94d55abe0da5e29d",
     "locked": false,
     "schema_version": 3,
     "solution": true,
     "task": false
    }
   },
   "outputs": [
    {
     "name": "stdout",
     "output_type": "stream",
     "text": [
      "1.329340388179137\n",
      "--- N = 2 ---\n",
      "midpoint: 0.893269018723937  error:  0.4360713694552\n",
      "GL: 1.2405344108479257  error:  0.08880597733121132\n",
      "--- N = 4 ---\n",
      "midpoint: 1.0852518060213605  error:  0.2440885821577765\n",
      "GL: 1.2820646197576333  error:  0.04727576842150372\n",
      "--- N = 16 ---\n",
      "midpoint: 1.2571966224311335  error:  0.07214376574800352\n",
      "GL: 1.3161946198369383  error:  0.013145768342198716\n",
      "--- N = 32 ---\n",
      "midpoint: 1.2908042738977374  error:  0.03853611428139958\n",
      "GL: 1.3224588602807557  error:  0.006881527898381368\n"
     ]
    }
   ],
   "source": [
    "A = np.zeros((4,2)) \n",
    "# YOUR CODE HERE\n",
    "# raise NotImplementedError()\n",
    "\n",
    "def f(x):\n",
    "    return pow(-np.log(x), 3./2)\n",
    "\n",
    "print(3/4 * np.pi**0.5)\n",
    "exact = 3/4 * np.pi**0.5\n",
    "a = 0\n",
    "b = 1\n",
    "for N in [2,4,16,32]:\n",
    "    print(f\"--- N = {N} ---\")\n",
    "    mp = midpoint(f, N, a, b)\n",
    "    # trp = trapezuim(f, N, a, b)\n",
    "    # simp = simpson(f, N, a, b)\n",
    "    gl = GL(f, N, a, b)\n",
    "    print(\"midpoint:\", mp, \" error: \", abs(mp-exact))\n",
    "    # print(\"trapezium:\", trp, \" error: \", abs(trp-exact))\n",
    "    # print(\"simpson:\", simp, \" error: \", abs(simp-exact))\n",
    "    print(\"GL:\", gl, \" error: \", abs(gl-exact))\n",
    "\n",
    "\n",
    "for i, N in enumerate([2,4,16,32]):\n",
    "    A[i, 0] = midpoint(f, N, a, b)\n",
    "    A[i, 1] = GL(f, N, a, b)                "
   ]
  },
  {
   "cell_type": "code",
   "execution_count": 90,
   "metadata": {
    "deletable": false,
    "editable": false,
    "nbgrader": {
     "cell_type": "code",
     "checksum": "96115f098a4935719faa1a914634eab8",
     "grade": true,
     "grade_id": "cell-62f6031ad5ffbcb3",
     "locked": true,
     "points": 5,
     "schema_version": 3,
     "solution": false,
     "task": false
    }
   },
   "outputs": [],
   "source": [
    "#Testing answer \n"
   ]
  },
  {
   "cell_type": "markdown",
   "metadata": {},
   "source": [
    "Order of the error terms for the different methods and explanation :"
   ]
  },
  {
   "cell_type": "markdown",
   "metadata": {
    "deletable": false,
    "nbgrader": {
     "cell_type": "markdown",
     "checksum": "56b0d5629844c3d6aa538fc1e95d7212",
     "grade": true,
     "grade_id": "cell-8cf3f80c1cc60439",
     "locked": false,
     "points": 5,
     "schema_version": 3,
     "solution": true,
     "task": false
    }
   },
   "source": [
    "YOUR ANSWER HERE\n",
    "\n",
    "Midpoint Rule has $O(h^2)$ Error\n",
    "\n",
    "Gauss-Legendre has $O(h^{2n})$ Error\n",
    "\n",
    "Low N estimates are accurate in increasing order:\n",
    "1. Midpoint Rule\n",
    "2. Gauss-Legendre\n",
    "\n",
    "High N estimates are accurate in increasing order:\n",
    "1. Midpoint Rule\n",
    "2. Gauss-Legendre"
   ]
  },
  {
   "cell_type": "markdown",
   "metadata": {},
   "source": [
    "\n",
    "## 2 Boole's Rule: \n",
    "In class we showed that if we apply Richardson\n",
    "extrapolation to the Trapezium Rule then we obtain Simpson's rule. This idea\n",
    "can be extended to obtain higher order Newton-Cotes integration rules. As an\n",
    "example combine two estimates of the same integral using Simpson's Rule with \n",
    "$h$ and $\\frac{h}{2}$ and Richardson Extrapolation (recall that the error in\n",
    "the Composite Simpson's Rule is $O(h^{4})$) to obtain the so-called Boole's\n",
    "Rule which is given under the list of closed Newton-Cotes formulae in the\n",
    "notes:\n",
    "\n",
    "$\\int\\limits_{x_{1}}^{x_{5}}f(x)dx=\\frac{h}{45}\\left(\n",
    "7f_{1}+32f_{2}+12f_{3}+32f_{4}+7f_{5}\\right) +O(h^{7})$\n",
    "\n"
   ]
  },
  {
   "cell_type": "markdown",
   "metadata": {
    "deletable": false,
    "nbgrader": {
     "cell_type": "markdown",
     "checksum": "c486a248a7ed70b0a7f2d2594d3de48d",
     "grade": true,
     "grade_id": "cell-455f489d11c2c3b3",
     "locked": false,
     "points": 10,
     "schema_version": 3,
     "solution": true,
     "task": false
    }
   },
   "source": [
    "YOUR ANSWER HERE\n",
    "\n",
    "Using simpson's rule:\n",
    "\\begin{gather*}\n",
    "    \\int\\limits_{x_{1}}^{x_{5}}f(x)dx = \\frac{h}{3}(f_1 + 4(f_2 + f_4) + 2f_3 + f_5) = S(h) \\\\\n",
    "    S\\left(\\frac{h}{2} \\right) = \\frac{h}{6}(f_1 + f_5 + 4(f_{1.5} + f_{2.5} + f_{3.5} + f_{4.5}) + 2(f_2 + f_3 + f_4))\n",
    "\\end{gather*}\n",
    "Then use richardson extrapolation:\n",
    "\\begin{gather*}\n",
    "    R(h, 2) = \\frac{2^4  S\\left(\\frac{h}{2} \\right) - S(h)}{2^4-1}= \\frac{h}{45}(8(f_1 + f_5 + 4(f_{1.5} + f_{2.5} + f_{3.5} + f_{4.5}) + 2(f_2 + f_3 + f_4))- (f_1 + 4(f_2 + f_4) + 2f_3 + f_5)) \\\\\n",
    "    = \\frac{h}{45}(7f_1+ 7f_5 + 32(f_{1.5} + f_{2.5} + f_{3.5} + f_{4.5}) + 12(f_2+f_4) + 14f_3)\n",
    "\\end{gather*}\n",
    "by mapping $f_n \\mapsto f_{2n-1}$\n",
    "\\begin{gather*}\n",
    "    = \\frac{h}{45}(7f_1+ 7f_5 + 32(f_{1.5} + f_{2.5} + f_{3.5} + f_{4.5}) + 12(f_2+f_4) + 14f_3) \\\\\n",
    "    = \\frac{h}{45}(7f_1+ 7f_9 + 32(f_{2} + f_{4} + f_{6} + f_{8}) + 12(f_3+f_7) + 14f_5) \\\\\n",
    "    =  \\frac{h}{45}(7f_1+ + 32(f_{2} + f_{4}) + 12f_3 + 7f_5) + \\frac{h}{45}(7f_5 + 32(f_{6} + f_{8}) + 12f_7 + 7f_9)\n",
    "\\end{gather*}\n",
    "This integral can now be seen as 2 integral approximations, one on $[x_1,x_5]$ and one on $[x_5, x_9]$\n",
    "\\begin{gather*}\n",
    "    \\int_{x_0}^{x_5} f(x) dx =  \\frac{h}{45}(7f_1+ + 32(f_{2} + f_{4}) + 12f_3 + 7f_5) + O(h^7)\n",
    "\\end{gather*}\n"
   ]
  },
  {
   "cell_type": "markdown",
   "metadata": {},
   "source": [
    "## 3 Romberg integration\n",
    "Repeated Richardson extrapolation applied to the Trapezium Rule is\n",
    "known as Romberg integration. Use the following asymptotic expansion for the\n",
    "error in the Trepezium rule,\n",
    "\n",
    "$$I(0)-I(h_{s})=\\sum\\limits_{i=1}^{\\infty }c_{i}h_{s}^{2i}$$\n",
    "to derive the recursion for Richardson extrapolants for $I$ in which $h_{s+1}=\\frac{1}{2}h_{s}.$\n",
    "\n",
    "If we define $a_{s}^{(1)}=I(h_{s})$ then by eliminating the $O(h^{2})$ term in the expansion show that:\n",
    "$$\n",
    "I(0)-\\left\\{ a_{s+1}^{(1)}+\\frac{a_{s+1}^{(1)}-a_{s}^{(1)}}{2^{2}-1}\\right\\}\n",
    "=\\sum\\limits_{i=2}^{\\infty }c_{i}^{(2)}h_{s}^{2i} \n",
    "$$\n",
    "where $c_{i}^{(2)}=\\frac{c_{i}}{3}\\left( \\frac{1}{4^{\\left( i-1\\right) }}-1\\right) .$ Now define\n",
    "$$\n",
    "a_{s}^{(2)}=a_{s+1}^{(1)}+\\frac{a_{s+1}^{(1)}-a_{s}^{(1)}}{2^{2}-1} \n",
    "$$\n",
    "\n",
    "and use expressions for $a_{s}^{(2)}$ and $a_{s+1}^{(2)}$ to eliminate the $O(h^{4})$ term. Now generalize this to obtain the following recursion for $a_{s}^{(m)}$ in terms of $a_{s}^{(m-1)}$:\n",
    "$$\n",
    "a_{s}^{(m)}=a_{s+1}^{(m-1)}+\\frac{a_{s+1}^{(m-1)}-a_{s}^{(m-1)}}{4^{m-1}-1} \n",
    "$$\n"
   ]
  },
  {
   "cell_type": "markdown",
   "metadata": {
    "deletable": false,
    "nbgrader": {
     "cell_type": "markdown",
     "checksum": "13f0ea5bae9218b779c9c63de01076a3",
     "grade": true,
     "grade_id": "cell-beea132eb845b050",
     "locked": false,
     "points": 5,
     "schema_version": 3,
     "solution": true,
     "task": false
    }
   },
   "source": [
    "YOUR ANSWER HERE\n",
    "\n",
    "For $m=3$:\n",
    "\\begin{gather*}\n",
    "I(0) - a^{(2)}_s = \\sum\\limits_{i=2}^{\\infty }c_{i}^{(2)}h_{s}^{2i} = c_{2}^{(2)}h_{s}^{4}+ \\sum\\limits_{i=3}^{\\infty }c_{i}^{(2)}h_{s}^{2i} \\\\\n",
    "I(0) - a^{(2)}_{s+1} = \\sum\\limits_{i=2}^{\\infty }c_{i}^{(2)}\\left(\\frac{h_s}{2}\\right)^{2i} = c_{2}^{(2)}\\left(\\frac{h_s}{2}\\right)^{4} + \\sum\\limits_{i=3}^{\\infty }c_{i}^{(2)}\\left(\\frac{h_s}{2}\\right)^{2i} = c_{2}^{(2)}\\frac{h_s^4}{16} + \\sum\\limits_{i=3}^{\\infty }c_{i}^{(2)}\\frac{h_s^{2i}}{2^{2i}} \\\\\n",
    "16I(0) - 16a^{(2)}_{s+1} = c_{2}^{(2)}h_s^4 + 16\\sum\\limits_{i=3}^{\\infty }c_{i}^{(2)}\\frac{h_s^{2i}}{2^{2i}}\n",
    "\\end{gather*}\n",
    "Now subtracting:\n",
    "\\begin{gather*}\n",
    "(16I(0) - 16a^{(2)}_{s+1}) - (I(0) - a^{(2)}_s) = 15I(0) + a^{(2)}_s - 16a^{(2)}_{s+1} = c_{2}^{(2)}h_s^4 + 16\\sum\\limits_{i=3}^{\\infty }c_{i}^{(2)}\\frac{h_s^{2i}}{2^{2i}} - \\left(c_{2}^{(2)}h_{s}^{4}+ \\sum\\limits_{i=3}^{\\infty }c_{i}^{(2)}h_{s}^{2i}\\right) \\\\ = \\sum\\limits_{i=3}^{\\infty }16c_{i}^{(2)}\\frac{h_s^{2i}}{2^{2i}} - c_{i}^{(2)}h_{s}^{2i} = \\sum\\limits_{i=3}^{\\infty }c_{i}^{(2)}h_{s}^{2i}\\left( \\frac{16}{4^i} - 1\\right) \\\\\n",
    "\\implies I(0) - \\frac{a^{(2)}_s - 16a^{(2)}_{s+1}}{4^2-1} =  \\sum\\limits_{i=3}^{\\infty }c_{i}^{(2)}h_{s}^{2i}\\frac{1}{15}\\left( \\frac{16}{4^i} - 1\\right) \\\\ \\implies I(0) - a^{(3)}_s = \\sum\\limits_{i=3}^{\\infty }c_{i}^{(3)}h_{s}^{2i}\n",
    "\\end{gather*}\n",
    "Where $a^{(3)}_s = \\frac{a^{(2)}_s - 16a^{(2)}_{s+1}}{4^2-1}$ and $c_{i}^{(3)} = \\frac{1}{15}\\left( \\frac{16}{4^i} - 1\\right)c_{i}^{(2)}$\n"
   ]
  },
  {
   "cell_type": "markdown",
   "metadata": {},
   "source": [
    "\n",
    "More generally when $m=m$:\n",
    "\\begin{gather*}\n",
    "    I(0) - a^{(m)}_s = \\sum\\limits_{i=m}^{\\infty }c_{i}^{(m)}h_{s}^{2i} = c_{m}^{(m)}h_{s}^{2m} + \\sum\\limits_{i=m+1}^{\\infty }c_{i}^{(m)}h_{s}^{2i} \\\\\n",
    "    I(0) - a^{(m)}_{s+1} = \\sum\\limits_{i=m}^{\\infty }c_{i}^{(m)}\\frac{h_{s}^{2i}}{2^{2i}} = c_{m}^{(m)}\\frac{h_{s}^{2m}}{4^{m}} + \\sum\\limits_{i=m+1}^{\\infty }c_{i}^{(m)}\\frac{h_{s}^{2i}}{2^{2i}} \\\\\n",
    "    4^mI(0) - 4^ma^{(m)}_{s+1} = c_{m}^{(m)}h_{s}^{2m} + \\sum\\limits_{i=m+1}^{\\infty }4^mc_{i}^{(m)}\\frac{h_{s}^{2i}}{2^{2i}}\n",
    "\\end{gather*}\n",
    "Subtracting:\n",
    "\\begin{gather*}\n",
    "    4^mI(0) - 4^ma^{(m)}_{s+1} - (I(0) - a^{(m)}_s) = (4^m-1)I(0) - ( 4^ma^{(m)}_{s+1} - a^{(m)}_s ) = c_{m}^{(m)}h_{s}^{2m} + \\left(\\sum\\limits_{i=m+1}^{\\infty }4^mc_{i}^{(m)}\\frac{h_{s}^{2i}}{2^{2i}}\\right) - c_{m}^{(m)}h_{s}^{2m} - \\sum\\limits_{i=m+1}^{\\infty }c_{i}^{(m)}h_{s}^{2i} \\\\\n",
    "    = \\sum\\limits_{i=m+1}^{\\infty }4^mc_{i}^{(m)}\\frac{h_{s}^{2i}}{2^{2i}} - c_{i}^{(m)}h_{s}^{2i} = \\sum\\limits_{i=m+1}^{\\infty } c_{i}^{(m)}h_{s}^{2i}\\left(\\frac{4^m}{2^{2i}} - 1\\right) \\\\\n",
    "    \\implies I(0) - \\frac{ 4^ma^{(m)}_{s+1} - a^{(m)}_s}{4^m-1} = \\sum\\limits_{i=m+1}^{\\infty } \\frac{1}{4^m-1}c_{i}^{(m)}h_{s}^{2i}\\left(\\frac{1}{4^{i-1}} - 1\\right) \\\\\n",
    "    \\implies I(0) - a^{(m+1)}_s = \\sum\\limits_{i=m+1}^{\\infty } c_{i}^{(m+1)}h_{s}^{2i}\n",
    "\\end{gather*}\n",
    "\n",
    "Where $a_s^{(m+1)} = \\frac{ 4^ma^{(m)}_{s+1} - a^{(m)}_s}{4^m-1} = a^{(m)}_{s+1} + \\frac{ a^{(m)}_{s+1} - a^{(m)}_s}{4^m-1}$ and $c_{i}^{(m+1)} = \\frac{1}{4^m-1}c_{i}^{(m)}\\left(\\frac{1}{4^{i-1}} - 1\\right)$"
   ]
  },
  {
   "cell_type": "markdown",
   "metadata": {},
   "source": [
    "\n",
    "Modify the routine `trapez` posted on the course web site to perform\n",
    "repeated Richardson Extrapolation until a prescribed tolerance is reached.\n",
    "Call this new function \n",
    "$$\n",
    " [ Integral,I,X]=Romberg(f,a,b,tol,kmax)\n",
    "$$\n",
    "where the inputs are f=the integrand, [a,b]= the domain of\n",
    "integration,  tol = the specified tolerance, and kmax = the\n",
    "maximum number of refinements. The outputs are:  Integral= the\n",
    "approximate integral,  I= the array of extrapolated values, and X= the\n",
    "sample points. Use this routine to evaluate the integral\n",
    "$$\n",
    "I=\\int_{0}^{1}(1+x^{2})^{-1}dx=\\frac{\\pi }{4}\n",
    "$$\n"
   ]
  },
  {
   "cell_type": "markdown",
   "metadata": {},
   "source": [
    "Compute the result  for $kmax=20$  and $tol=1e-8$:"
   ]
  },
  {
   "cell_type": "code",
   "execution_count": 91,
   "metadata": {
    "deletable": false,
    "nbgrader": {
     "cell_type": "code",
     "checksum": "0d202e2bc88d5eb00f6b693ad09a49fd",
     "grade": false,
     "grade_id": "cell-c56970a5fe35e5bc",
     "locked": false,
     "schema_version": 3,
     "solution": true,
     "task": false
    }
   },
   "outputs": [
    {
     "name": "stdout",
     "output_type": "stream",
     "text": [
      "0.7853981634095609\n",
      "0.7853981633974483\n",
      "[[0.75       0.         0.         0.         0.         0.        ]\n",
      " [0.775      0.78333333 0.         0.         0.         0.        ]\n",
      " [0.78279412 0.78539216 0.78552941 0.         0.         0.        ]\n",
      " [0.78474712 0.78539813 0.78539852 0.78539645 0.         0.        ]\n",
      " [0.7852354  0.78539816 0.78539817 0.78539816 0.78539817 0.        ]\n",
      " [0.78535747 0.78539816 0.78539816 0.78539816 0.78539816 0.78539816]]\n",
      "[1, 0.5, 0.25, 0.125, 0.0625, 0.03125]\n",
      "1.211264422096292e-11\n"
     ]
    }
   ],
   "source": [
    "res = 0\n",
    "# YOUR CODE HERE\n",
    "a=0\n",
    "b=1\n",
    "def f(x):\n",
    "    return (1+x**2)**-1\n",
    "\n",
    "def trapez(f, a, b, oval, N):\n",
    "    if N == 1:\n",
    "        val = 0.5 * (b - a) * (f(a) + f(b))\n",
    "        h0 = (b - a)\n",
    "    else:\n",
    "        i = 2 ** (N - 2)\n",
    "        h = (b - a) / i\n",
    "        h0 = h / 2\n",
    "        x = np.arange(a + 0.5 * h, b, h)\n",
    "        val = 0.5 * (oval + h * np.sum(f(x)))\n",
    "    \n",
    "    return h0, val\n",
    "\n",
    "def Romberg(f, a, b, tol=1e-8, kmax=20):\n",
    "    I = np.zeros((kmax, kmax))\n",
    "    X = []\n",
    "    h, I[0, 0] = trapez(f, a, b, 0, 1)\n",
    "    X.append(h)\n",
    "    \n",
    "    for k in range(1, kmax):\n",
    "        h,  I[k, 0] = trapez(f, a, b, I[k-1, 0], k+1)\n",
    "        X.append(h)\n",
    "        \n",
    "        for j in range(1, k+1):\n",
    "            I[k, j] = I[k, j-1] + (I[k, j-1] - I[k-1, j-1]) / (4**j - 1)\n",
    "        \n",
    "        if abs(I[k, k] - I[k-1, k-1]) < tol:\n",
    "            return I[k, k], I[:k+1, :k+1], X\n",
    "    \n",
    "    return I[kmax-1, kmax-1], I, X\n",
    "\n",
    "integral, I, x = Romberg(f, a, b, 1e-8, 20)\n",
    "\n",
    "print(integral)\n",
    "print(np.pi/4)\n",
    "print(I)\n",
    "print(x)\n",
    "print(abs(np.pi/4-integral))\n",
    "# raise NotImplementedError() TODO ensure this is right"
   ]
  },
  {
   "cell_type": "code",
   "execution_count": 92,
   "metadata": {
    "deletable": false,
    "editable": false,
    "nbgrader": {
     "cell_type": "code",
     "checksum": "daaf8503e9a9c700ddb85954f86bd266",
     "grade": true,
     "grade_id": "cell-135c6324a7c4196a",
     "locked": true,
     "points": 5,
     "schema_version": 3,
     "solution": false,
     "task": false
    }
   },
   "outputs": [],
   "source": [
    "#Testing answer \n"
   ]
  },
  {
   "cell_type": "markdown",
   "metadata": {},
   "source": [
    "Provide the table of extrapolated values in the table `a` of the following shape (with the value -1 if not defined): \n",
    "|$a_{k}^{0}$ | $a_{k}^{1}$ | $a_{k}^{2}$ | $a_{k}^{3}$ |\n",
    "|------|-----| -----|-----|\n",
    "| $a_{0,0}$ |*|* |*|\n",
    "|*|* |* |* |*|\n",
    "| * |*| *|*|\n",
    "| * | * |*|*|\n"
   ]
  },
  {
   "cell_type": "code",
   "execution_count": 93,
   "metadata": {
    "deletable": false,
    "nbgrader": {
     "cell_type": "code",
     "checksum": "6a55ff0f74e65f56cf57f34f2a9a6f1d",
     "grade": false,
     "grade_id": "cell-7b8c141a889b0942",
     "locked": false,
     "schema_version": 3,
     "solution": true,
     "task": false
    }
   },
   "outputs": [
    {
     "name": "stdout",
     "output_type": "stream",
     "text": [
      "[[ 0.75       -1.         -1.         -1.        ]\n",
      " [ 0.775       0.78333333 -1.         -1.        ]\n",
      " [ 0.78279412  0.78539216  0.78552941 -1.        ]\n",
      " [ 0.78474712  0.78539813  0.78539852  0.78539645]]\n"
     ]
    }
   ],
   "source": [
    "a = -1*np.ones((4,4))\n",
    "a = I[:4, :4]\n",
    "for i in range(4):\n",
    "    for j in range(i):\n",
    "        a[j][i] = -1\n",
    "\n",
    "print(a)\n",
    "# raise NotImplementedError()"
   ]
  },
  {
   "cell_type": "code",
   "execution_count": 94,
   "metadata": {
    "deletable": false,
    "editable": false,
    "nbgrader": {
     "cell_type": "code",
     "checksum": "958cea4042d171df6ded0ea0d84d1acc",
     "grade": true,
     "grade_id": "cell-a68edd7cd95284e7",
     "locked": true,
     "points": 5,
     "schema_version": 3,
     "solution": false,
     "task": false
    }
   },
   "outputs": [],
   "source": [
    "#Testing answer \n"
   ]
  },
  {
   "cell_type": "markdown",
   "metadata": {},
   "source": [
    "\n",
    "How many refinements are required to obtain 5 digits of precision?\n"
   ]
  },
  {
   "cell_type": "markdown",
   "metadata": {
    "deletable": false,
    "nbgrader": {
     "cell_type": "markdown",
     "checksum": "10fdf60df227f6088a8b307ce8d1dc36",
     "grade": true,
     "grade_id": "cell-0253f09120e2c096",
     "locked": false,
     "points": 5,
     "schema_version": 3,
     "solution": true,
     "task": false
    }
   },
   "source": [
    "YOUR ANSWER HERE"
   ]
  },
  {
   "cell_type": "markdown",
   "metadata": {},
   "source": [
    "## 4 Singular Integrals\n",
    "\n",
    "Evaluate the Fresnel integral $I=\\int_{0}^{\\pi /2}x^{-{\\frac{1}{2}}}\\cos xdx$ =1.954902848583 directly using your Midpoint code and your\n",
    "3-point Gauss-Legendre code. The singularity can sometimes be avoided all\n",
    "together by means of a judicious transformation of variables, which in this\n",
    "case involves the simple substitution $u=x^{\\frac{1}{2}}$. Alternatively,\n",
    "the convergence of the numerical approximation can be improved by\n",
    "subtracting out the singularity as follows: $I=\\int_{0}^{\\pi }x^{-{\\frac{1}{2}}}dx+\\int_{0}^{\\pi }x^{-{\\frac{1}{2}}}(\\cos x-1)dx=2\\sqrt{\\pi }+\\int_{0}^{\\pi }x^{-{\\frac{1}{2}}}(\\cos x-1)dx$. Since the last integrand is\n",
    "no longer singular it can be evaluated without difficulty using all the\n",
    "routines developed above. Compute the transformation when substracting 3 terms.\n"
   ]
  },
  {
   "cell_type": "markdown",
   "metadata": {
    "deletable": false,
    "nbgrader": {
     "cell_type": "markdown",
     "checksum": "dfad311a7ce2c89e653e53c6b0578b83",
     "grade": true,
     "grade_id": "cell-4d338a8d921dfe09",
     "locked": false,
     "points": 4,
     "schema_version": 3,
     "solution": true,
     "task": false
    }
   },
   "source": [
    "YOUR ANSWER HERE\n",
    "\n",
    "\\begin{gather*}\n",
    "    I=\\int_{0}^{\\pi /2}x^{-{\\frac{1}{2}}}\\cos xdx = \\int_{0}^{\\pi /2}x^{-{\\frac{1}{2}}}\\left(1 -\\frac{x^2}{2} + \\frac{x^4}{4!}\\right)dx + \\int_{0}^{\\pi /2}x^{-{\\frac{1}{2}}}\\left(\\cos x - 1 +\\frac{x^2}{2} - \\frac{x^4}{4!}\\right)dx \\\\ \n",
    "    \\int_{0}^{\\pi /2}x^{-{\\frac{1}{2}}}\\left(1 -\\frac{x^2}{2} + \\frac{x^4}{4!}\\right)dx = \\int_{0}^{\\pi /2}\\frac{x^\\frac{7}{2}}{24} - \\frac{x^\\frac{3}{2}}{2} + x^{-\\frac{1}{2}} dx = \\left. \\frac{x^\\frac{9}{2}}{12\\times9} - \\frac{x^\\frac{5}{2}}{5} + 2x^{\\frac{1}{2}} \\right|_{0}^{\\pi /2} \\approx 1.9034888059063502\n",
    "\\end{gather*}"
   ]
  },
  {
   "cell_type": "code",
   "execution_count": 95,
   "metadata": {},
   "outputs": [
    {
     "name": "stdout",
     "output_type": "stream",
     "text": [
      "1.9034888059063502\n",
      "1.954902848583\n",
      "--- N = 2 ---\n",
      "midpoint: -0.002627703018903862\n",
      "GL: -0.003890242717956882\n",
      "--- N = 4 ---\n",
      "midpoint: -0.0035468277684194255\n",
      "GL: -0.0038902628292838623\n",
      "--- N = 16 ---\n",
      "midpoint: -0.0038682507914848552\n",
      "GL: -0.0038902632035702693\n",
      "--- N = 32 ---\n",
      "midpoint: -0.003884753236501381\n",
      "GL: -0.003890263203677086\n"
     ]
    }
   ],
   "source": [
    "def f(x):\n",
    "    return x**(-0.5) * (np.cos(x) - 1 + (x**2)/2 - (x**4)/24)\n",
    "\n",
    "def g(x):\n",
    "    return x**(11/2) /(12*11) - x**(7/2)/7 + 2*x**0.5\n",
    "\n",
    "print(g(np.pi/2))\n",
    "\n",
    "print(1.954902848583)\n",
    "a = 0\n",
    "b = np.pi / 2\n",
    "for N in [2,4,16,32]:\n",
    "    print(f\"--- N = {N} ---\")\n",
    "    print(\"midpoint:\", midpoint(f, N, a, b))\n",
    "    # print(\"trapezium:\", trapezuim(f, N, a, b))\n",
    "    # print(\"simpson:\", simpson(f, N, a, b))\n",
    "    print(\"GL:\", GL(f, N, a, b))"
   ]
  },
  {
   "cell_type": "markdown",
   "metadata": {},
   "source": [
    "\n",
    "\n",
    "Use the the midpoint rule, the repeated\n",
    "Trapezoidal rule, and the 3-point Gauss-Legendre rule to evaluate $I$ by (a)\n",
    "using the transformation, (b) subtracting one and two terms in the Taylor\n",
    "series expansion for $\\cos(x)$. Compare the results by completing the\n",
    "following table T_si:\n",
    "|Integration Rule | $h=(\\frac{\\pi }{2})2^{-4}$ | $h=(\\frac{\\pi }{2})2^{-6}$ |\n",
    "|-----| ------| ----- |\n",
    "|Direct Midpoint | * | * |\n",
    "|Direct 3 pt Gauss | * | * |\n",
    "|Transform Midpoint | * | * |\n",
    "|Transform 3 pt Gauss | * | *|\n",
    "|Transform Trapezium | * | * |\n",
    "|Subtract 1 term Midpoint | * | * | \n",
    "|Subtract 1 term 3 pt Gauss | * | * | \n",
    "|Subtract 1 term Trapezium | * | * | \n",
    "|Subtract 2 terms Midpoint | * | * | \n",
    "|Subtract 2 terms 3 pt Gauss | * | * |\n",
    "|Subtract 2 terms Trapezium | * | * | \n"
   ]
  },
  {
   "cell_type": "code",
   "execution_count": 96,
   "metadata": {
    "deletable": false,
    "nbgrader": {
     "cell_type": "code",
     "checksum": "64d94499c0b150ec9e7ec01bca4a625d",
     "grade": false,
     "grade_id": "cell-e7942b63ef54bee4",
     "locked": false,
     "schema_version": 3,
     "solution": true,
     "task": false
    }
   },
   "outputs": [
    {
     "name": "stdout",
     "output_type": "stream",
     "text": [
      "[[1.7618815  1.85991671]\n",
      " [1.87683923 1.91587091]\n",
      " [1.95562467 1.95370194]\n",
      " [1.953574   1.95489655]\n",
      " [1.93731963 1.95464519]\n",
      " [1.87417541 1.93516936]\n",
      " [1.95490313 1.95490286]\n",
      " [1.95450441 1.95487675]\n",
      " [1.97502631 1.95958982]\n",
      " [1.95490285 1.95490285]\n",
      " [1.95522093 1.95492273]]\n"
     ]
    }
   ],
   "source": [
    "T_si = np.zeros((11,2))\n",
    "# YOUR CODE HERE\n",
    "a = 0\n",
    "b = np.pi / 2\n",
    "\n",
    "hs = np.pi / 2 * np.array([2**-4, 2**-6])\n",
    "\n",
    "# Direct Midpoint\n",
    "def f(x):\n",
    "    return x**-0.5 * np.cos(x)\n",
    "\n",
    "for i, h in enumerate(hs):\n",
    "    T_si[0][i] = midpoint_width(f, h, a, b)\n",
    "\n",
    "# Direct 3 pt Gauss\n",
    "for i, h in enumerate(hs):\n",
    "    T_si[1][i] = GL_width(f, h, a, b)\n",
    "\n",
    "\n",
    "# Transform Midpoint\n",
    "\n",
    "def f(u):\n",
    "    return 2*np.cos(u**2)\n",
    "\n",
    "for i, h in enumerate(hs):\n",
    "    T_si[2][i] = midpoint_width(f, h, np.sqrt(a), np.sqrt(b))\n",
    "\n",
    "# Transform 3 pt Gaussian\n",
    "for i, h in enumerate(hs):\n",
    "    T_si[3][i] = GL_width(f, h, np.sqrt(a), np.sqrt(b))\n",
    "\n",
    "# Transform Trapezium\n",
    "for i, h in enumerate(hs):\n",
    "    T_si[4][i] = trapezuim_width(f, h, np.sqrt(a), np.sqrt(b))\n",
    "\n",
    "# Subtract 1 Term Midpoint\n",
    "def f(x):\n",
    "    if (x == 0):\n",
    "        return 0 # accounts for singularity\n",
    "    return x**-0.5 * (np.cos(x)-1)\n",
    "\n",
    "residual = 2*(np.pi/2)**(0.5)\n",
    "\n",
    "for i, h in enumerate(hs):\n",
    "    T_si[5][i] = residual + midpoint_width(f, h, a, b)\n",
    "\n",
    "# Subtract 1 Term 3 pt Gaussian\n",
    "for i, h in enumerate(hs):\n",
    "    T_si[6][i] = residual + GL_width(f, h, a, b)\n",
    "\n",
    "# Subtract 1 Term Trapezium\n",
    "for i, h in enumerate(hs):\n",
    "    T_si[7][i] = residual + trapezuim_width(f, h, a, b) # TODO determine if residual should be included\n",
    "\n",
    "# Subtract 2 Term Midpoint\n",
    "def f(x):\n",
    "    if (x == 0):\n",
    "        return 0 # accounts for singularity\n",
    "    return x**-0.5 * (np.cos(x)-1 + x**2/2)\n",
    "\n",
    "residual = - (np.pi/2)**(5/2)/5 + 2*(np.pi/2)**(0.5)\n",
    "\n",
    "\n",
    "for i, h in enumerate(hs):\n",
    "    T_si[8][i] = residual + midpoint_width(f, h, a, b)\n",
    "\n",
    "# Subtract 2 Term 3 pt Gaussian\n",
    "for i, h in enumerate(hs):\n",
    "    T_si[9][i] = residual + GL_width(f, h, a, b)\n",
    "\n",
    "# Subtract 2 Term Trapezium\n",
    "for i, h in enumerate(hs):\n",
    "    T_si[10][i] = residual + trapezuim_width(f, h, a, b) # TODO\n",
    "\n",
    "\n",
    "print(T_si)\n",
    "# raise NotImplementedError()"
   ]
  },
  {
   "cell_type": "code",
   "execution_count": 97,
   "metadata": {
    "deletable": false,
    "editable": false,
    "nbgrader": {
     "cell_type": "code",
     "checksum": "d6c5e97facc97c3b6fe8586b9b91d366",
     "grade": true,
     "grade_id": "cell-428c3bf43dc22911",
     "locked": true,
     "points": 11,
     "schema_version": 3,
     "solution": false,
     "task": false
    }
   },
   "outputs": [],
   "source": [
    "#Testing answer \n"
   ]
  },
  {
   "cell_type": "markdown",
   "metadata": {},
   "source": [
    "\n",
    "## 5 Integrals on infinite intervals:\n",
    "\n",
    "Consider evaluating the impropper integrals:\n",
    "$$\n",
    "\\begin{align}\n",
    "I_{1} &=\\int_{-\\infty }^{\\infty }e^{-x^{2}}\\cos xdx=\\pi ^{1/2}e^{-1/4} \\\\\n",
    "I_{2} &=\\int_{-\\infty }^{\\infty }e^{-x^{2}}\\cos ^{2}xdx=\\pi\n",
    "^{1/2}(1+e^{-1})/2\n",
    "\\end{align}\n",
    "$$\n",
    "\n",
    "-  (a) Since the integrands are symmetric convert the integration interval to \n",
    "$[ 0,\\infty ) $ and use your Romberg routine to estimate $I_{1}$\n",
    "and $I_{2}$ as follows. Evaluate these integral directly by dividing the\n",
    "integral into two parts i.e. $[0,\\infty )=[0,c]\\cup [ c,\\infty )$. Can\n",
    "you control the error in the discarded part? What happens if you keep\n",
    "increasing $c?$ Plot $I_{k}(c).$\n",
    "\n"
   ]
  },
  {
   "cell_type": "markdown",
   "metadata": {
    "deletable": false,
    "nbgrader": {
     "cell_type": "markdown",
     "checksum": "085c4ca68696fd64c3ccf8bb97665cc0",
     "grade": true,
     "grade_id": "cell-90d72c5ec14aa9cb",
     "locked": false,
     "points": 10,
     "schema_version": 3,
     "solution": true,
     "task": false
    }
   },
   "source": [
    "YOUR ANSWER HERE\n",
    "\n",
    "The error of the discarded part for both $I_1$ and $I_2$ is strictly bounded since:\n",
    "\n",
    "\\begin{gather*}\n",
    "    -e^{-x^{2}} \\le e^{-x^{2}}\\cos x, \\ e^{-x^{2}}\\cos^2 x \\le e^{-x^{2}}\n",
    "\\end{gather*}\n",
    "and $\\int_{-\\infty}^{\\infty} \\pm e^{-x^2} dx = \\pm \\sqrt{\\pi}$ and is therefore bounded. Since neither of $I_1$ and $I_2$ go to $\\pm\\infty$ as $x \\to \\pm \\infty$ any section of their integral from $[c,\\infty)$ is also bounded. A simple bound would be to compare $I_1$ and $I_2$ to $\\int_c^{\\infty} \\frac{1}{x^2} dx = \\frac{1}{c} > \\int_c^{\\infty} e^{-x^{2}}\\cos xdx, \\ \\int_c^{\\infty} e^{-x^{2}}\\cos^2 xdx$ since $\\frac{1}{x^2} > e^{-x^{2}}\\cos x, \\ e^{-x^{2}}\\cos^2 x \\ \\forall \\ x>0$. Therefore we can use this bound to show that as we increase $c$ then the error will decrease at least as fast as $\\frac{1}{c}$ and as $c \\to \\infty$ the error goes to $0$."
   ]
  },
  {
   "cell_type": "code",
   "execution_count": 98,
   "metadata": {
    "deletable": false,
    "nbgrader": {
     "cell_type": "code",
     "checksum": "8ffb43cb7c7768bb1b0a6fc44075c745",
     "grade": false,
     "grade_id": "cell-b5c39256c13c4d3a",
     "locked": false,
     "schema_version": 3,
     "solution": true,
     "task": false
    }
   },
   "outputs": [
    {
     "data": {
      "image/png": "[encoded data removed]",
      "text/plain": [
       "<Figure size 640x480 with 1 Axes>"
      ]
     },
     "metadata": {},
     "output_type": "display_data"
    },
    {
     "data": {
      "image/png": "[encoded data removed]",
      "text/plain": [
       "<Figure size 640x480 with 1 Axes>"
      ]
     },
     "metadata": {},
     "output_type": "display_data"
    }
   ],
   "source": [
    "# Your plot\n",
    "def I_1(x):\n",
    "    return np.exp(-x**2) * np.cos(x)\n",
    "\n",
    "def I_2(x):\n",
    "    return np.exp(-x**2) * np.cos(x)**2\n",
    "\n",
    "I_1_ans = np.pi**0.5 * np.exp(-1/4)\n",
    "I_2_ans = np.pi**0.5 * (1 + np.exp(-1)) / 2\n",
    "\n",
    "a = 0 \n",
    "cs = np.linspace(0.01, 100000, 500)\n",
    "\n",
    "i1 = []\n",
    "for c in cs:\n",
    "    i1.append(2*Romberg(I_1, a, c)[0]) # *2 for symmetry\n",
    "\n",
    "plt.plot(cs, i1)\n",
    "plt.title(r\"$I_1$ vs c\")\n",
    "plt.xlabel(\"c\")\n",
    "plt.ylabel(r\"$I_1$\")\n",
    "plt.axhline(I_1_ans, color='orange', linestyle='dashed')\n",
    "plt.show()\n",
    "\n",
    "i2 = []\n",
    "for c in cs:\n",
    "    i2.append(2*Romberg(I_2, a, c)[0]) # *2 for symmetry\n",
    "\n",
    "plt.plot(cs, i2)\n",
    "plt.title(r\"$I_2$ vs c\")\n",
    "plt.xlabel(\"c\")\n",
    "plt.ylabel(r\"$I_2$\")\n",
    "plt.axhline(I_2_ans, color='orange', linestyle='dashed')\n",
    "plt.show()\n",
    "\n",
    "\n",
    "# YOUR CODE HERE\n",
    "# raise NotImplementedError()"
   ]
  },
  {
   "cell_type": "markdown",
   "metadata": {},
   "source": [
    "-  Gauss-Hermite quadrature with integration points evaluates integrals\n",
    "of the form\n",
    "$$\n",
    "\\int\\limits_{-\\infty }^{\\infty }e^{-x^{2}}f(x)dx\n",
    "$$\n",
    "exactly if $f(x)$ is a polynomial of degree $2m-1.$ Use this fact to\n",
    "determine the integration points $\\xi _{i}$ and weights $w_{i}$ in the\n",
    "formula\n",
    "$$\n",
    "\\begin{align}\n",
    "\\int\\limits_{-\\infty }^{\\infty }e^{-x^{2}}f(x)dx &\\simeq w_{2,1}f(\\xi\n",
    "_{2,1})+w_{2,2}f(\\xi _{2,2})\\text{ if }m=2 \\\\\n",
    "\\int\\limits_{-\\infty }^{\\infty }e^{-x^{2}}f(x)dx &\\simeq w_{3,1}f(\\xi\n",
    "_{3,1})+w_{3,2}f(\\xi _{3,2})+w_{3,3}f(\\xi _{3,3})\\text{ if }m=3\n",
    "\\end{align}\n",
    "$$\n",
    "\n",
    "\n",
    "To simplify your calculation, you may assume the symmetry\n",
    "conditions $w_{2,1}=w_{2,2}$ and $\\xi _{2,2}=-\\xi _{2,1}\\geq0$. You\n",
    "may also assume $w_{3,1}=w_{3,3}$, $\\xi _{3,2}=0,$ and $\\xi _{3,3}=-\\xi _{3,1}\\geq0.$\n",
    "\n",
    "Hint: It may also be helpful to know that $\\int\\limits_{-\\infty }^{\\infty}e^{-x^{2}}dx=\\pi ^{1/2}$,\n",
    "$\\int\\limits_{-\\infty }^{\\infty }e^{-x^{2}}x^{2}dx=\\frac{1}{2}\\pi ^{1/2},$ and \n",
    "$\\int\\limits_{-\\infty }^{\\infty}e^{-x^{2}}x^{4}dx=\\frac{3}{4}\\sqrt{\\pi }.$\n"
   ]
  },
  {
   "cell_type": "markdown",
   "metadata": {},
   "source": [
    "For $m=2$:\n",
    "\n",
    "\\begin{gather*}\n",
    "    f(x) = ax^3 + bx^2 + cx + d \\\\\n",
    "    \\int\\limits_{-\\infty }^{\\infty }e^{-x^{2}}(ax^3 + bx^2 + cx + d)dx \\simeq w_{2,1}f(\\xi\n",
    "    _{2,1})+w_{2,2}f(\\xi _{2,2}) \\simeq \\int\\limits_{-\\infty }^{\\infty }e^{-x^{2}}ax^3 dx  + \\int\\limits_{-\\infty }^{\\infty }e^{-x^{2}} bx^2 dx + \\int\\limits_{-\\infty }^{\\infty }e^{-x^{2}} cx dx +  \\int\\limits_{-\\infty }^{\\infty }e^{-x^{2}}ddx \\\\\n",
    "    = 0 + \\frac{b}{2}\\pi^{1/2} + 0 + d\\pi^{1/2} = \\frac{b+2d}{2}\\sqrt{\\pi} = w_{2,1}(f(\\xi _{2,1}) + f(-\\xi _{2,1})) \\\\\n",
    "    =  w_{2,1}(a\\xi_{2,1}^3 + b\\xi_{2,1}^2 + c\\xi_{2,1} + d + a(-\\xi_{2,1})^3 + b(-\\xi_{2,1})^2 + c(-\\xi_{2,1}) + d) = 2w_{2,1}(b\\xi_{2,1}^2  + d)\n",
    "\\end{gather*}\n",
    "\n",
    "by matching terms we see that:\n",
    "\\begin{gather*}\n",
    "    d\\pi^{1/2} = 2w_{2,1}d \\implies w_{2,1} = \\frac{\\sqrt{\\pi}}{2} \\\\\n",
    "    \\frac{b}{2}\\pi^{1/2} =  2w_{2,1}b\\xi_{2,1}^2 = 2\\frac{\\sqrt{\\pi}}{2}b\\xi_{2,1}^2 \\implies \\xi_{2,1}^2 = \\frac{1}{2} \\implies \\xi_{2,1} = \\frac{1}{\\sqrt{2}}\n",
    "\\end{gather*}"
   ]
  },
  {
   "cell_type": "markdown",
   "metadata": {},
   "source": [
    "For $m=3$:\n",
    "\n",
    "\\begin{gather*}\n",
    "    f(x) = Ax^5 + Bx^4 + Cx^3 + Dx^2 + Ex + F \\\\\n",
    "    \\int\\limits_{-\\infty }^{\\infty }e^{-x^{2}}(Ax^5 + Bx^4 + Cx^3 + Dx^2 + Ex + F)dx \n",
    "    \\simeq w_{3,1}f(\\xi_{3,1})+w_{3,2}f(\\xi _{3,2})+w_{3,3}f(\\xi _{3,3}) \\\\\n",
    "    \\simeq    \\int\\limits_{-\\infty }^{\\infty }e^{-x^{2}} Ax^5 \n",
    "            + \\int\\limits_{-\\infty }^{\\infty }e^{-x^{2}} Bx^4 dx\n",
    "            + \\int\\limits_{-\\infty }^{\\infty }e^{-x^{2}} Cx^3 dx\n",
    "            + \\int\\limits_{-\\infty }^{\\infty }e^{-x^{2}} Dx^2 dx\n",
    "            + \\int\\limits_{-\\infty }^{\\infty }e^{-x^{2}} Ex   dx\n",
    "            + \\int\\limits_{-\\infty }^{\\infty }e^{-x^{2}} F    dx \\\\\n",
    "    = 0 + \\frac{3B}{4}\\sqrt{\\pi} + 0 + \\frac{D}{2}\\pi^{1/2} + 0 + F\\pi^{1/2} \\\\\n",
    "    = \\frac{3B}{4}\\sqrt{\\pi} + \\frac{D}{2}\\pi^{1/2} + F\\pi^{1/2} = w_{3,1}(f(\\xi_{3,1}) + f(-\\xi_{3,1})) + w_{3,2}f(0) \\\\\n",
    "    =  w_{3,1}(A\\xi_{3,1} ^5 + B\\xi_{3,1}^4 + C\\xi_{3,1}^3 + D\\xi_{3,1}^2 + E\\xi_{3,1} + F + A(-\\xi_{3,1})^5 + B(-\\xi_{3,1})^4 + C(-\\xi_{3,1})^3 + D(-\\xi_{3,1})^2 + E(-\\xi_{3,1}) + F) + w_{3,2}F \\\\\n",
    "    = 2w_{3,1}(B\\xi_{3,1}^4 + D\\xi_{3,1}^2 + F) + w_{3,2}F\n",
    "\\end{gather*}\n"
   ]
  },
  {
   "cell_type": "markdown",
   "metadata": {},
   "source": [
    "\n",
    "by matching terms we see that:\n",
    "\\begin{gather*}\n",
    "    \\frac{3B}{4} \\sqrt{\\pi} = 2B w_{3,1} \\xi_{3,1}^4 \\implies \\frac{3}{8\\xi_{3,1}^4} \\sqrt{\\pi} = w_{3,1}  \\\\\n",
    "    \\frac{D}{2} \\sqrt{\\pi} = 2D w_{3,1} \\xi_{3,1}^2 \\implies \\frac{1}{4\\xi_{3,1}^2} \\sqrt{\\pi} = w_{3,1}  \\\\\n",
    "    \\implies \\frac{3}{8\\xi_{3,1}^4} \\sqrt{\\pi} = \\frac{1}{4\\xi_{3,1}^2} \\sqrt{\\pi} \\implies \\frac{3}{2} = \\xi_{3,1}^2 \\implies \\xi_{3,1} = \\sqrt{\\frac{3}{2}} \\implies \\xi_{3,3} = -\\sqrt{\\frac{3}{2}} \\\\\n",
    "    \\implies w_{3,1} = \\frac{1}{4\\left(  \\sqrt{\\frac{3}{2}}\\right)^2} \\sqrt{\\pi} =  \\frac{\\sqrt{\\pi}}{6}  \\\\\n",
    "    (2w_{3,1} + w_{3,2})F = F\\sqrt{\\pi} \\implies w_{3,2} = \\frac{2}{3}\\sqrt{\\pi}\n",
    "\\end{gather*}"
   ]
  },
  {
   "cell_type": "code",
   "execution_count": 99,
   "metadata": {
    "deletable": false,
    "nbgrader": {
     "cell_type": "code",
     "checksum": "003e5830bf9074dcced1d36f00f53206",
     "grade": false,
     "grade_id": "cell-f683f6e7edf18fa3",
     "locked": false,
     "schema_version": 3,
     "solution": true,
     "task": false
    }
   },
   "outputs": [],
   "source": [
    "w21 = np.sqrt(np.pi) / 2\n",
    "w22 = w21\n",
    "xi21 = 1/np.sqrt(2)\n",
    "xi22 = -xi21\n",
    "w31 = np.sqrt(np.pi)/6\n",
    "w32 = np.sqrt(np.pi) *2/3\n",
    "w33 = w31\n",
    "xi31 = np.sqrt(3/2)\n",
    "xi32 = 0\n",
    "xi33 = -xi31\n",
    "\n",
    "# YOUR CODE HERE\n",
    "# raise NotImplementedError()"
   ]
  },
  {
   "cell_type": "code",
   "execution_count": 100,
   "metadata": {
    "deletable": false,
    "editable": false,
    "nbgrader": {
     "cell_type": "code",
     "checksum": "de3b529b20899c0877d49bfc0a4cde4d",
     "grade": true,
     "grade_id": "cell-ddfa14b5b79ec94c",
     "locked": true,
     "points": 10,
     "schema_version": 3,
     "solution": false,
     "task": false
    }
   },
   "outputs": [],
   "source": [
    "#Testing answer \n"
   ]
  },
  {
   "cell_type": "markdown",
   "metadata": {},
   "source": [
    "\n",
    "Use these Gauss-Hermite quadrature rules to evaluate $I_{k}$ and complete\n",
    "the following table I_gh.\n",
    "\n",
    "|$m$ | $f(x)=\\cos x$ | $f(x)=\\cos ^{2}x$ |\n",
    "|-----| ----- | -----|\n",
    "|$2$ | * | * |\n",
    "|$3$ | * | * |\n",
    "|Exact | * | * |"
   ]
  },
  {
   "cell_type": "code",
   "execution_count": null,
   "metadata": {},
   "outputs": [],
   "source": []
  },
  {
   "cell_type": "code",
   "execution_count": 101,
   "metadata": {
    "deletable": false,
    "nbgrader": {
     "cell_type": "code",
     "checksum": "044697b0515685851a0132848a1f6b2f",
     "grade": false,
     "grade_id": "cell-5f665d153f3e35be",
     "locked": false,
     "schema_version": 3,
     "solution": true,
     "task": false
    }
   },
   "outputs": [
    {
     "name": "stdout",
     "output_type": "stream",
     "text": [
      "[[1.34749846 1.02442843]\n",
      " [1.38203307 1.24960781]\n",
      " [1.38038845 1.21225159]]\n"
     ]
    }
   ],
   "source": [
    "I_gh = np.zeros((3,2))\n",
    "# YOUR CODE HERE\n",
    "# raise NotImplementedError()\n",
    "def f1(x):\n",
    "    return np.cos(x)\n",
    "\n",
    "def f2(x):\n",
    "    return np.cos(x)**2\n",
    "\n",
    "for col, F in enumerate([f1, f2]):\n",
    "    I_gh[0][col] = w21*F(xi21) + w22*F(xi22)\n",
    "    I_gh[1][col] = w31*F(xi31) + w32*F(xi32) + w33*F(xi33)\n",
    "\n",
    "I_gh[2][0] = I_1_ans\n",
    "I_gh[2][1] = I_2_ans\n",
    "    \n",
    "print(I_gh)"
   ]
  },
  {
   "cell_type": "code",
   "execution_count": 102,
   "metadata": {
    "deletable": false,
    "editable": false,
    "nbgrader": {
     "cell_type": "code",
     "checksum": "5c22bcf0f77f5a34b8d991c8221cd97e",
     "grade": true,
     "grade_id": "cell-d99095470b9a6df6",
     "locked": true,
     "points": 0,
     "schema_version": 3,
     "solution": false,
     "task": false
    }
   },
   "outputs": [],
   "source": [
    "#Testing answer \n"
   ]
  }
 ],
 "metadata": {
  "kernelspec": {
   "display_name": "Python 3",
   "language": "python",
   "name": "python3"
  },
  "language_info": {
   "codemirror_mode": {
    "name": "ipython",
    "version": 3
   },
   "file_extension": ".py",
   "mimetype": "text/x-python",
   "name": "python",
   "nbconvert_exporter": "python",
   "pygments_lexer": "ipython3",
   "version": "3.12.8"
  }
 },
 "nbformat": 4,
 "nbformat_minor": 4
}
