{
 "cells": [
  {
   "cell_type": "markdown",
   "metadata": {},
   "source": [
    "Before you turn this problem in, make sure everything runs as expected. First, **restart the kernel** (in the menubar, select Kernel $\\rightarrow$ Restart) and then **run all cells** (in the menubar, select Cell $\\rightarrow$ Run All).\n",
    "\n",
    "Make sure you fill in any place that says `YOUR CODE HERE` or \"YOUR ANSWER HERE\". DO NOT edit cells except the one containing `YOUR CODE HERE` or \"YOUR ANSWER HERE\".  \n",
    "Make sure you fill  your name and student number below:"
   ]
  },
  {
   "cell_type": "code",
   "execution_count": null,
   "metadata": {},
   "outputs": [],
   "source": [
    "NAME = \"\"\n",
    "STUDENT_NUMBER = \"\""
   ]
  },
  {
   "cell_type": "markdown",
   "metadata": {},
   "source": [
    "---"
   ]
  },
  {
   "cell_type": "code",
   "execution_count": null,
   "metadata": {
    "deletable": false,
    "editable": false,
    "nbgrader": {
     "cell_type": "code",
     "checksum": "b72d6e5b4c1ccadb0b80d7238a868b17",
     "grade": false,
     "grade_id": "cell-ceb5875c5402a17c",
     "locked": true,
     "schema_version": 3,
     "solution": false,
     "task": false
    }
   },
   "outputs": [],
   "source": [
    "import numpy as np \n",
    "import matplotlib.pyplot as plt \n",
    "from numpy.testing import assert_allclose as nassert"
   ]
  },
  {
   "cell_type": "markdown",
   "metadata": {},
   "source": [
    "# Numerical Integration:\n",
    "## 1 Integration Methods Comparision\n",
    "Write routines to perform numerical integration of a user-defined function $\n",
    "f(x)$ over an interval $[a,b]$: $I=\\int_{a}^{b}f(x)dx$ by means of : the\n",
    "Midpoint rule with $N$ cells, the Trapezium rule with $N$ cells, Simpson's\n",
    "rule with $2N$ cells and three point Gauss-Legendre quadrature in each of $N$\n",
    "cells. Use these routines to evaluate the integrals (a)-(e) below. In each\n",
    "case complete a table  A of the form:\n",
    "\n",
    "| $N$ | Midpoint | Trapezium | Simpson | Gauss-Legendre |\n",
    "| ----- | ----- | ----- |-----  | ----- |\n",
    "| $2$ | $A_{0,0}$ | $A_{0,1}$ |$A_{0,2}$  | $A_{0,3}$ |\n",
    "| $4$ | $A_{1,0}$ | $A_{1,1}$ | $A_{1,2}$ | $A_{1,3}$ |\n",
    "| $16$ | $A_{2,0}$ | $A_{2,1}$ | $A_{2,2}$ | $A_{2,3}$ |\n",
    "| $32$ | $A_{3,0}$ | $A_{3,1}$ | $A_{3,2}$ | $A_{3,3}$ |"
   ]
  },
  {
   "cell_type": "markdown",
   "metadata": {},
   "source": [
    "\n",
    "and determine the rate of convergence of the algorithms by calculating the\n",
    "error for different values of $N$. Compare the performance of the different\n",
    "algorithms for each of the given integrals by establishing the order of the\n",
    "error term. Using the error estimate derived in class try to explain the\n",
    "different error behaviour for each of integrands.\n"
   ]
  },
  {
   "cell_type": "markdown",
   "metadata": {},
   "source": [
    "\n",
    "\n",
    "\n",
    "-  (a) $I=\\int_{0}^{\\pi }x\\cos \\left( 3x\\right) dx=-\\frac{2}{9}$ \n"
   ]
  },
  {
   "cell_type": "code",
   "execution_count": null,
   "metadata": {
    "deletable": false,
    "nbgrader": {
     "cell_type": "code",
     "checksum": "848e9a9595966bedf1212506c9f5b9b9",
     "grade": false,
     "grade_id": "cell-357a5e93eea9ecef",
     "locked": false,
     "schema_version": 3,
     "solution": true,
     "task": false
    }
   },
   "outputs": [],
   "source": [
    "A = np.array((4,4)) \n",
    "# YOUR CODE HERE\n",
    "raise NotImplementedError()"
   ]
  },
  {
   "cell_type": "code",
   "execution_count": null,
   "metadata": {
    "deletable": false,
    "editable": false,
    "nbgrader": {
     "cell_type": "code",
     "checksum": "1a7e046a48b8f9bcce77f8305c69cd43",
     "grade": true,
     "grade_id": "cell-6b1231882c47010b",
     "locked": true,
     "points": 5,
     "schema_version": 3,
     "solution": false,
     "task": false
    }
   },
   "outputs": [],
   "source": [
    "#Testing answer \n"
   ]
  },
  {
   "cell_type": "markdown",
   "metadata": {},
   "source": [
    "Order of the error terms for the different methods and explanation :"
   ]
  },
  {
   "cell_type": "markdown",
   "metadata": {
    "deletable": false,
    "nbgrader": {
     "cell_type": "markdown",
     "checksum": "0267e7717ecb33a77c45a42b2686ca3f",
     "grade": true,
     "grade_id": "cell-2ccfef4492c47716",
     "locked": false,
     "points": 5,
     "schema_version": 3,
     "solution": true,
     "task": false
    }
   },
   "source": [
    "YOUR ANSWER HERE"
   ]
  },
  {
   "cell_type": "markdown",
   "metadata": {},
   "source": [
    "-  (b) $I=\\int_{0}^{\\pi }\\sin ^{4}2xdx=\\frac{3}{8}\\pi $"
   ]
  },
  {
   "cell_type": "code",
   "execution_count": null,
   "metadata": {
    "deletable": false,
    "nbgrader": {
     "cell_type": "code",
     "checksum": "63a63b51a8fb91cfdc817b69811b9b25",
     "grade": false,
     "grade_id": "cell-23a69516abca67f4",
     "locked": false,
     "schema_version": 3,
     "solution": true,
     "task": false
    }
   },
   "outputs": [],
   "source": [
    "A = np.array((4,4)) \n",
    "# YOUR CODE HERE\n",
    "raise NotImplementedError()"
   ]
  },
  {
   "cell_type": "code",
   "execution_count": null,
   "metadata": {
    "deletable": false,
    "editable": false,
    "nbgrader": {
     "cell_type": "code",
     "checksum": "33078c2bb162e73e0786d40bddc4c9e7",
     "grade": true,
     "grade_id": "cell-50b19854d4d329bd",
     "locked": true,
     "points": 5,
     "schema_version": 3,
     "solution": false,
     "task": false
    }
   },
   "outputs": [],
   "source": [
    "#Testing answer \n"
   ]
  },
  {
   "cell_type": "markdown",
   "metadata": {},
   "source": [
    "Order of the error terms for the different methods and explanation :"
   ]
  },
  {
   "cell_type": "markdown",
   "metadata": {
    "deletable": false,
    "nbgrader": {
     "cell_type": "markdown",
     "checksum": "af4b91abbb903f157879c6c90b2d89fc",
     "grade": true,
     "grade_id": "cell-e0998b8e3d283641",
     "locked": false,
     "points": 5,
     "schema_version": 3,
     "solution": true,
     "task": false
    }
   },
   "source": [
    "YOUR ANSWER HERE"
   ]
  },
  {
   "cell_type": "markdown",
   "metadata": {},
   "source": [
    "-  (c) $I=\\int_{0}^{1}x^{\\frac{3}{2}}dx=\\frac{2}{5}$ "
   ]
  },
  {
   "cell_type": "code",
   "execution_count": null,
   "metadata": {
    "deletable": false,
    "nbgrader": {
     "cell_type": "code",
     "checksum": "bb0b1e0705bb32718c7f20841f007fe3",
     "grade": false,
     "grade_id": "cell-1e7cc34e70bcdeda",
     "locked": false,
     "schema_version": 3,
     "solution": true,
     "task": false
    }
   },
   "outputs": [],
   "source": [
    "A = np.array((4,4)) \n",
    "# YOUR CODE HERE\n",
    "raise NotImplementedError()"
   ]
  },
  {
   "cell_type": "code",
   "execution_count": null,
   "metadata": {
    "deletable": false,
    "editable": false,
    "nbgrader": {
     "cell_type": "code",
     "checksum": "3285d220e33816598d938953791060aa",
     "grade": true,
     "grade_id": "cell-ffc835df280f9a24",
     "locked": true,
     "points": 5,
     "schema_version": 3,
     "solution": false,
     "task": false
    }
   },
   "outputs": [],
   "source": [
    "#Testing answer \n"
   ]
  },
  {
   "cell_type": "markdown",
   "metadata": {},
   "source": [
    "Order of the error terms for the different methods and explanation :"
   ]
  },
  {
   "cell_type": "markdown",
   "metadata": {
    "deletable": false,
    "nbgrader": {
     "cell_type": "markdown",
     "checksum": "8ba5be3863bf2506338ce1a5e8f4b552",
     "grade": true,
     "grade_id": "cell-52f9aabfa240e86a",
     "locked": false,
     "points": 5,
     "schema_version": 3,
     "solution": true,
     "task": false
    }
   },
   "source": [
    "YOUR ANSWER HERE"
   ]
  },
  {
   "cell_type": "markdown",
   "metadata": {},
   "source": [
    "-  (d) $I=\\int_{0}^{1}x^{\\frac{1}{2}}dx=\\frac{2}{3}$"
   ]
  },
  {
   "cell_type": "code",
   "execution_count": null,
   "metadata": {
    "deletable": false,
    "nbgrader": {
     "cell_type": "code",
     "checksum": "4d6cd324d05c0438a0f24034feae2de7",
     "grade": false,
     "grade_id": "cell-4178672a915990e1",
     "locked": false,
     "schema_version": 3,
     "solution": true,
     "task": false
    }
   },
   "outputs": [],
   "source": [
    "A = np.array((4,4)) \n",
    "# YOUR CODE HERE\n",
    "raise NotImplementedError()"
   ]
  },
  {
   "cell_type": "code",
   "execution_count": null,
   "metadata": {
    "deletable": false,
    "editable": false,
    "nbgrader": {
     "cell_type": "code",
     "checksum": "ead4fc543bb4c49d83102588df27069a",
     "grade": true,
     "grade_id": "cell-a4c83d7f46b54cfd",
     "locked": true,
     "points": 5,
     "schema_version": 3,
     "solution": false,
     "task": false
    }
   },
   "outputs": [],
   "source": [
    "#Testing answer \n"
   ]
  },
  {
   "cell_type": "markdown",
   "metadata": {},
   "source": [
    "Order of the error terms for the different methods and explanation :"
   ]
  },
  {
   "cell_type": "markdown",
   "metadata": {
    "deletable": false,
    "nbgrader": {
     "cell_type": "markdown",
     "checksum": "c59a2bbc78c74a1a130cb85bcbfd16fe",
     "grade": true,
     "grade_id": "cell-a4cef080a5bf711d",
     "locked": false,
     "points": 5,
     "schema_version": 3,
     "solution": true,
     "task": false
    }
   },
   "source": [
    "YOUR ANSWER HERE"
   ]
  },
  {
   "cell_type": "markdown",
   "metadata": {},
   "source": [
    "\n",
    "-  (e) $I=\\int_{0}^{1}\\left( -\\ln x\\right) ^{\\frac{3}{2}}dx= \\frac{3}{4}\\pi ^{1/2}$ (use only the open integration rules i.e. Midpoint and Gauss integration for this integral). Here the matrix A has only 2 columns"
   ]
  },
  {
   "cell_type": "code",
   "execution_count": null,
   "metadata": {
    "deletable": false,
    "nbgrader": {
     "cell_type": "code",
     "checksum": "4ed77d43fcf7a168f5fa9afe2b20bbbc",
     "grade": false,
     "grade_id": "cell-94d55abe0da5e29d",
     "locked": false,
     "schema_version": 3,
     "solution": true,
     "task": false
    }
   },
   "outputs": [],
   "source": [
    "A = np.array((4,2)) \n",
    "# YOUR CODE HERE\n",
    "raise NotImplementedError()"
   ]
  },
  {
   "cell_type": "code",
   "execution_count": null,
   "metadata": {
    "deletable": false,
    "editable": false,
    "nbgrader": {
     "cell_type": "code",
     "checksum": "96115f098a4935719faa1a914634eab8",
     "grade": true,
     "grade_id": "cell-62f6031ad5ffbcb3",
     "locked": true,
     "points": 5,
     "schema_version": 3,
     "solution": false,
     "task": false
    }
   },
   "outputs": [],
   "source": [
    "#Testing answer \n"
   ]
  },
  {
   "cell_type": "markdown",
   "metadata": {},
   "source": [
    "Order of the error terms for the different methods and explanation :"
   ]
  },
  {
   "cell_type": "markdown",
   "metadata": {
    "deletable": false,
    "nbgrader": {
     "cell_type": "markdown",
     "checksum": "56b0d5629844c3d6aa538fc1e95d7212",
     "grade": true,
     "grade_id": "cell-8cf3f80c1cc60439",
     "locked": false,
     "points": 5,
     "schema_version": 3,
     "solution": true,
     "task": false
    }
   },
   "source": [
    "YOUR ANSWER HERE"
   ]
  },
  {
   "cell_type": "markdown",
   "metadata": {},
   "source": [
    "\n",
    "## 2 Boole's Rule: \n",
    "In class we showed that if we apply Richardson\n",
    "extrapolation to the Trapezium Rule then we obtain Simpson's rule. This idea\n",
    "can be extended to obtain higher order Newton-Cotes integration rules. As an\n",
    "example combine two estimates of the same integral using Simpson's Rule with \n",
    "$h$ and $\\frac{h}{2}$ and Richardson Extrapolation (recall that the error in\n",
    "the Composite Simpson's Rule is $O(h^{4})$) to obtain the so-called Boole's\n",
    "Rule which is given under the list of closed Newton-Cotes formulae in the\n",
    "notes:\n",
    "\n",
    "$\\int\\limits_{x_{1}}^{x_{5}}f(x)dx=\\frac{h}{45}\\left(\n",
    "7f_{1}+32f_{2}+12f_{3}+32f_{4}+7f_{5}\\right) +O(h^{7})$\n",
    "\n"
   ]
  },
  {
   "cell_type": "markdown",
   "metadata": {
    "deletable": false,
    "nbgrader": {
     "cell_type": "markdown",
     "checksum": "c486a248a7ed70b0a7f2d2594d3de48d",
     "grade": true,
     "grade_id": "cell-455f489d11c2c3b3",
     "locked": false,
     "points": 10,
     "schema_version": 3,
     "solution": true,
     "task": false
    }
   },
   "source": [
    "YOUR ANSWER HERE"
   ]
  },
  {
   "cell_type": "markdown",
   "metadata": {},
   "source": [
    "## 3 Romberg integration\n",
    "Repeated Richardson extrapolation applied to the Trapezium Rule is\n",
    "known as Romberg integration. Use the following asymptotic expansion for the\n",
    "error in the Trepezium rule,\n",
    "\n",
    "$$I(0)-I(h_{s})=\\sum\\limits_{i=1}^{\\infty }c_{i}h_{s}^{2i}$$\n",
    "to derive the recursion for Richardson extrapolants for $I$ in which $h_{s+1}=\\frac{1}{2}h_{s}.$\n",
    "\n",
    "If we define $a_{s}^{(1)}=I(h_{s})$ then by eliminating the $O(h^{2})$ term in the expansion show that:\n",
    "$$\n",
    "I(0)-\\left\\{ a_{s+1}^{(1)}+\\frac{a_{s+1}^{(1)}-a_{s}^{(1)}}{2^{2}-1}\\right\\}\n",
    "=\\sum\\limits_{i=2}^{\\infty }c_{i}^{(2)}h_{s}^{2i} \n",
    "$$\n",
    "where $c_{i}^{(2)}=\\frac{c_{i}}{3}\\left( \\frac{1}{4^{\\left( i-1\\right) }}-1\\right) .$ Now define\n",
    "$$\n",
    "a_{s}^{(2)}=a_{s+1}^{(1)}+\\frac{a_{s+1}^{(1)}-a_{s}^{(1)}}{2^{2}-1} \n",
    "$$\n",
    "\n",
    "and use expressions for $a_{s}^{(2)}$ and $a_{s+1}^{(2)}$ to eliminate the $O(h^{4})$ term. Now generalize this to obtain the following recursion for $a_{s}^{(m)}$ in terms of $a_{s}^{(m-1)}$:\n",
    "$$\n",
    "a_{s}^{(m)}=a_{s+1}^{(m-1)}+\\frac{a_{s+1}^{(m-1)}-a_{s}^{(m-1)}}{4^{m-1}-1} \n",
    "$$\n"
   ]
  },
  {
   "cell_type": "markdown",
   "metadata": {
    "deletable": false,
    "nbgrader": {
     "cell_type": "markdown",
     "checksum": "13f0ea5bae9218b779c9c63de01076a3",
     "grade": true,
     "grade_id": "cell-beea132eb845b050",
     "locked": false,
     "points": 5,
     "schema_version": 3,
     "solution": true,
     "task": false
    }
   },
   "source": [
    "YOUR ANSWER HERE"
   ]
  },
  {
   "cell_type": "markdown",
   "metadata": {},
   "source": [
    "\n",
    "Modify the routine `trapez` posted on the course web site to perform\n",
    "repeated Richardson Extrapolation until a prescribed tolerance is reached.\n",
    "Call this new function \n",
    "$$\n",
    " [ Integral,I,X]=Romberg(f,a,b,tol,kmax)\n",
    "$$\n",
    "where the inputs are f=the integrand, [a,b]= the domain of\n",
    "integration,  tol = the specified tolerance, and kmax = the\n",
    "maximum number of refinements. The outputs are:  Integral= the\n",
    "approximate integral,  I= the array of extrapolated values, and X= the\n",
    "sample points. Use this routine to evaluate the integral\n",
    "$$\n",
    "I=\\int_{0}^{1}(1+x^{2})^{-1}dx=\\frac{\\pi }{4}\n",
    "$$\n"
   ]
  },
  {
   "cell_type": "markdown",
   "metadata": {},
   "source": [
    "Compute the result  for $kmax=20$  and $tol=1e-8$:"
   ]
  },
  {
   "cell_type": "code",
   "execution_count": null,
   "metadata": {
    "deletable": false,
    "nbgrader": {
     "cell_type": "code",
     "checksum": "0d202e2bc88d5eb00f6b693ad09a49fd",
     "grade": false,
     "grade_id": "cell-c56970a5fe35e5bc",
     "locked": false,
     "schema_version": 3,
     "solution": true,
     "task": false
    }
   },
   "outputs": [],
   "source": [
    "res = 0\n",
    "# YOUR CODE HERE\n",
    "raise NotImplementedError()"
   ]
  },
  {
   "cell_type": "code",
   "execution_count": null,
   "metadata": {
    "deletable": false,
    "editable": false,
    "nbgrader": {
     "cell_type": "code",
     "checksum": "daaf8503e9a9c700ddb85954f86bd266",
     "grade": true,
     "grade_id": "cell-135c6324a7c4196a",
     "locked": true,
     "points": 5,
     "schema_version": 3,
     "solution": false,
     "task": false
    }
   },
   "outputs": [],
   "source": [
    "#Testing answer \n"
   ]
  },
  {
   "cell_type": "markdown",
   "metadata": {},
   "source": [
    "Provide the table of extrapolated values in the table `a` of the following shape (with the value -1 if not defined): \n",
    "|$a_{k}^{0}$ | $a_{k}^{1}$ | $a_{k}^{2}$ | $a_{k}^{3}$ |\n",
    "|------|-----| -----|-----|\n",
    "| $a_{0,0}$ |*|* |*|\n",
    "|*|* |* |* |*|\n",
    "| * |*| *|*|\n",
    "| * | * |*|*|\n"
   ]
  },
  {
   "cell_type": "code",
   "execution_count": null,
   "metadata": {
    "deletable": false,
    "nbgrader": {
     "cell_type": "code",
     "checksum": "6a55ff0f74e65f56cf57f34f2a9a6f1d",
     "grade": false,
     "grade_id": "cell-7b8c141a889b0942",
     "locked": false,
     "schema_version": 3,
     "solution": true,
     "task": false
    }
   },
   "outputs": [],
   "source": [
    "a = -1*np.ones((4,4))\n",
    "# YOUR CODE HERE\n",
    "raise NotImplementedError()"
   ]
  },
  {
   "cell_type": "code",
   "execution_count": null,
   "metadata": {
    "deletable": false,
    "editable": false,
    "nbgrader": {
     "cell_type": "code",
     "checksum": "958cea4042d171df6ded0ea0d84d1acc",
     "grade": true,
     "grade_id": "cell-a68edd7cd95284e7",
     "locked": true,
     "points": 5,
     "schema_version": 3,
     "solution": false,
     "task": false
    }
   },
   "outputs": [],
   "source": [
    "#Testing answer \n"
   ]
  },
  {
   "cell_type": "markdown",
   "metadata": {},
   "source": [
    "\n",
    "How many refinements are required to obtain 5 digits of precision?\n"
   ]
  },
  {
   "cell_type": "markdown",
   "metadata": {
    "deletable": false,
    "nbgrader": {
     "cell_type": "markdown",
     "checksum": "10fdf60df227f6088a8b307ce8d1dc36",
     "grade": true,
     "grade_id": "cell-0253f09120e2c096",
     "locked": false,
     "points": 5,
     "schema_version": 3,
     "solution": true,
     "task": false
    }
   },
   "source": [
    "YOUR ANSWER HERE"
   ]
  },
  {
   "cell_type": "markdown",
   "metadata": {},
   "source": [
    "## 4 Singular Integrals\n",
    "\n",
    "Evaluate the Fresnel integral $I=\\int_{0}^{\\pi /2}x^{-{\\frac{1}{2}}}\\cos xdx$ =1.954902848583 directly using your Midpoint code and your\n",
    "3-point Gauss-Legendre code. The singularity can sometimes be avoided all\n",
    "together by means of a judicious transformation of variables, which in this\n",
    "case involves the simple substitution $u=x^{\\frac{1}{2}}$. Alternatively,\n",
    "the convergence of the numerical approximation can be improved by\n",
    "subtracting out the singularity as follows: $I=\\int_{0}^{\\pi }x^{-{\\frac{1}{2}}}dx+\\int_{0}^{\\pi }x^{-{\\frac{1}{2}}}(\\cos x-1)dx=2\\sqrt{\\pi }+\\int_{0}^{\\pi }x^{-{\\frac{1}{2}}}(\\cos x-1)dx$. Since the last integrand is\n",
    "no longer singular it can be evaluated without difficulty using all the\n",
    "routines developed above. Compute the transformation when substracting 3 terms.\n"
   ]
  },
  {
   "cell_type": "markdown",
   "metadata": {
    "deletable": false,
    "nbgrader": {
     "cell_type": "markdown",
     "checksum": "dfad311a7ce2c89e653e53c6b0578b83",
     "grade": true,
     "grade_id": "cell-4d338a8d921dfe09",
     "locked": false,
     "points": 4,
     "schema_version": 3,
     "solution": true,
     "task": false
    }
   },
   "source": [
    "YOUR ANSWER HERE"
   ]
  },
  {
   "cell_type": "markdown",
   "metadata": {},
   "source": [
    "\n",
    "\n",
    "Use the the midpoint rule, the repeated\n",
    "Trapezoidal rule, and the 3-point Gauss-Legendre rule to evaluate $I$ by (a)\n",
    "using the transformation, (b) subtracting one and two terms in the Taylor\n",
    "series expansion for $\\cos(x)$. Compare the results by completing the\n",
    "following table T_si:\n",
    "|Integration Rule | $h=(\\frac{\\pi }{2})2^{-4}$ | $h=(\\frac{\\pi }{2})2^{-6}$ |\n",
    "|-----| ------| ----- |\n",
    "|Direct Midpoint | * | * |\n",
    "|Direct 3 pt Gauss | * | * |\n",
    "|Transform Midpoint | * | * |\n",
    "|Transform 3 pt Gauss | * | *|\n",
    "|Transform Trapezium | * | * |\n",
    "|Subtract 1 term Midpoint | * | * | \n",
    "|Subtract 1 term 3 pt Gauss | * | * | \n",
    "|Subtract 1 term Trapezium | * | * | \n",
    "|Subtract 2 terms Midpoint | * | * | \n",
    "|Subtract 2 terms 3 pt Gauss | * | * |\n",
    "|Subtract 2 terms Trapezium | * | * | \n"
   ]
  },
  {
   "cell_type": "code",
   "execution_count": null,
   "metadata": {
    "deletable": false,
    "nbgrader": {
     "cell_type": "code",
     "checksum": "64d94499c0b150ec9e7ec01bca4a625d",
     "grade": false,
     "grade_id": "cell-e7942b63ef54bee4",
     "locked": false,
     "schema_version": 3,
     "solution": true,
     "task": false
    }
   },
   "outputs": [],
   "source": [
    "\n",
    "T_si = np.zeros((11,2))\n",
    "# YOUR CODE HERE\n",
    "raise NotImplementedError()"
   ]
  },
  {
   "cell_type": "code",
   "execution_count": null,
   "metadata": {
    "deletable": false,
    "editable": false,
    "nbgrader": {
     "cell_type": "code",
     "checksum": "d6c5e97facc97c3b6fe8586b9b91d366",
     "grade": true,
     "grade_id": "cell-428c3bf43dc22911",
     "locked": true,
     "points": 11,
     "schema_version": 3,
     "solution": false,
     "task": false
    }
   },
   "outputs": [],
   "source": [
    "#Testing answer \n"
   ]
  },
  {
   "cell_type": "markdown",
   "metadata": {},
   "source": [
    "\n",
    "## 5 Integrals on infinite intervals:\n",
    "\n",
    "Consider evaluating the impropper integrals:\n",
    "$$\n",
    "\\begin{align}\n",
    "I_{1} &=\\int_{-\\infty }^{\\infty }e^{-x^{2}}\\cos xdx=\\pi ^{1/2}e^{-1/4} \\\\\n",
    "I_{2} &=\\int_{-\\infty }^{\\infty }e^{-x^{2}}\\cos ^{2}xdx=\\pi\n",
    "^{1/2}(1+e^{-1})/2\n",
    "\\end{align}\n",
    "$$\n",
    "\n",
    "-  (a) Since the integrands are symmetric convert the integration interval to \n",
    "$[ 0,\\infty ) $ and use your Romberg routine to estimate $I_{1}$\n",
    "and $I_{2}$ as follows. Evaluate these integral directly by dividing the\n",
    "integral into two parts i.e. $[0,\\infty )=[0,c]\\cup [ c,\\infty )$. Can\n",
    "you control the error in the discarded part? What happens if you keep\n",
    "increasing $c?$ Plot $I_{k}(c).$\n",
    "\n"
   ]
  },
  {
   "cell_type": "markdown",
   "metadata": {
    "deletable": false,
    "nbgrader": {
     "cell_type": "markdown",
     "checksum": "085c4ca68696fd64c3ccf8bb97665cc0",
     "grade": true,
     "grade_id": "cell-90d72c5ec14aa9cb",
     "locked": false,
     "points": 10,
     "schema_version": 3,
     "solution": true,
     "task": false
    }
   },
   "source": [
    "YOUR ANSWER HERE"
   ]
  },
  {
   "cell_type": "code",
   "execution_count": null,
   "metadata": {
    "deletable": false,
    "nbgrader": {
     "cell_type": "code",
     "checksum": "8ffb43cb7c7768bb1b0a6fc44075c745",
     "grade": false,
     "grade_id": "cell-b5c39256c13c4d3a",
     "locked": false,
     "schema_version": 3,
     "solution": true,
     "task": false
    }
   },
   "outputs": [],
   "source": [
    "# Your plot\n",
    "\n",
    "# YOUR CODE HERE\n",
    "raise NotImplementedError()"
   ]
  },
  {
   "cell_type": "markdown",
   "metadata": {},
   "source": [
    "-  Gauss-Hermite quadrature with integration points evaluates integrals\n",
    "of the form\n",
    "$$\n",
    "\\int\\limits_{-\\infty }^{\\infty }e^{-x^{2}}f(x)dx\n",
    "$$\n",
    "exactly if $f(x)$ is a polynomial of degree $2m-1.$ Use this fact to\n",
    "determine the integration points $\\xi _{i}$ and weights $w_{i}$ in the\n",
    "formula\n",
    "$$\n",
    "\\begin{align}\n",
    "\\int\\limits_{-\\infty }^{\\infty }e^{-x^{2}}f(x)dx &\\simeq w_{2,1}f(\\xi\n",
    "_{2,1})+w_{2,2}f(\\xi _{2,2})\\text{ if }m=2 \\\\\n",
    "\\int\\limits_{-\\infty }^{\\infty }e^{-x^{2}}f(x)dx &\\simeq w_{3,1}f(\\xi\n",
    "_{3,1})+w_{3,2}f(\\xi _{3,2})+w_{3,3}f(\\xi _{3,3})\\text{ if }m=3\n",
    "\\end{align}\n",
    "$$\n",
    "\n",
    "\n",
    "To simplify your calculation, you may assume the symmetry\n",
    "conditions $w_{2,1}=w_{2,2}$ and $\\xi _{2,2}=-\\xi _{2,1}\\geq0$. You\n",
    "may also assume $w_{3,1}=w_{3,3}$, $\\xi _{3,2}=0,$ and $\\xi _{3,3}=-\\xi _{3,1}\\geq0.$\n",
    "\n",
    "Hint: It may also be helpful to know that $\\int\\limits_{-\\infty }^{\\infty}e^{-x^{2}}dx=\\pi ^{1/2}$,\n",
    "$\\int\\limits_{-\\infty }^{\\infty }e^{-x^{2}}x^{2}dx=\\frac{1}{2}\\pi ^{1/2},$ and \n",
    "$\\int\\limits_{-\\infty }^{\\infty}e^{-x^{2}}x^{4}dx=\\frac{3}{4}\\sqrt{\\pi }.$\n"
   ]
  },
  {
   "cell_type": "code",
   "execution_count": null,
   "metadata": {
    "deletable": false,
    "nbgrader": {
     "cell_type": "code",
     "checksum": "003e5830bf9074dcced1d36f00f53206",
     "grade": false,
     "grade_id": "cell-f683f6e7edf18fa3",
     "locked": false,
     "schema_version": 3,
     "solution": true,
     "task": false
    }
   },
   "outputs": [],
   "source": [
    "w21 = 0\n",
    "w22 = 0\n",
    "xi21 = 0\n",
    "xi22 = 0\n",
    "w31 = 0\n",
    "w32 = 0\n",
    "w33 = 0\n",
    "xi31 = 0\n",
    "xi32 = 0\n",
    "xi33 = 0\n",
    "\n",
    "# YOUR CODE HERE\n",
    "raise NotImplementedError()\n"
   ]
  },
  {
   "cell_type": "code",
   "execution_count": null,
   "metadata": {
    "deletable": false,
    "editable": false,
    "nbgrader": {
     "cell_type": "code",
     "checksum": "de3b529b20899c0877d49bfc0a4cde4d",
     "grade": true,
     "grade_id": "cell-ddfa14b5b79ec94c",
     "locked": true,
     "points": 10,
     "schema_version": 3,
     "solution": false,
     "task": false
    }
   },
   "outputs": [],
   "source": [
    "#Testing answer \n"
   ]
  },
  {
   "cell_type": "markdown",
   "metadata": {},
   "source": [
    "\n",
    "Use these Gauss-Hermite quadrature rules to evaluate $I_{k}$ and complete\n",
    "the following table I_gh.\n",
    "\n",
    "|$m$ | $f(x)=\\cos x$ | $f(x)=\\cos ^{2}x$ |\n",
    "|-----| ----- | -----|\n",
    "|$2$ | * | * |\n",
    "|$3$ | * | * |\n",
    "|Exact | * | * |"
   ]
  },
  {
   "cell_type": "code",
   "execution_count": null,
   "metadata": {
    "deletable": false,
    "nbgrader": {
     "cell_type": "code",
     "checksum": "044697b0515685851a0132848a1f6b2f",
     "grade": false,
     "grade_id": "cell-5f665d153f3e35be",
     "locked": false,
     "schema_version": 3,
     "solution": true,
     "task": false
    }
   },
   "outputs": [],
   "source": [
    "I_gh = np.zeros((3,2))\n",
    "# YOUR CODE HERE\n",
    "raise NotImplementedError()\n"
   ]
  },
  {
   "cell_type": "code",
   "execution_count": null,
   "metadata": {
    "deletable": false,
    "editable": false,
    "nbgrader": {
     "cell_type": "code",
     "checksum": "5c22bcf0f77f5a34b8d991c8221cd97e",
     "grade": true,
     "grade_id": "cell-d99095470b9a6df6",
     "locked": true,
     "points": 0,
     "schema_version": 3,
     "solution": false,
     "task": false
    }
   },
   "outputs": [],
   "source": [
    "#Testing answer \n"
   ]
  }
 ],
 "metadata": {
  "kernelspec": {
   "display_name": "Python 3 (ipykernel)",
   "language": "python",
   "name": "python3"
  },
  "language_info": {
   "codemirror_mode": {
    "name": "ipython",
    "version": 3
   },
   "file_extension": ".py",
   "mimetype": "text/x-python",
   "name": "python",
   "nbconvert_exporter": "python",
   "pygments_lexer": "ipython3",
   "version": "3.12.3"
  }
 },
 "nbformat": 4,
 "nbformat_minor": 4
}
