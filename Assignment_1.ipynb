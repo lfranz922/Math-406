{
 "cells": [
  {
   "cell_type": "markdown",
   "id": "2266074d",
   "metadata": {},
   "source": [
    "Before you turn this problem in, make sure everything runs as expected. First, **restart the kernel** (in the menubar, select Kernel $\\rightarrow$ Restart) and then **run all cells** (in the menubar, select Cell $\\rightarrow$ Run All).\n",
    "\n",
    "Make sure you fill in any place that says `YOUR CODE HERE` or \"YOUR ANSWER HERE\". DO NOT edit cells except the one containing `YOUR CODE HERE` or \"YOUR ANSWER HERE\".  \n",
    "Make sure you fill  your name and student number below:"
   ]
  },
  {
   "cell_type": "code",
   "execution_count": 33,
   "id": "29dee743",
   "metadata": {},
   "outputs": [],
   "source": [
    "NAME = \"Lukas Franz\"\n",
    "STUDENT_NUMBER = \"23501307\""
   ]
  },
  {
   "cell_type": "markdown",
   "id": "6eff0813",
   "metadata": {},
   "source": [
    "---"
   ]
  },
  {
   "cell_type": "code",
   "execution_count": 34,
   "id": "a067fef6",
   "metadata": {
    "deletable": false,
    "editable": false,
    "nbgrader": {
     "cell_type": "code",
     "checksum": "43bbfbf071203b8f4edc3bb8191b1d33",
     "grade": false,
     "grade_id": "cell-85a7a7be4fb7ea9d",
     "locked": true,
     "schema_version": 3,
     "solution": false,
     "task": false
    }
   },
   "outputs": [],
   "source": [
    "import numpy as np \n",
    "import matplotlib.pyplot as plt \n",
    "from numpy.testing import assert_allclose as nassert\n"
   ]
  },
  {
   "cell_type": "markdown",
   "id": "e1e2786a",
   "metadata": {
    "deletable": false,
    "editable": false,
    "nbgrader": {
     "cell_type": "markdown",
     "checksum": "2ac1d56cdee13acc62887f69e1bada41",
     "grade": false,
     "grade_id": "cell-f26a5a1f8cc1f9af",
     "locked": true,
     "schema_version": 3,
     "solution": false,
     "task": false
    }
   },
   "source": [
    "# Math 406: Ass. 1: Due Thursday 30 April.\n",
    "## 0. Instructions.\n",
    "Please code all your function using numpy arrays (floats  64) or floats as input and output. You can use all numpy functions for linear algebra, but no fancy library. Please do not change the global variables($x_k,x_{test}$...) and don't use the $=$ sign to do a copy with them (it is not a deepcopy), but rather use `x=np.array(x_test)`. Please add titles and labels (x and y axis) to every figure. For non-code answers, you can type simple latex expressions ([Link](https://ashki23.github.io/markdown-latex.html)).\n"
   ]
  },
  {
   "cell_type": "markdown",
   "id": "d1550208",
   "metadata": {
    "deletable": false,
    "editable": false,
    "nbgrader": {
     "cell_type": "markdown",
     "checksum": "1024c12985f8ac25faecf3437646b06b",
     "grade": false,
     "grade_id": "cell-9461bbd3a8be243d",
     "locked": true,
     "schema_version": 3,
     "solution": false,
     "task": false
    }
   },
   "source": [
    "\n",
    "## 1. Lagrange interpolating polynomial.\n",
    "\n",
    "(a) Define the Lagrange interpolating basis functions $l_{0}^{(5)}(x)$ and $\n",
    "l_{4}^{(5)}(x)$ $(0<x<1)$, generated using the points \n",
    "\n"
   ]
  },
  {
   "cell_type": "code",
   "execution_count": 35,
   "id": "b1e8bd2d",
   "metadata": {
    "deletable": false,
    "editable": false,
    "nbgrader": {
     "cell_type": "code",
     "checksum": "d657a46b2921a9bc374f6edfc97ac31e",
     "grade": false,
     "grade_id": "cell-4aea95befb8dc5c8",
     "locked": true,
     "schema_version": 3,
     "solution": false,
     "task": false
    }
   },
   "outputs": [],
   "source": [
    "x_k = np.array([0,0.2,0.35,0.5,1, 1.25])"
   ]
  },
  {
   "cell_type": "markdown",
   "id": "ea62299c",
   "metadata": {
    "deletable": false,
    "editable": false,
    "nbgrader": {
     "cell_type": "markdown",
     "checksum": "5edd4bfaf1a51a0f0127b60cdee7432b",
     "grade": false,
     "grade_id": "cell-901301b8d7217080",
     "locked": true,
     "schema_version": 3,
     "solution": false,
     "task": false
    }
   },
   "source": [
    "(by convention $l_{0}^{(5)}$ is defined on the first point). Use markers to highlight points $x_{k}$ on the plots. Evaluate the functions on the following points (the evaluation should be numpy array of the same shape):"
   ]
  },
  {
   "cell_type": "code",
   "execution_count": 36,
   "id": "0aa2b89a",
   "metadata": {
    "deletable": false,
    "editable": false,
    "nbgrader": {
     "cell_type": "code",
     "checksum": "2a9ebd57b250e5c2013b24ebce8a501f",
     "grade": false,
     "grade_id": "cell-9c8896c6bac7dc56",
     "locked": true,
     "schema_version": 3,
     "solution": false,
     "task": false
    }
   },
   "outputs": [],
   "source": [
    "x_test =  np.linspace(0,2,1001)"
   ]
  },
  {
   "cell_type": "code",
   "execution_count": 37,
   "id": "5232db3a",
   "metadata": {
    "deletable": false,
    "nbgrader": {
     "cell_type": "code",
     "checksum": "c72cbe88e72808e38309eec13b5cd84b",
     "grade": false,
     "grade_id": "cell-53e97d187bdfd89e",
     "locked": false,
     "schema_version": 3,
     "solution": true,
     "task": false
    }
   },
   "outputs": [],
   "source": [
    "# Evaluation function \n",
    "\n",
    "def eval_l05(x_test=x_test):\n",
    "    res = np.ones_like(x_test)\n",
    "    # YOUR CODE HERE\n",
    "    j = 0\n",
    "\n",
    "    for k in range(len(x_k)):\n",
    "        if k != j:\n",
    "            res *= (x_test - x_k[k]) / (x_k[j] - x_k[k])\n",
    "\n",
    "    return res # this is the evaluation on x_test, it should be a  numpy array of shape (1,1001)\n",
    "\n",
    "def eval_l45(x_test=x_test):\n",
    "    res = np.ones_like(x_test)\n",
    "    # YOUR CODE HERE\n",
    "    j = 4\n",
    "\n",
    "    for k in range(len(x_k)):\n",
    "        if k != j:\n",
    "            res *= (x_test - x_k[k]) / (x_k[j] - x_k[k])\n",
    "\n",
    "    return res # this is the evaluation on x_test, it should be a  numpy array of shape (1,1001)"
   ]
  },
  {
   "cell_type": "markdown",
   "id": "1811ec0b",
   "metadata": {
    "deletable": false,
    "editable": false,
    "nbgrader": {
     "cell_type": "markdown",
     "checksum": "813a8213e68cce77d79581961536424b",
     "grade": false,
     "grade_id": "cell-852b8e77fa334778",
     "locked": true,
     "points": 5,
     "schema_version": 3,
     "solution": false,
     "task": true
    }
   },
   "source": [
    "\n",
    "Plot under :\n",
    "\n"
   ]
  },
  {
   "cell_type": "code",
   "execution_count": 38,
   "id": "45449a14",
   "metadata": {
    "deletable": false,
    "nbgrader": {
     "cell_type": "code",
     "checksum": "02f3451639cfd8f32b707d857a9f3ba4",
     "grade": false,
     "grade_id": "cell-cd7789444c447601",
     "locked": false,
     "schema_version": 3,
     "solution": true,
     "task": false
    }
   },
   "outputs": [
    {
     "data": {
      "image/png": "[encoded data removed]",
      "text/plain": [
       "<Figure size 640x480 with 1 Axes>"
      ]
     },
     "metadata": {},
     "output_type": "display_data"
    }
   ],
   "source": [
    "# YOUR CODE HERE\n",
    "plt.plot(x_test, eval_l05(), label=r\"$l_0^{(5)}(x)$\")\n",
    "plt.scatter(x_k, eval_l05(x_k), color=\"r\")\n",
    "\n",
    "plt.plot(x_test, eval_l45(), label=r\"$l_4^{(5)}(x)$\")\n",
    "plt.scatter(x_k, eval_l45(x_k), color=\"g\")\n",
    "\n",
    "# TODO mark the points that matter\n",
    "plt.title(\"Lagrange Basis Functions\", fontsize=16)\n",
    "plt.xlabel(\"x\", fontsize=14)\n",
    "plt.ylabel(\"y\", fontsize=14)\n",
    "plt.axhline(0, color='black', linewidth=0.8, linestyle='--')\n",
    "plt.legend(fontsize=12)\n",
    "\n",
    "plt.show()\n"
   ]
  },
  {
   "cell_type": "code",
   "execution_count": 39,
   "id": "2c535f0e",
   "metadata": {
    "deletable": false,
    "editable": false,
    "nbgrader": {
     "cell_type": "code",
     "checksum": "461accae23e7a6cb942689eb2ec91b6c",
     "grade": true,
     "grade_id": "cell-2a3248de8b3bc3d4",
     "locked": true,
     "points": 5,
     "schema_version": 3,
     "solution": false,
     "task": false
    }
   },
   "outputs": [],
   "source": [
    "#Testing answer "
   ]
  },
  {
   "cell_type": "markdown",
   "id": "2c85bf79",
   "metadata": {
    "deletable": false,
    "editable": false,
    "nbgrader": {
     "cell_type": "markdown",
     "checksum": "9b691e48376d9353acf8a2aba350b168",
     "grade": false,
     "grade_id": "cell-a1158f3eb4554d50",
     "locked": true,
     "schema_version": 3,
     "solution": false,
     "task": false
    }
   },
   "source": [
    "(b) Define and plot the Lagrange interpolating polynomial $p_{4}(x)(0<x<1)$ that passes\n",
    "through the points $(x_{k},f(x_{k})),$ $f(x)=e^{x}\\cos(x^2)$, and evaluate it on $x_{\\text{test}}$. You can use the functions `np.exp` and `np.cos` ([Link](https://numpy.org/doc/2.1/reference/generated/numpy.exp.html))."
   ]
  },
  {
   "cell_type": "code",
   "execution_count": 40,
   "id": "5998f20c",
   "metadata": {
    "deletable": false,
    "nbgrader": {
     "cell_type": "code",
     "checksum": "558bd3cc1c1912561b9cc18605996b83",
     "grade": false,
     "grade_id": "cell-d9e330f4f00e8b6e",
     "locked": false,
     "schema_version": 3,
     "solution": true,
     "task": false
    }
   },
   "outputs": [],
   "source": [
    "def f(x):\n",
    "    return np.cos(x**2)*np.exp(x)\n",
    "\n",
    "def l(j, x_k, x_test):\n",
    "    res = np.ones_like(x_test)\n",
    "    # YOUR CODE HERE\n",
    "    for k in range(len(x_k)):\n",
    "        if k != j:\n",
    "            res *= (x_test - x_k[k]) / (x_k[j] - x_k[k])\n",
    "\n",
    "    return res # this is the evaluation on x_test, it should be a  numpy array of shape (1,1001)\n",
    "\n",
    "\n",
    "# Evaluation function\n",
    "def eval_p4():\n",
    "    res = 0\n",
    "    x_4 = np.array([0.2, 0.4, 0.6, 0.8])\n",
    "    f_sample = f(x_4)\n",
    "    l_samples = np.array([l(j, x_4, x_test) for j in range(len(x_4))])\n",
    "\n",
    "    res = np.dot(f_sample, l_samples)\n",
    "\n",
    "    return res\n"
   ]
  },
  {
   "cell_type": "markdown",
   "id": "077e1382",
   "metadata": {
    "deletable": false,
    "editable": false,
    "nbgrader": {
     "cell_type": "markdown",
     "checksum": "731e8cdbf73d389fb8f295e881408735",
     "grade": false,
     "grade_id": "cell-6e9f05ae69b8ecff",
     "locked": true,
     "points": 5,
     "schema_version": 3,
     "solution": false,
     "task": true
    }
   },
   "source": [
    "\n",
    "Plot under :"
   ]
  },
  {
   "cell_type": "code",
   "execution_count": 41,
   "id": "09bcb441",
   "metadata": {
    "deletable": false,
    "nbgrader": {
     "cell_type": "code",
     "checksum": "a8881fc0e28bccb45dbbeb299cc59517",
     "grade": false,
     "grade_id": "cell-f898f7dffbff19ef",
     "locked": false,
     "schema_version": 3,
     "solution": true,
     "task": false
    }
   },
   "outputs": [
    {
     "data": {
      "image/png": "[encoded data removed]",
      "text/plain": [
       "<Figure size 640x480 with 1 Axes>"
      ]
     },
     "metadata": {},
     "output_type": "display_data"
    }
   ],
   "source": [
    "# YOUR CODE HERE\n",
    "x_4 = np.array([0.2, 0.4, 0.6, 0.8])\n",
    "plt.plot(x_test, eval_p4())\n",
    "plt.scatter(x_4, f(x_4), color=\"r\")\n",
    "plt.show()"
   ]
  },
  {
   "cell_type": "code",
   "execution_count": 42,
   "id": "147ebe41",
   "metadata": {
    "deletable": false,
    "editable": false,
    "nbgrader": {
     "cell_type": "code",
     "checksum": "2b0a9b2801d5ac0d500e1b9156daa59c",
     "grade": true,
     "grade_id": "cell-a80f920db1898f26",
     "locked": true,
     "points": 5,
     "schema_version": 3,
     "solution": false,
     "task": false
    }
   },
   "outputs": [],
   "source": [
    "#Testing answer "
   ]
  },
  {
   "cell_type": "markdown",
   "id": "53d715b4",
   "metadata": {
    "deletable": false,
    "editable": false,
    "nbgrader": {
     "cell_type": "markdown",
     "checksum": "501a621d99ba701c9f4888fe93755db7",
     "grade": false,
     "grade_id": "cell-d288293fd5ae1f1d",
     "locked": true,
     "schema_version": 3,
     "solution": false,
     "task": false
    }
   },
   "source": [
    "## Chebychev Points: \n",
    "The so-called Chebychev points \n",
    "$$x_{j}=\\cos (j\\pi /N),\\quad j=0,1,\\ldots ,N,$$\n",
    "\n",
    "which are the points at which the Chebychev polynomials take on extreme\n",
    "values in $[-1,1]$ , are commonly used in spectral\n",
    "approximations for non-periodic functions. Check that the polynomials take on extreme values at those points:\n"
   ]
  },
  {
   "cell_type": "markdown",
   "id": "178b17c8",
   "metadata": {
    "deletable": false,
    "editable": false,
    "nbgrader": {
     "cell_type": "markdown",
     "checksum": "9d19f401c25482e46b27ac55f3683ea6",
     "grade": false,
     "grade_id": "cell-cd8f048aa040f2ca",
     "locked": true,
     "schema_version": 3,
     "solution": false,
     "task": false
    }
   },
   "source": [
    "Solution : \n"
   ]
  },
  {
   "cell_type": "markdown",
   "id": "f0f38f48",
   "metadata": {
    "deletable": false,
    "editable": false,
    "nbgrader": {
     "cell_type": "markdown",
     "checksum": "d5b362eee0289c046bfcbfdac41e9965",
     "grade": false,
     "grade_id": "cell-b120bdc386848914",
     "locked": true,
     "schema_version": 3,
     "solution": false,
     "task": false
    }
   },
   "source": [
    "\n",
    "Use the `np.polyfit` function ([Link](https://numpy.org/doc/stable/reference/generated/numpy.polyfit.html))\n",
    "to interpolate the function $f_1(x)=\\frac{1}{1+56x^{4}}$ at the points \n"
   ]
  },
  {
   "cell_type": "code",
   "execution_count": 43,
   "id": "e7d5d126",
   "metadata": {
    "deletable": false,
    "editable": false,
    "nbgrader": {
     "cell_type": "code",
     "checksum": "5f8c189a3495578c9f804d1163ea4255",
     "grade": false,
     "grade_id": "cell-31bcb9e94fdecbe5",
     "locked": true,
     "schema_version": 3,
     "solution": false,
     "task": false
    }
   },
   "outputs": [],
   "source": [
    "x_ch = np.linspace(-1,1,10)"
   ]
  },
  {
   "cell_type": "markdown",
   "id": "bb10127c",
   "metadata": {
    "deletable": false,
    "editable": false,
    "nbgrader": {
     "cell_type": "markdown",
     "checksum": "fbcd52e1204dba1abd8ba113a1353ef5",
     "grade": false,
     "grade_id": "cell-38ad716776476943",
     "locked": true,
     "schema_version": 3,
     "solution": false,
     "task": false
    }
   },
   "source": [
    "Evaluate and plot the interpolating function on "
   ]
  },
  {
   "cell_type": "code",
   "execution_count": 44,
   "id": "66d73265",
   "metadata": {
    "deletable": false,
    "editable": false,
    "nbgrader": {
     "cell_type": "code",
     "checksum": "964489009c56f5a0f3ee92ba75d7e660",
     "grade": false,
     "grade_id": "cell-783ed360e8b55173",
     "locked": true,
     "schema_version": 3,
     "solution": false,
     "task": false
    }
   },
   "outputs": [],
   "source": [
    "x_i = np.linspace(-1,1,1001)\n"
   ]
  },
  {
   "cell_type": "code",
   "execution_count": 45,
   "id": "acc89f8e",
   "metadata": {
    "deletable": false,
    "nbgrader": {
     "cell_type": "code",
     "checksum": "824daeba1413398c7b81df631b98e24d",
     "grade": false,
     "grade_id": "cell-3f58a74a969952e1",
     "locked": false,
     "schema_version": 3,
     "solution": true,
     "task": false
    }
   },
   "outputs": [],
   "source": [
    "def f(x):\n",
    "    return 1 / (1+56*(x**4))\n",
    "\n",
    "\n",
    "# Evaluation function\n",
    "def eval_ch1():\n",
    "    res = np.zeros_like(x_i)\n",
    "    deg = len(x_ch) # TODO determine what deg\n",
    "    # YOUR CODE HERE\n",
    "    consts = np.polyfit(x_ch, f(x_ch), deg)[::-1]\n",
    "\n",
    "    for i in range(len(consts)):\n",
    "        res += pow(x_i, i) * consts[i]\n",
    "        \n",
    "    return res \n"
   ]
  },
  {
   "cell_type": "markdown",
   "id": "ea233345",
   "metadata": {
    "deletable": false,
    "nbgrader": {
     "cell_type": "markdown",
     "checksum": "6ee258735fcabe43fe0ea94e615483fd",
     "grade": true,
     "grade_id": "cell-291ce981cb0972ba",
     "locked": false,
     "points": 2,
     "schema_version": 3,
     "solution": true,
     "task": false
    }
   },
   "source": [
    "YOUR ANSWER HERE"
   ]
  },
  {
   "cell_type": "code",
   "execution_count": 46,
   "id": "12bab1e8",
   "metadata": {
    "deletable": false,
    "nbgrader": {
     "cell_type": "code",
     "checksum": "4825e1300d9b66a6a1b313947e885572",
     "grade": false,
     "grade_id": "cell-807368b42a60029d",
     "locked": false,
     "schema_version": 3,
     "solution": true,
     "task": false
    }
   },
   "outputs": [
    {
     "name": "stderr",
     "output_type": "stream",
     "text": [
      "/var/folders/tf/v99lmlx935dbd8d_7_l32x0w0000gn/T/ipykernel_38564/2574154957.py:10: RankWarning: Polyfit may be poorly conditioned\n",
      "  consts = np.polyfit(x_ch, f(x_ch), deg)[::-1]\n"
     ]
    },
    {
     "data": {
      "image/png": "[encoded data removed]",
      "text/plain": [
       "<Figure size 640x480 with 1 Axes>"
      ]
     },
     "metadata": {},
     "output_type": "display_data"
    }
   ],
   "source": [
    "# YOUR CODE HERE\n",
    "plt.plot(x_i, eval_ch1())\n",
    "plt.plot(x_i, f(x_i), color=\"r\")\n",
    "plt.scatter(x_ch, f(x_ch))\n",
    "plt.show()"
   ]
  },
  {
   "cell_type": "code",
   "execution_count": 47,
   "id": "5a2e33dc",
   "metadata": {
    "deletable": false,
    "editable": false,
    "nbgrader": {
     "cell_type": "code",
     "checksum": "bcd01060d8beaa2fa6ff04c48faa8f77",
     "grade": true,
     "grade_id": "cell-072a428ff8caf212",
     "locked": true,
     "points": 2,
     "schema_version": 3,
     "solution": false,
     "task": false
    }
   },
   "outputs": [],
   "source": [
    "#Testing answer \n"
   ]
  },
  {
   "cell_type": "markdown",
   "id": "c2d0af1e",
   "metadata": {
    "deletable": false,
    "editable": false,
    "nbgrader": {
     "cell_type": "markdown",
     "checksum": "9dd8d7d06eccee46ef8160cf0cbc1899",
     "grade": false,
     "grade_id": "cell-72edee2a3a27b5e1",
     "locked": true,
     "schema_version": 3,
     "solution": false,
     "task": false
    }
   },
   "source": [
    "Now use the `np.polyfit` function to\n",
    "interpolate the same function at the Chebychev points for $N=9$. you can use the function `np.cos` and the number `np.pi`. Evaluate the obtained function on $x_i$. Plot these interpolants and the errors at the $x_i$. "
   ]
  },
  {
   "cell_type": "code",
   "execution_count": 48,
   "id": "9b68cf46",
   "metadata": {
    "deletable": false,
    "nbgrader": {
     "cell_type": "code",
     "checksum": "5482d5e6b7f7ed65bf1b098b54312b55",
     "grade": false,
     "grade_id": "cell-9c7a42ba9846f55a",
     "locked": false,
     "schema_version": 3,
     "solution": true,
     "task": false
    }
   },
   "outputs": [],
   "source": [
    "def get_chebychev_nodes(N):\n",
    "    k = np.arange(0,N)\n",
    "    return np.cos(np.pi*(2*k + 1)/(2*N))\n",
    "\n",
    "# Evaluation function\n",
    "def eval_ch2():\n",
    "    res = np.zeros_like(x_i)\n",
    "    x_ch = get_chebychev_nodes(9)\n",
    "    deg = len(x_ch) # TODO determine what deg\n",
    "    # YOUR CODE HERE\n",
    "    consts = np.polyfit(x_ch, f(x_ch), deg)[::-1]\n",
    "\n",
    "    for i in range(len(consts)):\n",
    "        res += pow(x_i, i) * consts[i]\n",
    "        \n",
    "    return res "
   ]
  },
  {
   "cell_type": "markdown",
   "id": "060858cb",
   "metadata": {
    "deletable": false,
    "editable": false,
    "nbgrader": {
     "cell_type": "markdown",
     "checksum": "9c0b03983579db6714d34be1c5be6b11",
     "grade": false,
     "grade_id": "cell-4cd1558778c24879",
     "locked": true,
     "points": 2,
     "schema_version": 3,
     "solution": false,
     "task": true
    }
   },
   "source": [
    "\n",
    "Plot under :\n",
    "\n"
   ]
  },
  {
   "cell_type": "code",
   "execution_count": 49,
   "id": "32854777",
   "metadata": {
    "deletable": false,
    "nbgrader": {
     "cell_type": "code",
     "checksum": "0b87c0a920b5ff0d5596fd0e6bb68d0a",
     "grade": false,
     "grade_id": "cell-635f2f150062cac3",
     "locked": false,
     "schema_version": 3,
     "solution": true,
     "task": false
    }
   },
   "outputs": [
    {
     "name": "stderr",
     "output_type": "stream",
     "text": [
      "/var/folders/tf/v99lmlx935dbd8d_7_l32x0w0000gn/T/ipykernel_38564/4253108833.py:11: RankWarning: Polyfit may be poorly conditioned\n",
      "  consts = np.polyfit(x_ch, f(x_ch), deg)[::-1]\n"
     ]
    },
    {
     "data": {
      "image/png": "[encoded data removed]",
      "text/plain": [
       "<Figure size 640x480 with 1 Axes>"
      ]
     },
     "metadata": {},
     "output_type": "display_data"
    }
   ],
   "source": [
    "# YOUR CODE HERE\n",
    "x_ch = get_chebychev_nodes(9)\n",
    "plt.plot(x_i, eval_ch2())\n",
    "plt.plot(x_i, f(x_i), color=\"r\")\n",
    "plt.scatter(x_ch, f(x_ch))\n",
    "plt.show()"
   ]
  },
  {
   "cell_type": "code",
   "execution_count": 50,
   "id": "ada590dd",
   "metadata": {
    "deletable": false,
    "editable": false,
    "nbgrader": {
     "cell_type": "code",
     "checksum": "aefaa67120b0c1a9e3713325939cd5a0",
     "grade": true,
     "grade_id": "cell-3cfbe524e39e699a",
     "locked": true,
     "points": 2,
     "schema_version": 3,
     "solution": false,
     "task": false
    }
   },
   "outputs": [
    {
     "name": "stdout",
     "output_type": "stream",
     "text": [
      "Linearly spaced sample points MSE: 0.001471600566645519\n",
      "Chebychev node sample points MSE: 0.001471600566645519\n"
     ]
    },
    {
     "name": "stderr",
     "output_type": "stream",
     "text": [
      "/var/folders/tf/v99lmlx935dbd8d_7_l32x0w0000gn/T/ipykernel_38564/2574154957.py:10: RankWarning: Polyfit may be poorly conditioned\n",
      "  consts = np.polyfit(x_ch, f(x_ch), deg)[::-1]\n",
      "/var/folders/tf/v99lmlx935dbd8d_7_l32x0w0000gn/T/ipykernel_38564/4253108833.py:11: RankWarning: Polyfit may be poorly conditioned\n",
      "  consts = np.polyfit(x_ch, f(x_ch), deg)[::-1]\n"
     ]
    }
   ],
   "source": [
    "#Testing answer \n",
    "print(f\"Linearly spaced sample points MSE: {((eval_ch1() - f(x_i))**2).mean()}\")\n",
    "print(f\"Chebychev node sample points MSE: {((eval_ch2() - f(x_i))**2).mean()}\")"
   ]
  },
  {
   "cell_type": "markdown",
   "id": "62ec284e",
   "metadata": {
    "deletable": false,
    "editable": false,
    "nbgrader": {
     "cell_type": "markdown",
     "checksum": "ed1327b9ab4e3b40da8c06568deb12c1",
     "grade": false,
     "grade_id": "cell-ee9895c28bd85610",
     "locked": true,
     "schema_version": 3,
     "solution": false,
     "task": false
    }
   },
   "source": [
    "How do these interpolants and their\n",
    "errors compare?"
   ]
  },
  {
   "cell_type": "markdown",
   "id": "5d0fa611",
   "metadata": {
    "deletable": false,
    "nbgrader": {
     "cell_type": "markdown",
     "checksum": "6e5f70a3b9c786071ceb620bf09cdebb",
     "grade": true,
     "grade_id": "cell-55395517a216e2a0",
     "locked": false,
     "points": 2,
     "schema_version": 3,
     "solution": true,
     "task": false
    }
   },
   "source": [
    "The MSE of each set of approximations are the same but visually the second solution looks like it fits much better since it has less wobble near the edges of the range."
   ]
  },
  {
   "cell_type": "markdown",
   "id": "ffbfee3f",
   "metadata": {
    "deletable": false,
    "editable": false,
    "nbgrader": {
     "cell_type": "markdown",
     "checksum": "03a6b22f6b431aa5afa37a241e2d3c30",
     "grade": false,
     "grade_id": "cell-60250d103ba4f3dc",
     "locked": true,
     "schema_version": 3,
     "solution": false,
     "task": false
    }
   },
   "source": [
    "\n",
    "## Quadratic spline: \n",
    "\n",
    "Consider interpolating a function $f(x)$ by\n",
    "a Piecewise Quadratic Spline interpolant $Q(x).$ At the three points $\n",
    "\\left\\{ x_{k-1},x_{k},x_{k+1}\\right\\} $ at which the function assumes values \n",
    "$\\left\\{ f_{k-1}=f(x_{k-1}),f_{k}=f(x_{k}),f_{k+1}=f(x_{k+1})\\right\\} $\n",
    "consider the two piecewise quadratic polynomials $Q_{k-1}(x)$ on $\n",
    "[x_{k-1},x_{k}]$ and $Q_{k}(x)$ on $[x_{k},x_{k+1}]$ that make up $Q(x).$\n",
    "The two quadratic polynomials must be continuous and have continuous first\n",
    "derivatives at the common node $x_{k}.$ Assume the following expressions for \n",
    "$Q_{k-1}^{\\prime }(x)=\\frac{d}{dx}Q_{k-1}(x)$ and $Q_{k}^{\\prime }(x)$ in\n",
    "terms of the piecewise linear basis functions\n",
    "\n",
    "\\begin{align}\n",
    "Q_{k-1}^{\\prime }(x) &= \\frac{s_{k-1}^{\\prime }}{h_{k-1}}\\left(x_{k}-x\\right) +\\frac{s_{k}^{\\prime }}{h_{k-1}}\\left( x-x_{k-1}\\right) \\text{for }x\\in [ x_{k-1},x_{k}] \\\\\n",
    "Q_{k}^{\\prime }(x) &= \\frac{s_{k}^{\\prime }}{h_{k}}\\left( x_{k+1}-x\\right) + \\frac{s_{k+1}^{\\prime }}{h_{k}}\\left( x-x_{k}\\right) \\text{ for }x\\in [ x_{k},x_{k+1}]\n",
    "\\end{align}\n",
    "\n",
    "\n",
    "where $h_{k-1}=x_{k}-x_{k-1}$ and $h_{k}=x_{k+1}-x_{k}.$ Integrate these\n",
    "expressions to determine equations for $Q_{k-1}(x)$ and $Q_{k}(x)$ :\n"
   ]
  },
  {
   "cell_type": "markdown",
   "id": "57697096",
   "metadata": {},
   "source": [
    "\\begin{gather}\n",
    "    \\int Q_{k-1}^{\\prime }(x) \\, dx \n",
    "    &=& Q_{k-1}(x) \n",
    "    &=& -\\frac{s_{k-1}^{\\prime }}{2h_{k-1}}\\left(x_{k}-x\\right)^2 +\\frac{s_{k}^{\\prime }}{2h_{k-1}}\\left(x-x_{k-1}\\right)^2 + c_1\n",
    "    \\\\\n",
    "    \\int Q_{k}^{\\prime }(x) \\, dx \n",
    "    &=& Q_{k}(x) \n",
    "    &=& -\\frac{s_{k}^{\\prime }}{2h_{k}}\\left( x_{k+1}-x\\right)^2 + \\frac{s_{k+1}^{\\prime }}{2h_{k}}\\left( x-x_{k}\\right)^2 + c_2\n",
    "\\end{gather}"
   ]
  },
  {
   "cell_type": "markdown",
   "id": "402518a0",
   "metadata": {
    "deletable": false,
    "editable": false,
    "nbgrader": {
     "cell_type": "markdown",
     "checksum": "3fba5df4964a190383d80751d7e648f1",
     "grade": false,
     "grade_id": "cell-728382814c2e5697",
     "locked": true,
     "schema_version": 3,
     "solution": false,
     "task": false
    }
   },
   "source": [
    "\n",
    "Now impose the continuity of $Q_{k-1}$ and $Q_{k}$ and continuity of their first\n",
    "derivatives at $x_{k},$ and the interpolation conditions\n",
    "$$\n",
    "Q_{k-1}(x_{k-1})=f_{k-1},\\text{ }Q_{k-1}(x_{k})=f_{k}=Q_{k}(x_{k}),\\text{ }\n",
    "Q_{k}(x_{k+1})=f_{k+1}\n",
    "$$\n",
    "Express the $s_{i}^{\\prime }$ in terms of $f[x_{k},x_{k+1}]$.\n"
   ]
  },
  {
   "cell_type": "markdown",
   "id": "d0a4c9a4",
   "metadata": {
    "deletable": false,
    "nbgrader": {
     "cell_type": "markdown",
     "checksum": "ac0bca26691fe2a1345c734b832c7d45",
     "grade": true,
     "grade_id": "cell-7692b5b0ac0b0cc8",
     "locked": false,
     "points": 5,
     "schema_version": 3,
     "solution": true,
     "task": false
    }
   },
   "source": [
    "\\begin{gather*}\n",
    "    Q_{k-1}(x_k) = f_k &=& \\frac{s_{k}^{\\prime }}{2h_{k-1}}\\left(x_k-x_{k-1}\\right)^2 + c_1 \n",
    "    &\\implies& c_1 = f_k - \\frac{h_{k-1} s_{k}^{\\prime }}{2} \\\\\n",
    "    Q_{k}(x_k) = f_k &=& -\\frac{s_{k}^{\\prime }}{2h_{k}}\\left( x_{k+1}-x_k\\right)^2 + c_2 \n",
    "    &\\implies& c_2 = f_k + \\frac{h_{k} s_{k}^{\\prime }}{2} \\\\\n",
    "    Q_{k}(x_{k+1}) = f_{k+1} &=&  \\frac{s_{k+1}^{\\prime }}{2h_{k}}\\left( x_{k+1}-x_{k}\\right)^2 + c_2 &=& \\frac{h_k s_{k+1}^{\\prime }}{2} + f_k + \\frac{h_{k} s_{k}^{\\prime }}{2} \\\\\n",
    "\\end{gather*}\n",
    "\n",
    "\\begin{gather*}\n",
    "    \\implies f_{k+1} - f_k = \\frac{h_k}{2} (s_{k+1}^\\prime + s_k^\\prime) \\implies s^\\prime_{k+1} = 2f[x_k, x_{k+1}] - s_{k}^\\prime\n",
    "\\end{gather*}\n",
    "\n",
    "\\begin{gather*}\n",
    "    Q_{k-1}(x_{k-1}) = -\\frac{s_{k-1}^\\prime}{2h_{k-1}}(x_k-x_{k-1})^2 + f_k - \\frac{h_{k-1} s_{k}^{\\prime }}{2}  = f_{k-1}\\\\\n",
    "    \\implies 2f[x_{k-1}, x_k] = s_{k-1}^\\prime - s_k^\\prime \\implies s_k^\\prime = s_{k-1}^\\prime - 2f[x_{k-1}, x_k]\n",
    "\\end{gather*}"
   ]
  },
  {
   "cell_type": "markdown",
   "id": "4f4dba70",
   "metadata": {
    "deletable": false,
    "editable": false,
    "nbgrader": {
     "cell_type": "markdown",
     "checksum": "7e2839e7b70231f749e6321169b0d5f6",
     "grade": false,
     "grade_id": "cell-d53d2b6d145668b0",
     "locked": true,
     "schema_version": 3,
     "solution": false,
     "task": false
    }
   },
   "source": [
    "\n",
    "By imposing the additional boundary condition $s_{1}^{\\prime }=f^{\\prime\n",
    "}(x_{1})$ write down a system of equations to determine $\\left\\{\n",
    "s_{k}^{\\prime }\\right\\} _{k=1}^{N}.$ Now write a python function to evaluate\n",
    "the $Q(x)$ and $Q^\\prime (x)$: \n",
    "\\begin{equation*}\n",
    "\\mathtt{\\lbrack Q,Qp]=Qspline(x,f,fp(x(1)),xi),}\n",
    "\\end{equation*}\n",
    "in which $\\mathtt{x=[x}_{1},\\cdots ,\\mathtt{x}_{N}$]$\\mathtt{,f=[f}\n",
    "_{1},\\cdots ,\\mathtt{f}_{N}$], $\\mathtt{fp(1)}=f^{\\prime }(x_{1})$ are the\n",
    "specified sample points and $f$ values and the value of $f^{\\prime }$ at the\n",
    "left endpoint, and $\\mathtt{xi}$ are the points at which we want to\n",
    "interpolate $f.$\n"
   ]
  },
  {
   "cell_type": "code",
   "execution_count": 234,
   "id": "78d84007",
   "metadata": {
    "deletable": false,
    "nbgrader": {
     "cell_type": "code",
     "checksum": "36fee53fe420eccf961356f81f35b66b",
     "grade": false,
     "grade_id": "cell-9dd232ee13f52f10",
     "locked": false,
     "schema_version": 3,
     "solution": true,
     "task": false
    }
   },
   "outputs": [],
   "source": [
    "def Qspline(x,f,fp,xi):\n",
    "    Q = []\n",
    "    Qp = []\n",
    "\n",
    "    N = len(x) - 1\n",
    "    \n",
    "    s = np.zeros(N+1)\n",
    "    s[0] = fp\n",
    "    for k in range(1, len(x)):\n",
    "        s[k] = 2*(f[k] - f[k-1]) / (x[k] - x[k-1]) - s[k-1]\n",
    "\n",
    "    for a in xi:\n",
    "        k = min(max(np.searchsorted(x, a)-1, 0), N-1)\n",
    "        x_k = x[k]\n",
    "        x_k1 = x[k+1]\n",
    "        h_k = x_k1 - x_k\n",
    "        s_k = s[k]\n",
    "        s_k1 = s[k+1]\n",
    "        f_k = f[k]\n",
    "        # print(f_k - h_k*s_k/2 + s_k/(2*h_k) * ((x_k1 - a)**2) + s_k1/(2*h_k)*((a - x_k)**2))\n",
    "        Q.append(f_k + h_k*s_k/2 - s_k * (x_k1 - a)**2/(2*h_k) + s_k1*(a - x_k)**2/(2*h_k))\n",
    "        Qp.append(s_k/h_k * (x_k1 - a) + s_k1/h_k* (a-x_k))\n",
    "    \n",
    "    return Q, Qp"
   ]
  },
  {
   "cell_type": "markdown",
   "id": "5aec55e7",
   "metadata": {
    "deletable": false,
    "editable": false,
    "nbgrader": {
     "cell_type": "markdown",
     "checksum": "f677e284cc8be61930e7e985e4b43688",
     "grade": false,
     "grade_id": "cell-e7405d4500717c3b",
     "locked": true,
     "schema_version": 3,
     "solution": false,
     "task": false
    }
   },
   "source": [
    "For the function $f(x)=x^3\\cos x$ on the interval $[0,\\pi ]$ compare $Q(x)$ to\n",
    "the function $f$ in one plot and $Q^{\\prime }(x)$ to $f^{\\prime }$ in a\n",
    "separate plot. Use $N=4$ sample points in one set of plots and $N=8\\,$\n",
    "sample points in a second set of plots. Plot using:"
   ]
  },
  {
   "cell_type": "code",
   "execution_count": 240,
   "id": "7f913363",
   "metadata": {
    "deletable": false,
    "editable": false,
    "nbgrader": {
     "cell_type": "code",
     "checksum": "cfb89f2a90269ecf98a2f6e5d180e2b7",
     "grade": false,
     "grade_id": "cell-a3e7fea096e1b995",
     "locked": true,
     "schema_version": 3,
     "solution": false,
     "task": false
    }
   },
   "outputs": [],
   "source": [
    "\n"
   ]
  },
  {
   "cell_type": "code",
   "execution_count": 241,
   "id": "a6341c6e",
   "metadata": {},
   "outputs": [],
   "source": [
    "def f(x):\n",
    "    return x**3 *np.cos(x)\n",
    "\n",
    "def fp(x):\n",
    "    return 3*x**2*np.cos(x) - x**3 * np.sin(x)"
   ]
  },
  {
   "cell_type": "markdown",
   "id": "6d81793f",
   "metadata": {
    "deletable": false,
    "editable": false,
    "nbgrader": {
     "cell_type": "markdown",
     "checksum": "72773084a75f40338f44a454db02fb0d",
     "grade": false,
     "grade_id": "cell-af3190e51877bdeb",
     "locked": true,
     "points": 5,
     "schema_version": 3,
     "solution": false,
     "task": true
    }
   },
   "source": [
    "Plot under :\n"
   ]
  },
  {
   "cell_type": "code",
   "execution_count": 248,
   "id": "f7ee3400",
   "metadata": {
    "deletable": false,
    "nbgrader": {
     "cell_type": "code",
     "checksum": "69c6f3772cc60f4a45f28556ca29c40f",
     "grade": false,
     "grade_id": "cell-70292dc16c95c09c",
     "locked": false,
     "schema_version": 3,
     "solution": true,
     "task": false
    }
   },
   "outputs": [
    {
     "data": {
      "image/png": "[encoded data removed]",
      "text/plain": [
       "<Figure size 640x480 with 1 Axes>"
      ]
     },
     "metadata": {},
     "output_type": "display_data"
    },
    {
     "data": {
      "image/png": "[encoded data removed]",
      "text/plain": [
       "<Figure size 640x480 with 1 Axes>"
      ]
     },
     "metadata": {},
     "output_type": "display_data"
    },
    {
     "data": {
      "image/png": "[encoded data removed]",
      "text/plain": [
       "<Figure size 640x480 with 1 Axes>"
      ]
     },
     "metadata": {},
     "output_type": "display_data"
    },
    {
     "data": {
      "image/png": "[encoded data removed]",
      "text/plain": [
       "<Figure size 640x480 with 1 Axes>"
      ]
     },
     "metadata": {},
     "output_type": "display_data"
    }
   ],
   "source": [
    "# YOUR CODE HERE\n",
    "x_qs = np.linspace(0,np.pi,int(np.pi/0.01))\n",
    "\n",
    "for N in [4,8]:\n",
    "    x_sample = np.linspace(0, np.pi, N)\n",
    "\n",
    "    plt.plot(x_qs, f(x_qs), label=r\"$f(x)$\")\n",
    "    plt.plot(x_qs, Qspline(x_sample, f(x_sample), 0, x_qs)[0], label=\"qSpline\")\n",
    "    plt.scatter(x_sample, f(x_sample), label=\"Sample Points\")\n",
    "    plt.title(r\"$f(x)$ and a quadtratic interpolation of $f(x)$ with $N=$\" + f\"{N}\")\n",
    "    plt.legend()\n",
    "    plt.show()\n",
    "\n",
    "    plt.plot(x_qs, fp(x_qs), label=r\"$f^\\prime(x)$\")\n",
    "    plt.plot(x_qs, Qspline(x_sample, f(x_sample), 0, x_qs)[1], label=\"qSpline\")\n",
    "    plt.scatter(x_sample, fp(x_sample), label=\"Sample Points\")\n",
    "    plt.title(r\"$f^\\prime(x)$ and a quadtratic interpolation of $f^\\prime(x)$ with $N=$\" + f\"{N}\")\n",
    "    plt.legend()\n",
    "    plt.show()"
   ]
  },
  {
   "cell_type": "code",
   "execution_count": 226,
   "id": "52827324",
   "metadata": {
    "deletable": false,
    "editable": false,
    "nbgrader": {
     "cell_type": "code",
     "checksum": "95fb40e0af6a69dc4c04fa9f4cc14bc7",
     "grade": true,
     "grade_id": "cell-07c8679ce8ad1879",
     "locked": true,
     "points": 5,
     "schema_version": 3,
     "solution": false,
     "task": false
    }
   },
   "outputs": [],
   "source": [
    "#Testing answer "
   ]
  },
  {
   "cell_type": "markdown",
   "id": "24854ee0",
   "metadata": {
    "deletable": false,
    "editable": false,
    "nbgrader": {
     "cell_type": "markdown",
     "checksum": "e793eab5e0ed8575e2ccaa1efc77d9a0",
     "grade": false,
     "grade_id": "cell-80676143de64ea45",
     "locked": true,
     "schema_version": 3,
     "solution": false,
     "task": false
    }
   },
   "source": [
    "\n",
    "## Finite Difference Tables: \n",
    "\n",
    "Let $S_{N}^{k}$ denote the sum of\n",
    "the $k$ th powers of the first $N$ integers i.e.:\n",
    "$$\n",
    "S_{N}^{k}=\\sum\\limits_{i=1}^{N}i^{k}\n",
    "$$\n",
    "Write a simple python program to evaluate these sums for a specified value\n",
    "of $k$ and $N$. \n"
   ]
  },
  {
   "cell_type": "code",
   "execution_count": 56,
   "id": "328a7fa7",
   "metadata": {
    "deletable": false,
    "nbgrader": {
     "cell_type": "code",
     "checksum": "160848558f4297aca8989767f0a52766",
     "grade": false,
     "grade_id": "cell-6a1e95f15f933dad",
     "locked": false,
     "schema_version": 3,
     "solution": true,
     "task": false
    }
   },
   "outputs": [],
   "source": [
    "def Sum(N,k):\n",
    "    return sum(pow(np.arange(1, N+1), k))"
   ]
  },
  {
   "cell_type": "code",
   "execution_count": 57,
   "id": "9747ffba",
   "metadata": {
    "deletable": false,
    "editable": false,
    "nbgrader": {
     "cell_type": "code",
     "checksum": "e05671fb347a6c72a25fb6772efedde4",
     "grade": true,
     "grade_id": "cell-3c71239a055bf7ed",
     "locked": true,
     "points": 2,
     "schema_version": 3,
     "solution": false,
     "task": false
    }
   },
   "outputs": [
    {
     "data": {
      "text/plain": [
       "np.int64(3)"
      ]
     },
     "execution_count": 57,
     "metadata": {},
     "output_type": "execute_result"
    }
   ],
   "source": [
    "#Testing answer \n",
    "Sum(3,0)"
   ]
  },
  {
   "cell_type": "markdown",
   "id": "831ddee7",
   "metadata": {
    "deletable": false,
    "editable": false,
    "nbgrader": {
     "cell_type": "markdown",
     "checksum": "78e5fd0abdcff432e7e169c93af22dfe",
     "grade": false,
     "grade_id": "cell-f6ac2412af1a1816",
     "locked": true,
     "schema_version": 3,
     "solution": false,
     "task": false
    }
   },
   "source": [
    "\n",
    "Now write python code to form\n",
    "the forward difference table (since the sample points are uniform). Notice\n",
    "that for each value of $k$ the difference table terminates. Why does this\n",
    "happen? Write the table as a 7 by 6 numpy array named A, with $A_{i,j}=-1$ if not defined.\n",
    "\n",
    "|$N$ | $S_{N}^{k}$ | $\\Delta f$ | $\\Delta ^{2}f$ | $\\Delta ^{3}f$ | $\\Delta^{4}f$ | $\\Delta ^{5}f$|\n",
    "|----|----| ----| ----| ---- | ---- | ---- |\n",
    "|0   | $A_{0,0}$ | $A_{0,1}$ | $A_{0,2}$ | $A_{0,3}$ | $A_{0,4}$ | $A_{0,5}$ |\n",
    "|$\\vdots$  | $\\vdots$ | $\\vdots$ | $\\vdots$ | $\\vdots$| $\\vdots$ | $\\vdots$ |\n",
    "|6   | $A_{6,0}$ | $A_{6,1}$ | $A_{6,2}$ | $A_{6,3}$ | $A_{6,4}$ | $A_{6,5}$ |\n",
    "\n",
    "    \n"
   ]
  },
  {
   "cell_type": "code",
   "execution_count": 58,
   "id": "7b891376",
   "metadata": {
    "deletable": false,
    "nbgrader": {
     "cell_type": "code",
     "checksum": "e4be8b8f732b6065300780dc8f7f09ac",
     "grade": false,
     "grade_id": "cell-ec594b56617ad944",
     "locked": false,
     "schema_version": 3,
     "solution": true,
     "task": false
    }
   },
   "outputs": [
    {
     "name": "stdout",
     "output_type": "stream",
     "text": [
      "[[ 1.000e+00  1.600e+01  6.500e+01  1.100e+02  8.400e+01  2.400e+01]\n",
      " [ 1.700e+01  8.100e+01  1.750e+02  1.940e+02  1.080e+02  2.400e+01]\n",
      " [ 9.800e+01  2.560e+02  3.690e+02  3.020e+02  1.320e+02 -1.000e+00]\n",
      " [ 3.540e+02  6.250e+02  6.710e+02  4.340e+02 -1.000e+00 -1.000e+00]\n",
      " [ 9.790e+02  1.296e+03  1.105e+03 -1.000e+00 -1.000e+00 -1.000e+00]\n",
      " [ 2.275e+03  2.401e+03 -1.000e+00 -1.000e+00 -1.000e+00 -1.000e+00]\n",
      " [ 4.676e+03 -1.000e+00 -1.000e+00 -1.000e+00 -1.000e+00 -1.000e+00]]\n"
     ]
    }
   ],
   "source": [
    "# YOUR CODE HERE\n",
    "def fwdDiffTable(func, m, n):\n",
    "    A = -np.ones((m,n))\n",
    "\n",
    "    for i in range(0,m):\n",
    "        A[i, 0] = func(i+1)\n",
    "    for j in range(1,n):\n",
    "        for i in range(m-j):\n",
    "            A[i,j] = A[i+1,j-1] - A[i, j-1]\n",
    "    \n",
    "    return A\n",
    "\n",
    "k = 4\n",
    "A = fwdDiffTable(lambda x : Sum(x, k), 7, 6)\n",
    "print(A)"
   ]
  },
  {
   "cell_type": "code",
   "execution_count": 59,
   "id": "ad86df19",
   "metadata": {
    "deletable": false,
    "editable": false,
    "nbgrader": {
     "cell_type": "code",
     "checksum": "601a647dff51624164fec1d54c5a26b4",
     "grade": true,
     "grade_id": "cell-a26549075c270c01",
     "locked": true,
     "points": 4,
     "schema_version": 3,
     "solution": false,
     "task": false
    }
   },
   "outputs": [],
   "source": [
    "### BEGIN TESTS\n",
    "assert ('A' in vars() or 'A' in globals()), \"Matrix not defined\"\n",
    "### END TESTS\n",
    "#Testing answer "
   ]
  },
  {
   "cell_type": "markdown",
   "id": "14560727",
   "metadata": {
    "deletable": false,
    "editable": false,
    "nbgrader": {
     "cell_type": "markdown",
     "checksum": "0ab13b497d52af2ab9a6c7b7b13e5ac0",
     "grade": false,
     "grade_id": "cell-3089b0a1bb3efca4",
     "locked": true,
     "schema_version": 3,
     "solution": false,
     "task": false
    }
   },
   "source": [
    "For the special case $k=4$, extract the differences from your table\n",
    "and use the Gregory-Newton finite difference formula to derive the formula:\n",
    "$$\n",
    "S_{N}^{4}=\\sum\\limits_{i=1}^{N}i^{4}=\\frac{1}{5}N^{5}+\\frac{1}{2}N^{4}+\\frac{\n",
    "1}{3}N^{3}-\\frac{1}{30}N\n",
    "$$"
   ]
  },
  {
   "cell_type": "markdown",
   "id": "e06755d0",
   "metadata": {
    "deletable": false,
    "nbgrader": {
     "cell_type": "markdown",
     "checksum": "1f06105ae9a1b0910484d84f4cb853c7",
     "grade": true,
     "grade_id": "cell-f8be716cdb710fb5",
     "locked": false,
     "points": 4,
     "schema_version": 3,
     "solution": true,
     "task": false
    }
   },
   "source": [
    "YOUR ANSWER HERE\n",
    "\n",
    "\\begin{gather*}\n",
    "    S^4_N = f(N) = \\sum\\limits_{i=1}^{N}i^{4} \\\\\n",
    "\\end{gather*}\n",
    "\n",
    "\\begin{gather*}\n",
    "    = &&S_1^4& \\\\\n",
    "      &+& (N-1) &\\Delta S_1^4& \\\\\n",
    "      &+& \\frac{(N-1) (N-2)}{2!} &\\Delta^2 S_1^4& \\\\\n",
    "      &+& \\frac{(N-1) (N-2) (N-3)}{3!} &\\Delta^3 S_1^4& \\\\\n",
    "      &+& \\frac{(N-1) (N-2) (N-3) (N-4)}{4!} &\\Delta^4 S_1^4& \\\\\n",
    "      &+& \\frac{(N-1) (N-2) (N-3) (N-4) (N-5)}{5!} &\\Delta^5 S_1^4& \\\\\n",
    "      &+& ...\n",
    "    \\\\\n",
    "    \\\\\n",
    "    = &&1& \\\\\n",
    "      &+& (N-1)&16&  \\\\\n",
    "      &+& \\frac{N^2 -3N + 2}{2} &65& \\\\\n",
    "      &+& \\frac{-6 + 11 N - 6 N^2 + N^3}{6} &110& \\\\\n",
    "      &+& \\frac{24 - 50 N + 35 N^2 - 10 N^3 + N^4}{24} &84& \\\\\n",
    "      &+& \\frac{-120 + 274 N - 225 N^2 + 85 N^3 - 15 N^4 + N^5}{120} &24& \\\\\n",
    "      &+& &0& \n",
    "    \\\\\n",
    "    \\\\\n",
    "    =   & &(1 - 16 + 65 - 110 + 84 - 24) & N^0  \\\\ \n",
    "        & + &\\left(16 - \\frac{195}{2} + \\frac{1210}{6} - \\frac{50(84)}{24} + \\frac{274(24)}{120}\\right) & N \\\\\n",
    "        & + & \\left(\\frac{65}{2} -110 + \\frac{35(84)}{24} - \\frac{225(24)}{120} \\right) & N^2 \\\\\n",
    "        & + & \\left(\\frac{110}{6} - \\frac{10(84)}{24} + \\frac{85(24)}{120} \\right)& N^3 \\\\\n",
    "        & + &\\left( \\frac{84}{24} - \\frac{15(24)}{120} \\right) & N^4 \\\\\n",
    "        & + & \\frac{24}{120} & N^5 \\\\\n",
    "    = && \\frac{1}{5}N^{5}+\\frac{1}{2}N^{4}+\\frac{\n",
    "1}{3}N^{3}-\\frac{1}{30}N\n",
    "    \n",
    "\\end{gather*}"
   ]
  },
  {
   "cell_type": "markdown",
   "id": "1e55d424",
   "metadata": {
    "deletable": false,
    "editable": false,
    "nbgrader": {
     "cell_type": "markdown",
     "checksum": "9c2654936e1f5adb8e9412588b8c05d0",
     "grade": false,
     "grade_id": "cell-68bdcca8b13b51f0",
     "locked": true,
     "schema_version": 3,
     "solution": false,
     "task": false
    }
   },
   "source": [
    "\n",
    "## The pchip function in Python: \n",
    "Piecewise Cubic Hermite interpolation assumes the following representation of a given function $f(x)$\n",
    "in terms of the cubic basis functions $h_{i}^{(0)}$ and $h_{i}^{(0)}:$\n",
    "$$\n",
    "f(x)\\approx\n",
    "h(x)=\\sum\\limits_{i=0}^{N}f(x_{i})h_{i}^{(0)}(x)+\\sum\\limits_{i=0}^{N}f^{^{\n",
    "\\prime }}(x_{i})h_{i}^{(0)}(x)\n",
    "$$\n",
    "where $h_{i}^{(0)}$ and $h_{i}^{(1)}$ are assumed to have the properties:\n",
    "\n",
    "$$\n",
    "\\left. \n",
    "\\begin{array}{rr}\n",
    "h_{i}^{(0)}(x_{j})=\\delta_{ij} & \\frac{d}{dx}h_{i}^{(1)}(x_{j})=\\delta _{ij}\n",
    "\\\\ \n",
    "\\frac{d}{dx}h_{i}^{(0)}(x_{j})=0 & h_{i}^{(1)}(x_{j})=0\n",
    "\\end{array}\n",
    "\\right\\} \\qquad (1)\n",
    "$$\n"
   ]
  },
  {
   "cell_type": "markdown",
   "id": "048ebe4b",
   "metadata": {
    "deletable": false,
    "editable": false,
    "nbgrader": {
     "cell_type": "markdown",
     "checksum": "49d89b5afefe3f506ac8fc9f40e73969",
     "grade": false,
     "grade_id": "cell-0df476bd8d316fa9",
     "locked": true,
     "schema_version": 3,
     "solution": false,
     "task": false
    }
   },
   "source": [
    "\n",
    "- (a) Show that the expressions for these basis functions are given by\n",
    "$$\n",
    "\\begin{align}\n",
    "h_{i}^{(0)}(x) &=&\\frac{\\left[ \\Delta x_{i}+2\\left( x-x_{i}\\right) \\right]\n",
    "(x_{i+1}-x)^{2}}{(\\Delta x_{i})^{3}} \\\\\n",
    "h_{i+1}^{(0)}(x) &=&\\frac{\\left[ \\Delta x_{i}+2\\left( x_{i+1}-x\\right) \n",
    "\\right] (x-x_{i})^{2}}{(\\Delta x_{i})^{3}} \\\\\n",
    "h_{i}^{(1)}(x) &=&\\frac{(x-x_{i})(x_{i+1}-x)^{2}}{(\\Delta x_{i})^{2}} \\\\\n",
    "h_{i+1}^{(1)}(x) &=&-\\frac{(x_{i+1}-x)(x-x_{i})^{2}}{(\\Delta x_{i})^{2}}\n",
    "\\end{align}\n",
    "$$\n"
   ]
  },
  {
   "cell_type": "markdown",
   "id": "b37dc176",
   "metadata": {
    "deletable": false,
    "nbgrader": {
     "cell_type": "markdown",
     "checksum": "0ed68384b59ece96f5b80162867de3e9",
     "grade": true,
     "grade_id": "cell-e7cf0904f6ea9a7a",
     "locked": false,
     "points": 5,
     "schema_version": 3,
     "solution": true,
     "task": false
    }
   },
   "source": [
    "Since each instance of $h_i^{(0)}(x)$ and $h_i^{(1)}(x)$ are only valid on $[x_i, x_{i+1}]$ we only need to check $x_j = x_i, x_{i+1}$\n",
    "\n",
    "For $h^{(0)}_i(x)$:\n",
    "\\begin{gather*}\n",
    "    h_{i}^{(0)}(x_j) &=& \\frac{\\left[ \\Delta x_{i}+2\\left( x_j-x_{i}\\right) \\right]\n",
    "        (x_{i+1}-x_j)^{2}}{(\\Delta x_{i})^{3}} &=& \\left\\{\n",
    "        \\begin{array}{rr}\n",
    "        1 & i=j\n",
    "        \\\\ \n",
    "        0 & j = i+1\n",
    "        \\end{array}\n",
    "        \\right. = \\delta_{ij}\n",
    "    \\\\\n",
    "    \\frac{d}{dx}h_{i}^{(0)}(x_j) &=& \\frac{2(x_{i+1}-x_j)^{2} - 2\\left[ \\Delta x_{i}+2\\left( x_j-x_{i}\\right) \\right]\n",
    "        (x_{i+1}-x_j)}{(\\Delta x_{i})^{3}} &=& \\left\\{\n",
    "        \\begin{array}{rr}\n",
    "        0 & i=j\n",
    "        \\\\ \n",
    "        0 & j = i+1\n",
    "        \\end{array}\n",
    "        \\right. = 0\n",
    "    \\\\\n",
    "    h_{i+1}^{(0)}(x_j) &=&\\frac{\\left[ \\Delta x_{i}+2\\left( x_{i+1}-x_j\\right) \n",
    "        \\right] (x_j-x_{i})^{2}}{(\\Delta x_{i})^{3}}\n",
    "        &=& \\left\\{\n",
    "        \\begin{array}{rr}\n",
    "        0 & i=j\n",
    "        \\\\ \n",
    "        1 & j = i+1\n",
    "        \\end{array}\n",
    "        \\right. = \\delta_{(i+1)j}\n",
    "    \\\\\n",
    "    \\frac{d}{dx} h_{i+1}^{(0)}(x_j) &=&\\frac{2\\left[ \\Delta x_{i}+2\\left( x_{i+1}-x_j\\right) \n",
    "        \\right] (x_j-x_{i}) - 2(x_j-x_{i})^{2}}{(\\Delta x_{i})^{3}}\n",
    "        &=& \\left\\{\n",
    "        \\begin{array}{rr}\n",
    "        0 & i=j\n",
    "        \\\\ \n",
    "        0 & j = i+1\n",
    "        \\end{array}\n",
    "        \\right. = 0\n",
    "\\end{gather*}\n",
    "For $h^{(1)}_i(x)$:\n",
    "\\begin{gather*}\n",
    "    h_{i}^{(1)}(x_j) &=& \\frac{(x_j-x_{i})(x_{i+1}-x_j)^{2}}{(\\Delta x_{i})^{2}} &=& \\left\\{\n",
    "        \\begin{array}{rr}\n",
    "        0 & i=j\n",
    "        \\\\ \n",
    "        0 & j = i+1\n",
    "        \\end{array}\n",
    "        \\right. = 0\n",
    "    \\\\\n",
    "    \\frac{d}{dx}h_{i}^{(1)}(x_j) &=& \\frac{(x_{i+1}-x_j)^{2} - 2(x_j-x_{i})(x_{i+1}-x_j)}{(\\Delta x_{i})^{2}} &=& \\left\\{\n",
    "        \\begin{array}{rr}\n",
    "        1 & i=j\n",
    "        \\\\ \n",
    "        0 & j = i+1\n",
    "        \\end{array}\n",
    "        \\right. = \\delta_{ij}\n",
    "    \\\\\n",
    "    h_{i+1}^{(1)}(x_j) &=&-\\frac{(x_{i+1}-x_j)(x_j-x_{i})^{2}}{(\\Delta x_{i})^{2}} &=& \\left\\{\n",
    "        \\begin{array}{rr}\n",
    "        0 & i=j\n",
    "        \\\\ \n",
    "        0 & j = i+1\n",
    "        \\end{array}\n",
    "        \\right. = 0\n",
    "    \\\\\n",
    "    \\frac{d}{dx} h_{i+1}^{(1)}(x_j) &=&-\\frac{2(x_{i+1}-x_j)(x_j-x_{i})-(x_j-x_{i})^{2}}{(\\Delta x_{i})^{2}} &=& \\left\\{\n",
    "        \\begin{array}{rr}\n",
    "        0 & i=j\n",
    "        \\\\ \n",
    "        1 & j = i+1\n",
    "        \\end{array}\n",
    "        \\right. = \\delta_{(i+1)j}\n",
    "\\end{gather*}"
   ]
  },
  {
   "cell_type": "markdown",
   "id": "209d0abe",
   "metadata": {
    "deletable": false,
    "editable": false,
    "nbgrader": {
     "cell_type": "markdown",
     "checksum": "eedb8241cdeaf43667ed724fe94562f3",
     "grade": false,
     "grade_id": "cell-57d9693d9e4d0dcb",
     "locked": true,
     "schema_version": 3,
     "solution": false,
     "task": false
    }
   },
   "source": [
    "\n",
    "- (b) In order to specify the interpolant it is necessary to supply both the\n",
    "function values $f(x_{i})$ and the derivatives $f^{\\prime }(x_{i})$ at the\n",
    "interpolation points. Write a python function `hermite`$(x,y,yp,xi)$\n",
    "that will evaluate the Piecewise Cubic Hermite interpolant of a function\n",
    "sampled at the points given by the vector $x$ and whose values and\n",
    "derivatives are given by $y$ and $yp$ respectively. Let $xi$ be the set of\n",
    "desired sample points. For the function $f(x)=\\cos (4x)e^{-x^{5}}$ on the\n",
    "interval $[0,1]$ plot the Piecewise Cubic Hermite interpolant and the\n",
    "function $f$. \n",
    "Compare the value of the Piecewise Cubic Hermite interpolant\n",
    "with the function at $x=0.5$ by sampling the function and its derivative at\n",
    "only 6 uniformly distributed points and completing the table.\n",
    "\n",
    "|$f(0.5)$ |  sh1|\n",
    "|----|  ----|\n",
    "|hermite(0.5) |  sh2|\n",
    "\n"
   ]
  },
  {
   "cell_type": "code",
   "execution_count": 249,
   "id": "78e63af3",
   "metadata": {
    "deletable": false,
    "nbgrader": {
     "cell_type": "code",
     "checksum": "c9b2bc0eb4b83fcb83406cd502ffa65e",
     "grade": false,
     "grade_id": "cell-ab07ed8722790358",
     "locked": false,
     "schema_version": 3,
     "solution": true,
     "task": false
    }
   },
   "outputs": [],
   "source": [
    "sh1 = 0\n",
    "sh2 = 0\n",
    "\n",
    "def f(x):\n",
    "    return np.cos(4*x) * np.exp(-x**5)\n",
    "\n",
    "def fp(x):\n",
    "    return -4*np.sin(4*x) * np.exp(-x**5) - 5*x**4 * np.cos(4*x) * np.exp(-x**5)\n",
    "\n",
    "\n",
    "N = 6\n",
    "x_interp = np.linspace(0, 1, 1000)\n",
    "x_sample = np.linspace(0, 1, N)\n",
    "\n",
    "def hermite(x, y, yp, xi):\n",
    "    interp = []\n",
    "\n",
    "    N = len(x)-1\n",
    "\n",
    "    h0i = lambda x, x_k, x_k1 : ((x_k1-x_k) + 2*(x-x_k))*(x_k1-x)**2/(x_k1-x_k)**3\n",
    "    h0i1 = lambda x, x_k, x_k1 : ((x_k1-x_k) + 2*(x_k1-x))*(x-x_k)**2/(x_k1-x_k)**3\n",
    "    h1i = lambda x, x_k, x_k1 : (x-x_k)*(x_k1-x)**2/(x_k1-x_k)**2\n",
    "    h1i1 = lambda x, x_k, x_k1 : -(x_k1-x)*(x-x_k)**2/(x_k1-x_k)**2\n",
    "\n",
    "    # print(h0i)\n",
    "\n",
    "    for i in xi:\n",
    "        idx = min(max(np.searchsorted(x, i)-1, 0), N-1)\n",
    "\n",
    "        interp.append(y[idx]*h0i(i, x[idx], x[idx+1]) \n",
    "                      + y[idx+1]*h0i1(i, x[idx], x[idx+1])\n",
    "                      + yp[idx]*h1i(i, x[idx], x[idx+1])\n",
    "                      + yp[idx+1]*h1i1(i, x[idx], x[idx+1])\n",
    "                      )\n",
    "        \n",
    "    return interp\n",
    "        \n",
    "\n",
    "\n",
    "# YOUR CODE HERE\n",
    "hermite(x_sample, f(x_sample), fp(x_sample), x_interp)\n",
    "sh1 = f(0.5)\n",
    "sh2 = hermite(x_sample, f(x_sample), fp(x_sample), [0.5])[0]\n"
   ]
  },
  {
   "cell_type": "markdown",
   "id": "8306a9d3",
   "metadata": {
    "deletable": false,
    "editable": false,
    "nbgrader": {
     "cell_type": "markdown",
     "checksum": "9eb3f77e137a82a6907fcd5bf4660212",
     "grade": false,
     "grade_id": "cell-e326b6af6fb09b8a",
     "locked": true,
     "points": 5,
     "schema_version": 3,
     "solution": false,
     "task": true
    }
   },
   "source": [
    "\n",
    "Plot under :\n"
   ]
  },
  {
   "cell_type": "code",
   "execution_count": 61,
   "id": "71604908",
   "metadata": {
    "deletable": false,
    "nbgrader": {
     "cell_type": "code",
     "checksum": "8ae6e2446cfdc85158c4787099b2b810",
     "grade": false,
     "grade_id": "cell-ef1b89836185f7c2",
     "locked": false,
     "schema_version": 3,
     "solution": true,
     "task": false
    }
   },
   "outputs": [
    {
     "data": {
      "image/png": "[encoded data removed]",
      "text/plain": [
       "<Figure size 640x480 with 1 Axes>"
      ]
     },
     "metadata": {},
     "output_type": "display_data"
    }
   ],
   "source": [
    "# YOUR CODE HERE\n",
    "plt.plot(x_interp, f(x_interp), label=r\"$f(x)$\")\n",
    "plt.plot(x_interp, hermite(x_sample, f(x_sample), fp(x_sample), x_interp), label=\"hermite\")\n",
    "plt.scatter(x_sample, f(x_sample), label=\"sample points\")\n",
    "plt.legend()\n",
    "plt.title(r\"$f(x)$ vs pchip iterpolation of $f(x)$ with $N=6$\")\n",
    "plt.show()"
   ]
  },
  {
   "cell_type": "code",
   "execution_count": 251,
   "id": "cbaeaebf",
   "metadata": {},
   "outputs": [
    {
     "name": "stdout",
     "output_type": "stream",
     "text": [
      "sh1: -0.40334334440368536\n",
      "sh2: -0.4029700248281853\n",
      "Error: 0.0003733195755000751\n"
     ]
    }
   ],
   "source": [
    "print(\"sh1:\", sh1)\n",
    "print(\"sh2:\", sh2)\n",
    "print(\"Error:\", np.abs(sh1-sh2))"
   ]
  },
  {
   "cell_type": "markdown",
   "id": "018ad152",
   "metadata": {},
   "source": [
    "sh1 and sh2 are very close together, off by only 0.0003733195755000751"
   ]
  },
  {
   "cell_type": "code",
   "execution_count": 62,
   "id": "f79cf482",
   "metadata": {
    "deletable": false,
    "editable": false,
    "nbgrader": {
     "cell_type": "code",
     "checksum": "392010f6f1f10f86d9ec3cf703b8e151",
     "grade": true,
     "grade_id": "cell-81790bdec4a60547",
     "locked": true,
     "points": 5,
     "schema_version": 3,
     "solution": false,
     "task": false
    }
   },
   "outputs": [],
   "source": [
    "#Testing answer "
   ]
  },
  {
   "cell_type": "markdown",
   "id": "c888ed43",
   "metadata": {
    "deletable": false,
    "editable": false,
    "nbgrader": {
     "cell_type": "markdown",
     "checksum": "1d618c5818e34a610eefafa6caeb9c48",
     "grade": false,
     "grade_id": "cell-92658f119398945a",
     "locked": true,
     "schema_version": 3,
     "solution": false,
     "task": false
    }
   },
   "source": [
    "\n",
    "- (c) It is often not possible to provide the derivatives $f^{\\prime\n",
    "}(x_{i}) $ at the interpolation points.\n",
    "Use Newton's divided difference formula to derive an approximate expression\n",
    "for the derivatives $f_{k-1}^{\\prime },$ $f_{k}^{\\prime },$ and $\n",
    "f_{k+1}^{\\prime }$ of a function $f$ that is approximated by a quadratic\n",
    "polynomial that interpolates $f$ at the three points $(x_{k-1},f_{k-1}),$ $\n",
    "(x_{k},$ $f_{k})$ and $(x_{k+1},f_{k+1})$.\n",
    "\n"
   ]
  },
  {
   "cell_type": "markdown",
   "id": "a2c95419",
   "metadata": {
    "deletable": false,
    "nbgrader": {
     "cell_type": "markdown",
     "checksum": "41ca5513716b79d71a5809fd7d71612b",
     "grade": true,
     "grade_id": "cell-3facef40d5a2093a",
     "locked": false,
     "points": 10,
     "schema_version": 3,
     "solution": true,
     "task": false
    }
   },
   "source": [
    "YOUR ANSWER HERE"
   ]
  },
  {
   "cell_type": "markdown",
   "id": "a5ef6968",
   "metadata": {
    "deletable": false,
    "editable": false,
    "nbgrader": {
     "cell_type": "markdown",
     "checksum": "1d9add7f9fad54c02edf3b1fe555f49f",
     "grade": false,
     "grade_id": "cell-5c79d5d5c126f830",
     "locked": true,
     "schema_version": 3,
     "solution": false,
     "task": false
    }
   },
   "source": [
    "Now use those formulae for the approximate\n",
    "derivatives to approximate the required derivatives $\n",
    "f^{\\prime }(x_{i})$ by the derivatives of a local quadratic polynomial. For\n",
    "the left endpoint of the interval use the formula for the derivative at $\n",
    "x_{k-1},$ for the interior nodes use the formula for the approximate\n",
    "derivative at $x_{k},$ and for the right endpoint use the formula for the\n",
    "approximate derivative at $x_{k+1}.$ Similarly, write a python function `h_quadratic_deriv(x,y,xi)` (based on your `hermite` function) that evaluates this interpolation method."
   ]
  },
  {
   "cell_type": "code",
   "execution_count": 63,
   "id": "90659a19",
   "metadata": {
    "deletable": false,
    "nbgrader": {
     "cell_type": "code",
     "checksum": "3c66a1fd24d3c0d27115e6a9212cc56a",
     "grade": false,
     "grade_id": "cell-32c23191a76d2242",
     "locked": false,
     "schema_version": 3,
     "solution": true,
     "task": false
    }
   },
   "outputs": [],
   "source": [
    "def h_quadratic_deriv(x,y,xi):\n",
    "    # YOUR CODE HERE\n",
    "    raise NotImplementedError()"
   ]
  },
  {
   "cell_type": "markdown",
   "id": "5c9f0013",
   "metadata": {
    "deletable": false,
    "editable": false,
    "nbgrader": {
     "cell_type": "markdown",
     "checksum": "ea29104bf745f8510dea8fc50a7f6ee4",
     "grade": false,
     "grade_id": "cell-83f6a333e18af350",
     "locked": true,
     "schema_version": 3,
     "solution": false,
     "task": false
    }
   },
   "source": [
    "\n",
    "- (d) The `pchip_interpolate` routine in python (see the reference * below and this [link](https://docs.scipy.org/doc/scipy-1.15.0/reference/generated/scipy.interpolate.pchip_interpolate.html)) uses the\n",
    "following scheme to approximate the derivatives at the interpolation points.\n",
    "The slope at each interior node is taken to be the following weighted mean\n",
    "of the slopes of the piecewise linear interpolant either side of the\n",
    "interior point:\n",
    "$$\n",
    "f^{\\prime }(x_{i})=\\left\\{ \n",
    "\\begin{array}{c}\n",
    "\\frac{f[x_{i-1},x_{i}]f[x_{i},x_{i+1}]}{\\alpha f[x_{i},x_{i+1}]+(1-\\alpha\n",
    ")f[x_{i-1},x_{i}]}\\text{ if }f[x_{i-1},x_{i}]f[x_{i},x_{i+1}]>0 \\\\ \n",
    "0\\text{ otherwise}\n",
    "\\end{array}\n",
    "\\right.\n",
    "$$\n",
    "where $\\alpha =(\\Delta x_{i-1}+2\\Delta x_{i})/3(\\Delta x_{i-1}+\\Delta x_{i})$\n",
    "and $\\Delta x_{i}=x_{i+1}-x_{i}.$\n",
    "\n",
    "Impose the quadratic one-sided derivative conditions at the two end points.\n",
    "Now construct a `pchip` routine of your own to interpolate a function given\n",
    "only nodal values, constructing the weighted derivative approximations at\n",
    "the nodes and then calling your `hermite` routine. For the function $\n",
    "f(x)=\\cos (4x)e^{-x^{5}}$ on the interval $[0,1]$ plot $f,$ the the results\n",
    "of your `hermite` code using the quadratic derivatives defined in\n",
    "part (c), and those of your `pchip` code by sampling the function at\n",
    "10 uniformly distributed points and provide a similar plot for 12 uniformly\n",
    "distributed points. Complete the following table:\n",
    "\n",
    "| - | $N=10$ | $N=12$ |\n",
    "|----|----|----|\n",
    "|$f(0.5)$ | s63 |  s64 |\n",
    "|`h_quadratic_deriv`(0.5) |  s65 |  s66 |\n",
    "|`pchip`(0.5) | s67 |  s68 |\n",
    "\n",
    "\n",
    "\n",
    "\n",
    "(*) Reference: F.N Fritsch and J. \\ Butland, ``A method for constructing\n",
    "local monotone piecewise cubic interpolants'', SIAM J. Sci. Stat. Comput.\n",
    "Vol 5, No 2, 1984."
   ]
  },
  {
   "cell_type": "code",
   "execution_count": 64,
   "id": "fd7e5a2e",
   "metadata": {
    "deletable": false,
    "nbgrader": {
     "cell_type": "code",
     "checksum": "ef4afd7297ccbc6d35c4c262eec20b15",
     "grade": false,
     "grade_id": "cell-fd4ba519efd7910e",
     "locked": false,
     "schema_version": 3,
     "solution": true,
     "task": false
    }
   },
   "outputs": [
    {
     "ename": "NotImplementedError",
     "evalue": "",
     "output_type": "error",
     "traceback": [
      "\u001b[0;31m---------------------------------------------------------------------------\u001b[0m",
      "\u001b[0;31mNotImplementedError\u001b[0m                       Traceback (most recent call last)",
      "Cell \u001b[0;32mIn[64], line 8\u001b[0m\n\u001b[1;32m      6\u001b[0m s68 \u001b[38;5;241m=\u001b[39m\u001b[38;5;241m0\u001b[39m\n\u001b[1;32m      7\u001b[0m \u001b[38;5;66;03m# YOUR CODE HERE\u001b[39;00m\n\u001b[0;32m----> 8\u001b[0m \u001b[38;5;28;01mraise\u001b[39;00m \u001b[38;5;167;01mNotImplementedError\u001b[39;00m()\n",
      "\u001b[0;31mNotImplementedError\u001b[0m: "
     ]
    }
   ],
   "source": [
    "s63 =0\n",
    "s64 =0\n",
    "s65 =0\n",
    "s66 =0\n",
    "s67 =0\n",
    "s68 =0\n",
    "# YOUR CODE HERE\n",
    "raise NotImplementedError()\n"
   ]
  },
  {
   "cell_type": "markdown",
   "id": "d1f6d167",
   "metadata": {
    "deletable": false,
    "editable": false,
    "nbgrader": {
     "cell_type": "markdown",
     "checksum": "c1cf0b6097e2c987b9e463e752ad48da",
     "grade": false,
     "grade_id": "cell-18ff975797e22619",
     "locked": true,
     "points": 5,
     "schema_version": 3,
     "solution": false,
     "task": true
    }
   },
   "source": [
    "\n",
    "Plot under :\n"
   ]
  },
  {
   "cell_type": "code",
   "execution_count": null,
   "id": "394c82a6",
   "metadata": {
    "deletable": false,
    "nbgrader": {
     "cell_type": "code",
     "checksum": "d1ce0aaa6e47d795651b02fa193fd3c2",
     "grade": false,
     "grade_id": "cell-4d5902ad64614898",
     "locked": false,
     "schema_version": 3,
     "solution": true,
     "task": false
    }
   },
   "outputs": [],
   "source": [
    "# YOUR CODE HERE\n",
    "raise NotImplementedError()"
   ]
  },
  {
   "cell_type": "code",
   "execution_count": null,
   "id": "c250adc7",
   "metadata": {
    "deletable": false,
    "editable": false,
    "nbgrader": {
     "cell_type": "code",
     "checksum": "f0894aeff0729aa6fc023f5fa248d4f5",
     "grade": true,
     "grade_id": "cell-5883896bff85a384",
     "locked": true,
     "points": 5,
     "schema_version": 3,
     "solution": false,
     "task": false
    }
   },
   "outputs": [],
   "source": [
    "#Testing answer \n"
   ]
  },
  {
   "cell_type": "code",
   "execution_count": null,
   "id": "852f2f24-3d4a-411a-9426-70749213f5cb",
   "metadata": {
    "deletable": false,
    "editable": false,
    "nbgrader": {
     "cell_type": "code",
     "checksum": "40468b023753af3a18fa42d85bbcac6a",
     "grade": true,
     "grade_id": "cell-14cf8317b5cdf75d",
     "locked": true,
     "points": 5,
     "schema_version": 3,
     "solution": false,
     "task": false
    }
   },
   "outputs": [],
   "source": [
    "#Testing answer \n"
   ]
  },
  {
   "cell_type": "code",
   "execution_count": null,
   "id": "13c682a1-601b-4e17-9958-0e4636b0b02f",
   "metadata": {
    "deletable": false,
    "editable": false,
    "nbgrader": {
     "cell_type": "code",
     "checksum": "bdbaeb291ac4b81426072d3d269803dc",
     "grade": true,
     "grade_id": "cell-03608f08a2aec49a",
     "locked": true,
     "points": 5,
     "schema_version": 3,
     "solution": false,
     "task": false
    }
   },
   "outputs": [],
   "source": [
    "#Testing answer \n"
   ]
  }
 ],
 "metadata": {
  "kernelspec": {
   "display_name": "Python 3",
   "language": "python",
   "name": "python3"
  },
  "language_info": {
   "codemirror_mode": {
    "name": "ipython",
    "version": 3
   },
   "file_extension": ".py",
   "mimetype": "text/x-python",
   "name": "python",
   "nbconvert_exporter": "python",
   "pygments_lexer": "ipython3",
   "version": "3.12.8"
  }
 },
 "nbformat": 4,
 "nbformat_minor": 5
}
