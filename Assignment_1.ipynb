{
 "cells": [
  {
   "cell_type": "markdown",
   "id": "2266074d",
   "metadata": {},
   "source": [
    "Before you turn this problem in, make sure everything runs as expected. First, **restart the kernel** (in the menubar, select Kernel $\\rightarrow$ Restart) and then **run all cells** (in the menubar, select Cell $\\rightarrow$ Run All).\n",
    "\n",
    "Make sure you fill in any place that says `YOUR CODE HERE` or \"YOUR ANSWER HERE\". DO NOT edit cells except the one containing `YOUR CODE HERE` or \"YOUR ANSWER HERE\".  \n",
    "Make sure you fill  your name and student number below:"
   ]
  },
  {
   "cell_type": "code",
   "execution_count": 24,
   "id": "29dee743",
   "metadata": {},
   "outputs": [],
   "source": [
    "NAME = \"Lukas Franz\"\n",
    "STUDENT_NUMBER = \"23501307\""
   ]
  },
  {
   "cell_type": "markdown",
   "id": "6eff0813",
   "metadata": {},
   "source": [
    "---"
   ]
  },
  {
   "cell_type": "code",
   "execution_count": 25,
   "id": "a067fef6",
   "metadata": {
    "deletable": false,
    "editable": false,
    "nbgrader": {
     "cell_type": "code",
     "checksum": "43bbfbf071203b8f4edc3bb8191b1d33",
     "grade": false,
     "grade_id": "cell-85a7a7be4fb7ea9d",
     "locked": true,
     "schema_version": 3,
     "solution": false,
     "task": false
    }
   },
   "outputs": [],
   "source": [
    "import numpy as np \n",
    "import matplotlib.pyplot as plt \n",
    "from numpy.testing import assert_allclose as nassert\n"
   ]
  },
  {
   "cell_type": "markdown",
   "id": "e1e2786a",
   "metadata": {
    "deletable": false,
    "editable": false,
    "nbgrader": {
     "cell_type": "markdown",
     "checksum": "2ac1d56cdee13acc62887f69e1bada41",
     "grade": false,
     "grade_id": "cell-f26a5a1f8cc1f9af",
     "locked": true,
     "schema_version": 3,
     "solution": false,
     "task": false
    }
   },
   "source": [
    "# Math 406: Ass. 1: Due Thursday 30 April.\n",
    "## 0. Instructions.\n",
    "Please code all your function using numpy arrays (floats  64) or floats as input and output. You can use all numpy functions for linear algebra, but no fancy library. Please do not change the global variables($x_k,x_{test}$...) and don't use the $=$ sign to do a copy with them (it is not a deepcopy), but rather use `x=np.array(x_test)`. Please add titles and labels (x and y axis) to every figure. For non-code answers, you can type simple latex expressions ([Link](https://ashki23.github.io/markdown-latex.html)).\n"
   ]
  },
  {
   "cell_type": "markdown",
   "id": "d1550208",
   "metadata": {
    "deletable": false,
    "editable": false,
    "nbgrader": {
     "cell_type": "markdown",
     "checksum": "1024c12985f8ac25faecf3437646b06b",
     "grade": false,
     "grade_id": "cell-9461bbd3a8be243d",
     "locked": true,
     "schema_version": 3,
     "solution": false,
     "task": false
    }
   },
   "source": [
    "\n",
    "## 1. Lagrange interpolating polynomial.\n",
    "\n",
    "(a) Define the Lagrange interpolating basis functions $l_{0}^{(5)}(x)$ and $\n",
    "l_{4}^{(5)}(x)$ $(0<x<1)$, generated using the points \n",
    "\n"
   ]
  },
  {
   "cell_type": "code",
   "execution_count": 26,
   "id": "b1e8bd2d",
   "metadata": {
    "deletable": false,
    "editable": false,
    "nbgrader": {
     "cell_type": "code",
     "checksum": "d657a46b2921a9bc374f6edfc97ac31e",
     "grade": false,
     "grade_id": "cell-4aea95befb8dc5c8",
     "locked": true,
     "schema_version": 3,
     "solution": false,
     "task": false
    }
   },
   "outputs": [],
   "source": [
    "x_k = np.array([0,0.2,0.35,0.5,1, 1.25])"
   ]
  },
  {
   "cell_type": "markdown",
   "id": "ea62299c",
   "metadata": {
    "deletable": false,
    "editable": false,
    "nbgrader": {
     "cell_type": "markdown",
     "checksum": "5edd4bfaf1a51a0f0127b60cdee7432b",
     "grade": false,
     "grade_id": "cell-901301b8d7217080",
     "locked": true,
     "schema_version": 3,
     "solution": false,
     "task": false
    }
   },
   "source": [
    "(by convention $l_{0}^{(5)}$ is defined on the first point). Use markers to highlight points $x_{k}$ on the plots. Evaluate the functions on the following points (the evaluation should be numpy array of the same shape):"
   ]
  },
  {
   "cell_type": "code",
   "execution_count": 27,
   "id": "0aa2b89a",
   "metadata": {
    "deletable": false,
    "editable": false,
    "nbgrader": {
     "cell_type": "code",
     "checksum": "2a9ebd57b250e5c2013b24ebce8a501f",
     "grade": false,
     "grade_id": "cell-9c8896c6bac7dc56",
     "locked": true,
     "schema_version": 3,
     "solution": false,
     "task": false
    }
   },
   "outputs": [],
   "source": [
    "x_test =  np.linspace(0,2,1001)"
   ]
  },
  {
   "cell_type": "code",
   "execution_count": 28,
   "id": "5232db3a",
   "metadata": {
    "deletable": false,
    "nbgrader": {
     "cell_type": "code",
     "checksum": "c72cbe88e72808e38309eec13b5cd84b",
     "grade": false,
     "grade_id": "cell-53e97d187bdfd89e",
     "locked": false,
     "schema_version": 3,
     "solution": true,
     "task": false
    }
   },
   "outputs": [],
   "source": [
    "# Evaluation function \n",
    "\n",
    "def eval_l05(x_test=x_test):\n",
    "    res = np.ones_like(x_test)\n",
    "    # YOUR CODE HERE\n",
    "    j = 0\n",
    "\n",
    "    for k in range(len(x_k)):\n",
    "        if k != j:\n",
    "            res *= (x_test - x_k[k]) / (x_k[j] - x_k[k])\n",
    "\n",
    "    return res # this is the evaluation on x_test, it should be a  numpy array of shape (1,1001)\n",
    "\n",
    "def eval_l45(x_test=x_test):\n",
    "    res = np.ones_like(x_test)\n",
    "    # YOUR CODE HERE\n",
    "    j = 4\n",
    "\n",
    "    for k in range(len(x_k)):\n",
    "        if k != j:\n",
    "            res *= (x_test - x_k[k]) / (x_k[j] - x_k[k])\n",
    "\n",
    "    return res # this is the evaluation on x_test, it should be a  numpy array of shape (1,1001)"
   ]
  },
  {
   "cell_type": "markdown",
   "id": "1811ec0b",
   "metadata": {
    "deletable": false,
    "editable": false,
    "nbgrader": {
     "cell_type": "markdown",
     "checksum": "813a8213e68cce77d79581961536424b",
     "grade": false,
     "grade_id": "cell-852b8e77fa334778",
     "locked": true,
     "points": 5,
     "schema_version": 3,
     "solution": false,
     "task": true
    }
   },
   "source": [
    "\n",
    "Plot under :\n",
    "\n"
   ]
  },
  {
   "cell_type": "code",
   "execution_count": 29,
   "id": "45449a14",
   "metadata": {
    "deletable": false,
    "nbgrader": {
     "cell_type": "code",
     "checksum": "02f3451639cfd8f32b707d857a9f3ba4",
     "grade": false,
     "grade_id": "cell-cd7789444c447601",
     "locked": false,
     "schema_version": 3,
     "solution": true,
     "task": false
    }
   },
   "outputs": [
    {
     "data": {
      "image/png": "[encoded data removed]",
      "text/plain": [
       "<Figure size 640x480 with 1 Axes>"
      ]
     },
     "metadata": {},
     "output_type": "display_data"
    }
   ],
   "source": [
    "# YOUR CODE HERE\n",
    "# raise NotImplementedError()\n",
    "plt.plot(x_test, eval_l05(), label=r\"$l_0^{(5)}(x)$\")\n",
    "plt.scatter(x_k, eval_l05(x_k), color=\"r\")\n",
    "\n",
    "plt.plot(x_test, eval_l45(), label=r\"$l_4^{(5)}(x)$\")\n",
    "plt.scatter(x_k, eval_l45(x_k), color=\"g\")\n",
    "\n",
    "# TODO mark the points that matter\n",
    "plt.title(\"Lagrange Basis Functions\", fontsize=16)\n",
    "plt.xlabel(\"x\", fontsize=14)\n",
    "plt.ylabel(\"y\", fontsize=14)\n",
    "plt.axhline(0, color='black', linewidth=0.8, linestyle='--')\n",
    "plt.legend(fontsize=12)\n",
    "\n",
    "plt.show()\n"
   ]
  },
  {
   "cell_type": "code",
   "execution_count": 30,
   "id": "2c535f0e",
   "metadata": {
    "deletable": false,
    "editable": false,
    "nbgrader": {
     "cell_type": "code",
     "checksum": "461accae23e7a6cb942689eb2ec91b6c",
     "grade": true,
     "grade_id": "cell-2a3248de8b3bc3d4",
     "locked": true,
     "points": 5,
     "schema_version": 3,
     "solution": false,
     "task": false
    }
   },
   "outputs": [
    {
     "name": "stdout",
     "output_type": "stream",
     "text": [
      "[ 1.          0.97819683  0.95672151 ... 26.20204964 26.31909613\n",
      " 26.43626374]\n"
     ]
    }
   ],
   "source": [
    "#Testing answer "
   ]
  },
  {
   "cell_type": "markdown",
   "id": "2c85bf79",
   "metadata": {
    "deletable": false,
    "editable": false,
    "nbgrader": {
     "cell_type": "markdown",
     "checksum": "9b691e48376d9353acf8a2aba350b168",
     "grade": false,
     "grade_id": "cell-a1158f3eb4554d50",
     "locked": true,
     "schema_version": 3,
     "solution": false,
     "task": false
    }
   },
   "source": [
    "(b) Define and plot the Lagrange interpolating polynomial $p_{4}(x)(0<x<1)$ that passes\n",
    "through the points $(x_{k},f(x_{k})),$ $f(x)=e^{x}\\cos(x^2)$, and evaluate it on $x_{\\text{test}}$. You can use the functions `np.exp` and `np.cos` ([Link](https://numpy.org/doc/2.1/reference/generated/numpy.exp.html))."
   ]
  },
  {
   "cell_type": "code",
   "execution_count": 31,
   "id": "5998f20c",
   "metadata": {
    "deletable": false,
    "nbgrader": {
     "cell_type": "code",
     "checksum": "558bd3cc1c1912561b9cc18605996b83",
     "grade": false,
     "grade_id": "cell-d9e330f4f00e8b6e",
     "locked": false,
     "schema_version": 3,
     "solution": true,
     "task": false
    }
   },
   "outputs": [],
   "source": [
    "def f(x):\n",
    "    return np.cos(x**2)*np.exp(x)\n",
    "\n",
    "def l(j, x_k, x_test):\n",
    "    res = np.ones_like(x_test)\n",
    "    # YOUR CODE HERE\n",
    "    for k in range(len(x_k)):\n",
    "        if k != j:\n",
    "            res *= (x_test - x_k[k]) / (x_k[j] - x_k[k])\n",
    "\n",
    "    return res # this is the evaluation on x_test, it should be a  numpy array of shape (1,1001)\n",
    "\n",
    "\n",
    "# Evaluation function\n",
    "def eval_p4():\n",
    "    res = 0\n",
    "    x_4 = np.array([0.2, 0.4, 0.6, 0.8])\n",
    "    f_sample = f(x_4)\n",
    "    l_samples = np.array([l(j, x_4, x_test) for j in range(len(x_4))])\n",
    "\n",
    "    res = np.dot(f_sample, l_samples)\n",
    "\n",
    "    return res\n"
   ]
  },
  {
   "cell_type": "markdown",
   "id": "077e1382",
   "metadata": {
    "deletable": false,
    "editable": false,
    "nbgrader": {
     "cell_type": "markdown",
     "checksum": "731e8cdbf73d389fb8f295e881408735",
     "grade": false,
     "grade_id": "cell-6e9f05ae69b8ecff",
     "locked": true,
     "points": 5,
     "schema_version": 3,
     "solution": false,
     "task": true
    }
   },
   "source": [
    "\n",
    "Plot under :"
   ]
  },
  {
   "cell_type": "code",
   "execution_count": 32,
   "id": "09bcb441",
   "metadata": {
    "deletable": false,
    "nbgrader": {
     "cell_type": "code",
     "checksum": "a8881fc0e28bccb45dbbeb299cc59517",
     "grade": false,
     "grade_id": "cell-f898f7dffbff19ef",
     "locked": false,
     "schema_version": 3,
     "solution": true,
     "task": false
    }
   },
   "outputs": [
    {
     "data": {
      "image/png": "[encoded data removed]",
      "text/plain": [
       "<Figure size 640x480 with 1 Axes>"
      ]
     },
     "metadata": {},
     "output_type": "display_data"
    }
   ],
   "source": [
    "# YOUR CODE HERE\n",
    "x_4 = np.array([0.2, 0.4, 0.6, 0.8])\n",
    "plt.plot(x_test, eval_p4())\n",
    "plt.scatter(x_4, f(x_4), color=\"r\")\n",
    "plt.show()"
   ]
  },
  {
   "cell_type": "code",
   "execution_count": 33,
   "id": "147ebe41",
   "metadata": {
    "deletable": false,
    "editable": false,
    "nbgrader": {
     "cell_type": "code",
     "checksum": "2b0a9b2801d5ac0d500e1b9156daa59c",
     "grade": true,
     "grade_id": "cell-a80f920db1898f26",
     "locked": true,
     "points": 5,
     "schema_version": 3,
     "solution": false,
     "task": false
    }
   },
   "outputs": [],
   "source": [
    "#Testing answer \n"
   ]
  },
  {
   "cell_type": "markdown",
   "id": "53d715b4",
   "metadata": {
    "deletable": false,
    "editable": false,
    "nbgrader": {
     "cell_type": "markdown",
     "checksum": "501a621d99ba701c9f4888fe93755db7",
     "grade": false,
     "grade_id": "cell-d288293fd5ae1f1d",
     "locked": true,
     "schema_version": 3,
     "solution": false,
     "task": false
    }
   },
   "source": [
    "## Chebychev Points: \n",
    "The so-called Chebychev points \n",
    "$$x_{j}=\\cos (j\\pi /N),\\quad j=0,1,\\ldots ,N,$$\n",
    "\n",
    "which are the points at which the Chebychev polynomials take on extreme\n",
    "values in $[-1,1]$ , are commonly used in spectral\n",
    "approximations for non-periodic functions. Check that the polynomials take on extreme values at those points:\n"
   ]
  },
  {
   "cell_type": "markdown",
   "id": "178b17c8",
   "metadata": {
    "deletable": false,
    "editable": false,
    "nbgrader": {
     "cell_type": "markdown",
     "checksum": "9d19f401c25482e46b27ac55f3683ea6",
     "grade": false,
     "grade_id": "cell-cd8f048aa040f2ca",
     "locked": true,
     "schema_version": 3,
     "solution": false,
     "task": false
    }
   },
   "source": [
    "Solution : \n"
   ]
  },
  {
   "cell_type": "markdown",
   "id": "f0f38f48",
   "metadata": {
    "deletable": false,
    "editable": false,
    "nbgrader": {
     "cell_type": "markdown",
     "checksum": "d5b362eee0289c046bfcbfdac41e9965",
     "grade": false,
     "grade_id": "cell-b120bdc386848914",
     "locked": true,
     "schema_version": 3,
     "solution": false,
     "task": false
    }
   },
   "source": [
    "\n",
    "Use the `np.polyfit` function ([Link](https://numpy.org/doc/stable/reference/generated/numpy.polyfit.html))\n",
    "to interpolate the function $f_1(x)=\\frac{1}{1+56x^{4}}$ at the points \n"
   ]
  },
  {
   "cell_type": "code",
   "execution_count": 34,
   "id": "e7d5d126",
   "metadata": {
    "deletable": false,
    "editable": false,
    "nbgrader": {
     "cell_type": "code",
     "checksum": "5f8c189a3495578c9f804d1163ea4255",
     "grade": false,
     "grade_id": "cell-31bcb9e94fdecbe5",
     "locked": true,
     "schema_version": 3,
     "solution": false,
     "task": false
    }
   },
   "outputs": [],
   "source": [
    "x_ch = np.linspace(-1,1,10)"
   ]
  },
  {
   "cell_type": "markdown",
   "id": "bb10127c",
   "metadata": {
    "deletable": false,
    "editable": false,
    "nbgrader": {
     "cell_type": "markdown",
     "checksum": "fbcd52e1204dba1abd8ba113a1353ef5",
     "grade": false,
     "grade_id": "cell-38ad716776476943",
     "locked": true,
     "schema_version": 3,
     "solution": false,
     "task": false
    }
   },
   "source": [
    "Evaluate and plot the interpolating function on "
   ]
  },
  {
   "cell_type": "code",
   "execution_count": 35,
   "id": "66d73265",
   "metadata": {
    "deletable": false,
    "editable": false,
    "nbgrader": {
     "cell_type": "code",
     "checksum": "964489009c56f5a0f3ee92ba75d7e660",
     "grade": false,
     "grade_id": "cell-783ed360e8b55173",
     "locked": true,
     "schema_version": 3,
     "solution": false,
     "task": false
    }
   },
   "outputs": [],
   "source": [
    "x_i = np.linspace(-1,1,1001)\n"
   ]
  },
  {
   "cell_type": "code",
   "execution_count": 36,
   "id": "acc89f8e",
   "metadata": {
    "deletable": false,
    "nbgrader": {
     "cell_type": "code",
     "checksum": "824daeba1413398c7b81df631b98e24d",
     "grade": false,
     "grade_id": "cell-3f58a74a969952e1",
     "locked": false,
     "schema_version": 3,
     "solution": true,
     "task": false
    }
   },
   "outputs": [],
   "source": [
    "def f(x):\n",
    "    return 1 / (1+56*(x**4))\n",
    "\n",
    "\n",
    "# Evaluation function\n",
    "def eval_ch1():\n",
    "    res = np.zeros_like(x_i)\n",
    "    deg = len(x_ch) # TODO determine what deg\n",
    "    # YOUR CODE HERE\n",
    "    consts = np.polyfit(x_ch, f(x_ch), deg)[::-1]\n",
    "\n",
    "    for i in range(len(consts)):\n",
    "        res += pow(x_i, i) * consts[i]\n",
    "        \n",
    "    return res \n"
   ]
  },
  {
   "cell_type": "markdown",
   "id": "ea233345",
   "metadata": {
    "deletable": false,
    "nbgrader": {
     "cell_type": "markdown",
     "checksum": "6ee258735fcabe43fe0ea94e615483fd",
     "grade": true,
     "grade_id": "cell-291ce981cb0972ba",
     "locked": false,
     "points": 2,
     "schema_version": 3,
     "solution": true,
     "task": false
    }
   },
   "source": [
    "YOUR ANSWER HERE"
   ]
  },
  {
   "cell_type": "code",
   "execution_count": 37,
   "id": "12bab1e8",
   "metadata": {
    "deletable": false,
    "nbgrader": {
     "cell_type": "code",
     "checksum": "4825e1300d9b66a6a1b313947e885572",
     "grade": false,
     "grade_id": "cell-807368b42a60029d",
     "locked": false,
     "schema_version": 3,
     "solution": true,
     "task": false
    }
   },
   "outputs": [
    {
     "name": "stderr",
     "output_type": "stream",
     "text": [
      "/var/folders/tf/v99lmlx935dbd8d_7_l32x0w0000gn/T/ipykernel_28251/2574154957.py:10: RankWarning: Polyfit may be poorly conditioned\n",
      "  consts = np.polyfit(x_ch, f(x_ch), deg)[::-1]\n"
     ]
    },
    {
     "data": {
      "image/png": "[encoded data removed]",
      "text/plain": [
       "<Figure size 640x480 with 1 Axes>"
      ]
     },
     "metadata": {},
     "output_type": "display_data"
    }
   ],
   "source": [
    "# YOUR CODE HERE\n",
    "plt.plot(x_i, eval_ch1())\n",
    "plt.plot(x_i, f(x_i), color=\"r\")\n",
    "plt.scatter(x_ch, f(x_ch))\n",
    "plt.show()"
   ]
  },
  {
   "cell_type": "code",
   "execution_count": 38,
   "id": "5a2e33dc",
   "metadata": {
    "deletable": false,
    "editable": false,
    "nbgrader": {
     "cell_type": "code",
     "checksum": "bcd01060d8beaa2fa6ff04c48faa8f77",
     "grade": true,
     "grade_id": "cell-072a428ff8caf212",
     "locked": true,
     "points": 2,
     "schema_version": 3,
     "solution": false,
     "task": false
    }
   },
   "outputs": [],
   "source": [
    "#Testing answer \n"
   ]
  },
  {
   "cell_type": "markdown",
   "id": "c2d0af1e",
   "metadata": {
    "deletable": false,
    "editable": false,
    "nbgrader": {
     "cell_type": "markdown",
     "checksum": "9dd8d7d06eccee46ef8160cf0cbc1899",
     "grade": false,
     "grade_id": "cell-72edee2a3a27b5e1",
     "locked": true,
     "schema_version": 3,
     "solution": false,
     "task": false
    }
   },
   "source": [
    "Now use the `np.polyfit` function to\n",
    "interpolate the same function at the Chebychev points for $N=9$. you can use the function `np.cos` and the number `np.pi`. Evaluate the obtained function on $x_i$. Plot these interpolants and the errors at the $x_i$. "
   ]
  },
  {
   "cell_type": "code",
   "execution_count": 39,
   "id": "9b68cf46",
   "metadata": {
    "deletable": false,
    "nbgrader": {
     "cell_type": "code",
     "checksum": "5482d5e6b7f7ed65bf1b098b54312b55",
     "grade": false,
     "grade_id": "cell-9c7a42ba9846f55a",
     "locked": false,
     "schema_version": 3,
     "solution": true,
     "task": false
    }
   },
   "outputs": [
    {
     "name": "stdout",
     "output_type": "stream",
     "text": [
      "[ 9.84807753e-01  8.66025404e-01  6.42787610e-01  3.42020143e-01\n",
      "  6.12323400e-17 -3.42020143e-01 -6.42787610e-01 -8.66025404e-01\n",
      " -9.84807753e-01]\n"
     ]
    }
   ],
   "source": [
    "def get_chebychev_nodes(N):\n",
    "    k = np.arange(0,N)\n",
    "    return np.cos(np.pi*(2*k + 1)/(2*N))\n",
    "\n",
    "# Evaluation function\n",
    "def eval_ch2():\n",
    "    res = np.zeros_like(x_i)\n",
    "    x_ch = get_chebychev_nodes(9)\n",
    "    deg = len(x_ch) # TODO determine what deg\n",
    "    # YOUR CODE HERE\n",
    "    consts = np.polyfit(x_ch, f(x_ch), deg)[::-1]\n",
    "\n",
    "    for i in range(len(consts)):\n",
    "        res += pow(x_i, i) * consts[i]\n",
    "        \n",
    "    return res "
   ]
  },
  {
   "cell_type": "markdown",
   "id": "060858cb",
   "metadata": {
    "deletable": false,
    "editable": false,
    "nbgrader": {
     "cell_type": "markdown",
     "checksum": "9c0b03983579db6714d34be1c5be6b11",
     "grade": false,
     "grade_id": "cell-4cd1558778c24879",
     "locked": true,
     "points": 2,
     "schema_version": 3,
     "solution": false,
     "task": true
    }
   },
   "source": [
    "\n",
    "Plot under :\n",
    "\n"
   ]
  },
  {
   "cell_type": "code",
   "execution_count": 40,
   "id": "32854777",
   "metadata": {
    "deletable": false,
    "nbgrader": {
     "cell_type": "code",
     "checksum": "0b87c0a920b5ff0d5596fd0e6bb68d0a",
     "grade": false,
     "grade_id": "cell-635f2f150062cac3",
     "locked": false,
     "schema_version": 3,
     "solution": true,
     "task": false
    }
   },
   "outputs": [
    {
     "name": "stderr",
     "output_type": "stream",
     "text": [
      "/var/folders/tf/v99lmlx935dbd8d_7_l32x0w0000gn/T/ipykernel_28251/1097557521.py:13: RankWarning: Polyfit may be poorly conditioned\n",
      "  consts = np.polyfit(x_ch, f(x_ch), deg)[::-1]\n"
     ]
    },
    {
     "data": {
      "image/png": "[encoded data removed]",
      "text/plain": [
       "<Figure size 640x480 with 1 Axes>"
      ]
     },
     "metadata": {},
     "output_type": "display_data"
    }
   ],
   "source": [
    "# YOUR CODE HERE\n",
    "x_ch = get_chebychev_nodes(9)\n",
    "plt.plot(x_i, eval_ch2())\n",
    "plt.plot(x_i, f(x_i), color=\"r\")\n",
    "plt.scatter(x_ch, f(x_ch))\n",
    "plt.show()"
   ]
  },
  {
   "cell_type": "code",
   "execution_count": 41,
   "id": "ada590dd",
   "metadata": {
    "deletable": false,
    "editable": false,
    "nbgrader": {
     "cell_type": "code",
     "checksum": "aefaa67120b0c1a9e3713325939cd5a0",
     "grade": true,
     "grade_id": "cell-3cfbe524e39e699a",
     "locked": true,
     "points": 2,
     "schema_version": 3,
     "solution": false,
     "task": false
    }
   },
   "outputs": [
    {
     "name": "stdout",
     "output_type": "stream",
     "text": [
      "Linearly spaced sample points MSE: 0.001471600566645519\n",
      "Chebychev node sample points MSE: 0.001471600566645519\n"
     ]
    },
    {
     "name": "stderr",
     "output_type": "stream",
     "text": [
      "/var/folders/tf/v99lmlx935dbd8d_7_l32x0w0000gn/T/ipykernel_28251/2574154957.py:10: RankWarning: Polyfit may be poorly conditioned\n",
      "  consts = np.polyfit(x_ch, f(x_ch), deg)[::-1]\n",
      "/var/folders/tf/v99lmlx935dbd8d_7_l32x0w0000gn/T/ipykernel_28251/1097557521.py:13: RankWarning: Polyfit may be poorly conditioned\n",
      "  consts = np.polyfit(x_ch, f(x_ch), deg)[::-1]\n"
     ]
    }
   ],
   "source": [
    "#Testing answer \n",
    "print(f\"Linearly spaced sample points MSE: {((eval_ch1() - f(x_i))**2).mean()}\")\n",
    "print(f\"Chebychev node sample points MSE: {((eval_ch2() - f(x_i))**2).mean()}\")"
   ]
  },
  {
   "cell_type": "markdown",
   "id": "62ec284e",
   "metadata": {
    "deletable": false,
    "editable": false,
    "nbgrader": {
     "cell_type": "markdown",
     "checksum": "ed1327b9ab4e3b40da8c06568deb12c1",
     "grade": false,
     "grade_id": "cell-ee9895c28bd85610",
     "locked": true,
     "schema_version": 3,
     "solution": false,
     "task": false
    }
   },
   "source": [
    "How do these interpolants and their\n",
    "errors compare?"
   ]
  },
  {
   "cell_type": "markdown",
   "id": "5d0fa611",
   "metadata": {
    "deletable": false,
    "nbgrader": {
     "cell_type": "markdown",
     "checksum": "6e5f70a3b9c786071ceb620bf09cdebb",
     "grade": true,
     "grade_id": "cell-55395517a216e2a0",
     "locked": false,
     "points": 2,
     "schema_version": 3,
     "solution": true,
     "task": false
    }
   },
   "source": [
    "The MSE of each set of approximations are the same but visually the second solution looks like it fits much better since it has less wobble near the edges of the range."
   ]
  },
  {
   "cell_type": "markdown",
   "id": "ffbfee3f",
   "metadata": {
    "deletable": false,
    "editable": false,
    "nbgrader": {
     "cell_type": "markdown",
     "checksum": "03a6b22f6b431aa5afa37a241e2d3c30",
     "grade": false,
     "grade_id": "cell-60250d103ba4f3dc",
     "locked": true,
     "schema_version": 3,
     "solution": false,
     "task": false
    }
   },
   "source": [
    "\n",
    "## Quadratic spline: \n",
    "\n",
    "Consider interpolating a function $f(x)$ by\n",
    "a Piecewise Quadratic Spline interpolant $Q(x).$ At the three points $\n",
    "\\left\\{ x_{k-1},x_{k},x_{k+1}\\right\\} $ at which the function assumes values \n",
    "$\\left\\{ f_{k-1}=f(x_{k-1}),f_{k}=f(x_{k}),f_{k+1}=f(x_{k+1})\\right\\} $\n",
    "consider the two piecewise quadratic polynomials $Q_{k-1}(x)$ on $\n",
    "[x_{k-1},x_{k}]$ and $Q_{k}(x)$ on $[x_{k},x_{k+1}]$ that make up $Q(x).$\n",
    "The two quadratic polynomials must be continuous and have continuous first\n",
    "derivatives at the common node $x_{k}.$ Assume the following expressions for \n",
    "$Q_{k-1}^{\\prime }(x)=\\frac{d}{dx}Q_{k-1}(x)$ and $Q_{k}^{\\prime }(x)$ in\n",
    "terms of the piecewise linear basis functions\n",
    "\n",
    "\\begin{align}\n",
    "Q_{k-1}^{\\prime }(x) &= \\frac{s_{k-1}^{\\prime }}{h_{k-1}}\\left(x_{k}-x\\right) +\\frac{s_{k}^{\\prime }}{h_{k-1}}\\left( x-x_{k-1}\\right) \\text{for }x\\in [ x_{k-1},x_{k}] \\\\\n",
    "Q_{k}^{\\prime }(x) &= \\frac{s_{k}^{\\prime }}{h_{k}}\\left( x_{k+1}-x\\right) + \\frac{s_{k+1}^{\\prime }}{h_{k}}\\left( x-x_{k}\\right) \\text{ for }x\\in [ x_{k},x_{k+1}]\n",
    "\\end{align}\n",
    "\n",
    "\n",
    "where $h_{k-1}=x_{k}-x_{k-1}$ and $h_{k}=x_{k+1}-x_{k}.$ Integrate these\n",
    "expressions to determine equations for $Q_{k-1}(x)$ and $Q_{k}(x)$ :\n"
   ]
  },
  {
   "cell_type": "markdown",
   "id": "57697096",
   "metadata": {},
   "source": [
    "\\begin{gather}\n",
    "    \\int Q_{k-1}^{\\prime }(x) \\, dx &= Q_{k-1}(x) &= \\frac{s_{k-1}^{\\prime }}{h_{k-1}}\\left(x_{k}x-\\frac{x^2}{2}\\right) +\\frac{s_{k}^{\\prime }}{h_{k-1}}\\left( \\frac{x^2}{2}-xx_{k-1}\\right) \\text{for }x\\in [ x_{k-1},x_{k}] \\\\\n",
    "    \\int Q_{k}^{\\prime }(x) \\, dx &= Q_{k}(x) &= \\frac{s_{k}^{\\prime }}{h_{k}}\\left( xx_{k+1}-\\frac{x^2}{2}\\right) + \\frac{s_{k+1}^{\\prime }}{h_{k}}\\left( \\frac{x^2}{2}-xx_{k}\\right) \\text{ for }x\\in [ x_{k},x_{k+1}]\n",
    "\\end{gather}"
   ]
  },
  {
   "cell_type": "markdown",
   "id": "402518a0",
   "metadata": {
    "deletable": false,
    "editable": false,
    "nbgrader": {
     "cell_type": "markdown",
     "checksum": "3fba5df4964a190383d80751d7e648f1",
     "grade": false,
     "grade_id": "cell-728382814c2e5697",
     "locked": true,
     "schema_version": 3,
     "solution": false,
     "task": false
    }
   },
   "source": [
    "\n",
    "Now impose the continuity of $Q_{k-1}$ and $Q_{k}$ and continuity of their first\n",
    "derivatives at $x_{k},$ and the interpolation conditions\n",
    "$$\n",
    "Q_{k-1}(x_{k-1})=f_{k-1},\\text{ }Q_{k-1}(x_{k})=f_{k}=Q_{k}(x_{k}),\\text{ }\n",
    "Q_{k}(x_{k+1})=f_{k+1}\n",
    "$$\n",
    "Express the $s_{i}^{\\prime }$ in terms of $f[x_{k},x_{k+1}]$.\n"
   ]
  },
  {
   "cell_type": "markdown",
   "id": "d0a4c9a4",
   "metadata": {
    "deletable": false,
    "nbgrader": {
     "cell_type": "markdown",
     "checksum": "ac0bca26691fe2a1345c734b832c7d45",
     "grade": true,
     "grade_id": "cell-7692b5b0ac0b0cc8",
     "locked": false,
     "points": 5,
     "schema_version": 3,
     "solution": true,
     "task": false
    }
   },
   "source": [
    "Trivially $s_k^\\prime = f[x_k, x_{k+1}] = \\frac{f_k-f_{k-1}}{h_{k-1}}$ TODO"
   ]
  },
  {
   "cell_type": "markdown",
   "id": "4f4dba70",
   "metadata": {
    "deletable": false,
    "editable": false,
    "nbgrader": {
     "cell_type": "markdown",
     "checksum": "7e2839e7b70231f749e6321169b0d5f6",
     "grade": false,
     "grade_id": "cell-d53d2b6d145668b0",
     "locked": true,
     "schema_version": 3,
     "solution": false,
     "task": false
    }
   },
   "source": [
    "\n",
    "By imposing the additional boundary condition $s_{1}^{\\prime }=f^{\\prime\n",
    "}(x_{1})$ write down a system of equations to determine $\\left\\{\n",
    "s_{k}^{\\prime }\\right\\} _{k=1}^{N}.$ Now write a python function to evaluate\n",
    "the $Q(x)$ and $Q^\\prime (x)$: \n",
    "\\begin{equation*}\n",
    "\\mathtt{\\lbrack Q,Qp]=Qspline(x,f,fp(x(1)),xi),}\n",
    "\\end{equation*}\n",
    "in which $\\mathtt{x=[x}_{1},\\cdots ,\\mathtt{x}_{N}$]$\\mathtt{,f=[f}\n",
    "_{1},\\cdots ,\\mathtt{f}_{N}$], $\\mathtt{fp(1)}=f^{\\prime }(x_{1})$ are the\n",
    "specified sample points and $f$ values and the value of $f^{\\prime }$ at the\n",
    "left endpoint, and $\\mathtt{xi}$ are the points at which we want to\n",
    "interpolate $f.$\n"
   ]
  },
  {
   "cell_type": "code",
   "execution_count": 97,
   "id": "78d84007",
   "metadata": {
    "deletable": false,
    "nbgrader": {
     "cell_type": "code",
     "checksum": "36fee53fe420eccf961356f81f35b66b",
     "grade": false,
     "grade_id": "cell-9dd232ee13f52f10",
     "locked": false,
     "schema_version": 3,
     "solution": true,
     "task": false
    }
   },
   "outputs": [],
   "source": [
    "from bisect import bisect_right\n",
    "\n",
    "def Qspline(x,f,fp,xi):\n",
    "    Q = 0\n",
    "    Qp = 0\n",
    "    # YOUR CODE HERE\n",
    "    for a in xi:\n",
    "        idx = min(bisect_right(x, a), len(x)-1)\n",
    "        print(a, x[idx])\n",
    "    \n",
    "    return Q, Qp"
   ]
  },
  {
   "cell_type": "markdown",
   "id": "5aec55e7",
   "metadata": {
    "deletable": false,
    "editable": false,
    "nbgrader": {
     "cell_type": "markdown",
     "checksum": "f677e284cc8be61930e7e985e4b43688",
     "grade": false,
     "grade_id": "cell-e7405d4500717c3b",
     "locked": true,
     "schema_version": 3,
     "solution": false,
     "task": false
    }
   },
   "source": [
    "For the function $f(x)=x^3\\cos x$ on the interval $[0,\\pi ]$ compare $Q(x)$ to\n",
    "the function $f$ in one plot and $Q^{\\prime }(x)$ to $f^{\\prime }$ in a\n",
    "separate plot. Use $N=4$ sample points in one set of plots and $N=8\\,$\n",
    "sample points in a second set of plots. Plot using:"
   ]
  },
  {
   "cell_type": "code",
   "execution_count": 98,
   "id": "7f913363",
   "metadata": {
    "deletable": false,
    "editable": false,
    "nbgrader": {
     "cell_type": "code",
     "checksum": "cfb89f2a90269ecf98a2f6e5d180e2b7",
     "grade": false,
     "grade_id": "cell-a3e7fea096e1b995",
     "locked": true,
     "schema_version": 3,
     "solution": false,
     "task": false
    }
   },
   "outputs": [],
   "source": [
    "x_qs = np.linspace(0,np.pi,int(np.pi/0.01))\n",
    "\n",
    "N = 4\n",
    "x_sample = np.linspace(0, np.pi, N)\n"
   ]
  },
  {
   "cell_type": "code",
   "execution_count": 99,
   "id": "a6341c6e",
   "metadata": {},
   "outputs": [],
   "source": [
    "def f(x):\n",
    "    return x**3 *np.cos(x)"
   ]
  },
  {
   "cell_type": "markdown",
   "id": "6d81793f",
   "metadata": {
    "deletable": false,
    "editable": false,
    "nbgrader": {
     "cell_type": "markdown",
     "checksum": "72773084a75f40338f44a454db02fb0d",
     "grade": false,
     "grade_id": "cell-af3190e51877bdeb",
     "locked": true,
     "points": 5,
     "schema_version": 3,
     "solution": false,
     "task": true
    }
   },
   "source": [
    "Plot under :\n"
   ]
  },
  {
   "cell_type": "code",
   "execution_count": 102,
   "id": "f7ee3400",
   "metadata": {
    "deletable": false,
    "nbgrader": {
     "cell_type": "code",
     "checksum": "69c6f3772cc60f4a45f28556ca29c40f",
     "grade": false,
     "grade_id": "cell-70292dc16c95c09c",
     "locked": false,
     "schema_version": 3,
     "solution": true,
     "task": false
    }
   },
   "outputs": [
    {
     "ename": "TypeError",
     "evalue": "'int' object is not subscriptable",
     "output_type": "error",
     "traceback": [
      "\u001b[0;31m---------------------------------------------------------------------------\u001b[0m",
      "\u001b[0;31mTypeError\u001b[0m                                 Traceback (most recent call last)",
      "Cell \u001b[0;32mIn[102], line 2\u001b[0m\n\u001b[1;32m      1\u001b[0m \u001b[38;5;66;03m# YOUR CODE HERE\u001b[39;00m\n\u001b[0;32m----> 2\u001b[0m \u001b[43mQspline\u001b[49m\u001b[43m(\u001b[49m\u001b[43mx_sample\u001b[49m\u001b[43m,\u001b[49m\u001b[43mf\u001b[49m\u001b[43m(\u001b[49m\u001b[43mx_qs\u001b[49m\u001b[43m)\u001b[49m\u001b[43m,\u001b[49m\u001b[43m \u001b[49m\u001b[38;5;241;43m0\u001b[39;49m\u001b[43m,\u001b[49m\u001b[43m \u001b[49m\u001b[43mx_qs\u001b[49m\u001b[43m)\u001b[49m\n",
      "Cell \u001b[0;32mIn[101], line 35\u001b[0m, in \u001b[0;36mQspline\u001b[0;34m(x, f, fp, xi)\u001b[0m\n\u001b[1;32m     32\u001b[0m g1 \u001b[38;5;241m=\u001b[39m \u001b[38;5;241m-\u001b[39m((a \u001b[38;5;241m-\u001b[39m x[k])\u001b[38;5;241m*\u001b[39m\u001b[38;5;241m*\u001b[39m\u001b[38;5;241m2\u001b[39m \u001b[38;5;241m*\u001b[39m (x[k\u001b[38;5;241m+\u001b[39m\u001b[38;5;241m1\u001b[39m] \u001b[38;5;241m-\u001b[39m a)) \u001b[38;5;241m/\u001b[39m (h_k\u001b[38;5;241m*\u001b[39m\u001b[38;5;241m*\u001b[39m\u001b[38;5;241m2\u001b[39m)\n\u001b[1;32m     34\u001b[0m \u001b[38;5;66;03m# Compute Q(x)\u001b[39;00m\n\u001b[0;32m---> 35\u001b[0m Q_val \u001b[38;5;241m=\u001b[39m f[k] \u001b[38;5;241m*\u001b[39m h0 \u001b[38;5;241m+\u001b[39m f[k\u001b[38;5;241m+\u001b[39m\u001b[38;5;241m1\u001b[39m] \u001b[38;5;241m*\u001b[39m h1 \u001b[38;5;241m+\u001b[39m \u001b[43mfp\u001b[49m\u001b[43m[\u001b[49m\u001b[43mk\u001b[49m\u001b[43m]\u001b[49m \u001b[38;5;241m*\u001b[39m g0 \u001b[38;5;241m+\u001b[39m fp[k\u001b[38;5;241m+\u001b[39m\u001b[38;5;241m1\u001b[39m] \u001b[38;5;241m*\u001b[39m g1\n\u001b[1;32m     36\u001b[0m Q\u001b[38;5;241m.\u001b[39mappend(Q_val)\n\u001b[1;32m     38\u001b[0m \u001b[38;5;66;03m# Compute Q'(x) (derivative)\u001b[39;00m\n",
      "\u001b[0;31mTypeError\u001b[0m: 'int' object is not subscriptable"
     ]
    }
   ],
   "source": [
    "# YOUR CODE HERE\n",
    "Qspline(x_sample,f(x_qs), 0, x_qs)"
   ]
  },
  {
   "cell_type": "code",
   "execution_count": null,
   "id": "52827324",
   "metadata": {
    "deletable": false,
    "editable": false,
    "nbgrader": {
     "cell_type": "code",
     "checksum": "95fb40e0af6a69dc4c04fa9f4cc14bc7",
     "grade": true,
     "grade_id": "cell-07c8679ce8ad1879",
     "locked": true,
     "points": 5,
     "schema_version": 3,
     "solution": false,
     "task": false
    }
   },
   "outputs": [],
   "source": [
    "#Testing answer "
   ]
  },
  {
   "cell_type": "markdown",
   "id": "24854ee0",
   "metadata": {
    "deletable": false,
    "editable": false,
    "nbgrader": {
     "cell_type": "markdown",
     "checksum": "e793eab5e0ed8575e2ccaa1efc77d9a0",
     "grade": false,
     "grade_id": "cell-80676143de64ea45",
     "locked": true,
     "schema_version": 3,
     "solution": false,
     "task": false
    }
   },
   "source": [
    "\n",
    "## Finite Difference Tables: \n",
    "\n",
    "Let $S_{N}^{k}$ denote the sum of\n",
    "the $k$ th powers of the first $N$ integers i.e.:\n",
    "$$\n",
    "S_{N}^{k}=\\sum\\limits_{i=1}^{N}i^{k}\n",
    "$$\n",
    "Write a simple python program to evaluate these sums for a specified value\n",
    "of $k$ and $N$. \n"
   ]
  },
  {
   "cell_type": "code",
   "execution_count": 45,
   "id": "328a7fa7",
   "metadata": {
    "deletable": false,
    "nbgrader": {
     "cell_type": "code",
     "checksum": "160848558f4297aca8989767f0a52766",
     "grade": false,
     "grade_id": "cell-6a1e95f15f933dad",
     "locked": false,
     "schema_version": 3,
     "solution": true,
     "task": false
    }
   },
   "outputs": [],
   "source": [
    "def Sum(N,k):\n",
    "    return sum(pow(np.arange(1, N+1), k))"
   ]
  },
  {
   "cell_type": "code",
   "execution_count": 46,
   "id": "9747ffba",
   "metadata": {
    "deletable": false,
    "editable": false,
    "nbgrader": {
     "cell_type": "code",
     "checksum": "e05671fb347a6c72a25fb6772efedde4",
     "grade": true,
     "grade_id": "cell-3c71239a055bf7ed",
     "locked": true,
     "points": 2,
     "schema_version": 3,
     "solution": false,
     "task": false
    }
   },
   "outputs": [
    {
     "data": {
      "text/plain": [
       "np.int64(3)"
      ]
     },
     "execution_count": 46,
     "metadata": {},
     "output_type": "execute_result"
    }
   ],
   "source": [
    "#Testing answer \n",
    "Sum(3,0)"
   ]
  },
  {
   "cell_type": "markdown",
   "id": "831ddee7",
   "metadata": {
    "deletable": false,
    "editable": false,
    "nbgrader": {
     "cell_type": "markdown",
     "checksum": "78e5fd0abdcff432e7e169c93af22dfe",
     "grade": false,
     "grade_id": "cell-f6ac2412af1a1816",
     "locked": true,
     "schema_version": 3,
     "solution": false,
     "task": false
    }
   },
   "source": [
    "\n",
    "Now write python code to form\n",
    "the forward difference table (since the sample points are uniform). Notice\n",
    "that for each value of $k$ the difference table terminates. Why does this\n",
    "happen? Write the table as a 7 by 6 numpy array named A, with $A_{i,j}=-1$ if not defined.\n",
    "\n",
    "|$N$ | $S_{N}^{k}$ | $\\Delta f$ | $\\Delta ^{2}f$ | $\\Delta ^{3}f$ | $\\Delta^{4}f$ | $\\Delta ^{5}f$|\n",
    "|----|----| ----| ----| ---- | ---- | ---- |\n",
    "|0   | $A_{0,0}$ | $A_{0,1}$ | $A_{0,2}$ | $A_{0,3}$ | $A_{0,4}$ | $A_{0,5}$ |\n",
    "|$\\vdots$  | $\\vdots$ | $\\vdots$ | $\\vdots$ | $\\vdots$| $\\vdots$ | $\\vdots$ |\n",
    "|6   | $A_{6,0}$ | $A_{6,1}$ | $A_{6,2}$ | $A_{6,3}$ | $A_{6,4}$ | $A_{6,5}$ |\n",
    "\n",
    "    \n"
   ]
  },
  {
   "cell_type": "code",
   "execution_count": 53,
   "id": "7b891376",
   "metadata": {
    "deletable": false,
    "nbgrader": {
     "cell_type": "code",
     "checksum": "e4be8b8f732b6065300780dc8f7f09ac",
     "grade": false,
     "grade_id": "cell-ec594b56617ad944",
     "locked": false,
     "schema_version": 3,
     "solution": true,
     "task": false
    }
   },
   "outputs": [
    {
     "name": "stdout",
     "output_type": "stream",
     "text": [
      "[[ 1.000e+00  1.600e+01  6.500e+01  1.100e+02  8.400e+01  2.400e+01]\n",
      " [ 1.700e+01  8.100e+01  1.750e+02  1.940e+02  1.080e+02  2.400e+01]\n",
      " [ 9.800e+01  2.560e+02  3.690e+02  3.020e+02  1.320e+02 -1.000e+00]\n",
      " [ 3.540e+02  6.250e+02  6.710e+02  4.340e+02 -1.000e+00 -1.000e+00]\n",
      " [ 9.790e+02  1.296e+03  1.105e+03 -1.000e+00 -1.000e+00 -1.000e+00]\n",
      " [ 2.275e+03  2.401e+03 -1.000e+00 -1.000e+00 -1.000e+00 -1.000e+00]\n",
      " [ 4.676e+03 -1.000e+00 -1.000e+00 -1.000e+00 -1.000e+00 -1.000e+00]]\n"
     ]
    }
   ],
   "source": [
    "# YOUR CODE HERE\n",
    "def fwdDiffTable(func, m, n):\n",
    "    A = -np.ones((m,n))\n",
    "\n",
    "    for i in range(0,m):\n",
    "        A[i, 0] = func(i+1)\n",
    "    for j in range(1,n):\n",
    "        for i in range(m-j):\n",
    "            A[i,j] = A[i+1,j-1] - A[i, j-1]\n",
    "    \n",
    "    return A\n",
    "\n",
    "k = 4\n",
    "print(fwdDiffTable(lambda x : Sum(x, k), 7, 6))"
   ]
  },
  {
   "cell_type": "code",
   "execution_count": 191,
   "id": "ad86df19",
   "metadata": {
    "deletable": false,
    "editable": false,
    "nbgrader": {
     "cell_type": "code",
     "checksum": "601a647dff51624164fec1d54c5a26b4",
     "grade": true,
     "grade_id": "cell-a26549075c270c01",
     "locked": true,
     "points": 4,
     "schema_version": 3,
     "solution": false,
     "task": false
    }
   },
   "outputs": [],
   "source": [
    "### BEGIN TESTS\n",
    "assert ('A' in vars() or 'A' in globals()), \"Matrix not defined\"\n",
    "### END TESTS\n",
    "#Testing answer \n"
   ]
  },
  {
   "cell_type": "markdown",
   "id": "14560727",
   "metadata": {
    "deletable": false,
    "editable": false,
    "nbgrader": {
     "cell_type": "markdown",
     "checksum": "0ab13b497d52af2ab9a6c7b7b13e5ac0",
     "grade": false,
     "grade_id": "cell-3089b0a1bb3efca4",
     "locked": true,
     "schema_version": 3,
     "solution": false,
     "task": false
    }
   },
   "source": [
    "For the special case $k=4$, extract the differences from your table\n",
    "and use the Gregory-Newton finite difference formula to derive the formula:\n",
    "$$\n",
    "S_{N}^{4}=\\sum\\limits_{i=1}^{N}i^{4}=\\frac{1}{5}N^{5}+\\frac{1}{2}N^{4}+\\frac{\n",
    "1}{3}N^{3}-\\frac{1}{30}N\n",
    "$$"
   ]
  },
  {
   "cell_type": "markdown",
   "id": "e06755d0",
   "metadata": {
    "deletable": false,
    "nbgrader": {
     "cell_type": "markdown",
     "checksum": "1f06105ae9a1b0910484d84f4cb853c7",
     "grade": true,
     "grade_id": "cell-f8be716cdb710fb5",
     "locked": false,
     "points": 4,
     "schema_version": 3,
     "solution": true,
     "task": false
    }
   },
   "source": [
    "YOUR ANSWER HERE\n",
    "\n",
    "\\begin{gather*}\n",
    "    S^4_N = f(N) = \\sum\\limits_{i=1}^{N}i^{4} \\\\\n",
    "\\end{gather*}\n",
    "\n",
    "\\begin{gather*}\n",
    "    = &&S_1^4& \\\\\n",
    "      &+& (N-1) &\\Delta S_1^4& \\\\\n",
    "      &+& \\frac{(N-1) (N-2)}{2!} &\\Delta^2 S_1^4& \\\\\n",
    "      &+& \\frac{(N-1) (N-2) (N-3)}{3!} &\\Delta^3 S_1^4& \\\\\n",
    "      &+& \\frac{(N-1) (N-2) (N-3) (N-4)}{4!} &\\Delta^4 S_1^4& \\\\\n",
    "      &+& \\frac{(N-1) (N-2) (N-3) (N-4) (N-5)}{5!} &\\Delta^5 S_1^4& \\\\\n",
    "      &+& ...\n",
    "    \\\\\n",
    "    \\\\\n",
    "    = &&1& \\\\\n",
    "      &+& (N-1)&16&  \\\\\n",
    "      &+& \\frac{N^2 -3N + 2}{2} &65& \\\\\n",
    "      &+& \\frac{-6 + 11 N - 6 N^2 + N^3}{6} &110& \\\\\n",
    "      &+& \\frac{24 - 50 N + 35 N^2 - 10 N^3 + N^4}{24} &84& \\\\\n",
    "      &+& \\frac{-120 + 274 N - 225 N^2 + 85 N^3 - 15 N^4 + N^5}{120} &24& \\\\\n",
    "      &+& &0& \n",
    "    \\\\\n",
    "    \\\\\n",
    "    =   & &(1 - 16 + 65 - 110 + 84 - 24) & N^0  \\\\ \n",
    "        & + &\\left(16 - \\frac{195}{2} + \\frac{1210}{6} - \\frac{50(84)}{24} + \\frac{274(24)}{120}\\right) & N \\\\\n",
    "        & + & \\left(\\frac{65}{2} -110 + \\frac{35(84)}{24} - \\frac{225(24)}{120} \\right) & N^2 \\\\\n",
    "        & + & \\left(\\frac{110}{6} - \\frac{10(84)}{24} + \\frac{85(24)}{120} \\right)& N^3 \\\\\n",
    "        & + &\\left( \\frac{84}{24} - \\frac{15(24)}{120} \\right) & N^4 \\\\\n",
    "        & + & \\frac{24}{120} & N^5 \\\\\n",
    "    = && \\frac{1}{5}N^{5}+\\frac{1}{2}N^{4}+\\frac{\n",
    "1}{3}N^{3}-\\frac{1}{30}N\n",
    "    \n",
    "\\end{gather*}"
   ]
  },
  {
   "cell_type": "markdown",
   "id": "1e55d424",
   "metadata": {
    "deletable": false,
    "editable": false,
    "nbgrader": {
     "cell_type": "markdown",
     "checksum": "9c2654936e1f5adb8e9412588b8c05d0",
     "grade": false,
     "grade_id": "cell-68bdcca8b13b51f0",
     "locked": true,
     "schema_version": 3,
     "solution": false,
     "task": false
    }
   },
   "source": [
    "\n",
    "## The pchip function in Python: \n",
    "Piecewise Cubic Hermite interpolation assumes the following representation of a given function $f(x)$\n",
    "in terms of the cubic basis functions $h_{i}^{(0)}$ and $h_{i}^{(0)}:$\n",
    "$$\n",
    "f(x)\\approx\n",
    "h(x)=\\sum\\limits_{i=0}^{N}f(x_{i})h_{i}^{(0)}(x)+\\sum\\limits_{i=0}^{N}f^{^{\n",
    "\\prime }}(x_{i})h_{i}^{(0)}(x)\n",
    "$$\n",
    "where $h_{i}^{(0)}$ and $h_{i}^{(1)}$ are assumed to have the properties:\n",
    "\n",
    "$$\n",
    "\\left. \n",
    "\\begin{array}{rr}\n",
    "h_{i}^{(0)}(x_{j})=\\delta_{ij} & \\frac{d}{dx}h_{i}^{(1)}(x_{j})=\\delta _{ij}\n",
    "\\\\ \n",
    "\\frac{d}{dx}h_{i}^{(0)}(x_{j})=0 & h_{i}^{(1)}(x_{j})=0\n",
    "\\end{array}\n",
    "\\right\\} \\qquad (1)\n",
    "$$\n"
   ]
  },
  {
   "cell_type": "markdown",
   "id": "048ebe4b",
   "metadata": {
    "deletable": false,
    "editable": false,
    "nbgrader": {
     "cell_type": "markdown",
     "checksum": "49d89b5afefe3f506ac8fc9f40e73969",
     "grade": false,
     "grade_id": "cell-0df476bd8d316fa9",
     "locked": true,
     "schema_version": 3,
     "solution": false,
     "task": false
    }
   },
   "source": [
    "\n",
    "- (a) Show that the expressions for these basis functions are given by\n",
    "$$\n",
    "\\begin{align}\n",
    "h_{i}^{(0)}(x) &=&\\frac{\\left[ \\Delta x_{i}+2\\left( x-x_{i}\\right) \\right]\n",
    "(x_{i+1}-x)^{2}}{(\\Delta x_{i})^{3}} \\\\\n",
    "h_{i+1}^{(0)}(x) &=&\\frac{\\left[ \\Delta x_{i}+2\\left( x_{i+1}-x\\right) \n",
    "\\right] (x-x_{i})^{2}}{(\\Delta x_{i})^{3}} \\\\\n",
    "h_{i}^{(1)}(x) &=&\\frac{(x-x_{i})(x_{i+1}-x)^{2}}{(\\Delta x_{i})^{2}} \\\\\n",
    "h_{i+1}^{(1)}(x) &=&-\\frac{(x_{i+1}-x)(x-x_{i})^{2}}{(\\Delta x_{i})^{2}}\n",
    "\\end{align}\n",
    "$$\n"
   ]
  },
  {
   "cell_type": "markdown",
   "id": "b37dc176",
   "metadata": {
    "deletable": false,
    "nbgrader": {
     "cell_type": "markdown",
     "checksum": "0ed68384b59ece96f5b80162867de3e9",
     "grade": true,
     "grade_id": "cell-e7cf0904f6ea9a7a",
     "locked": false,
     "points": 5,
     "schema_version": 3,
     "solution": true,
     "task": false
    }
   },
   "source": [
    "Since each instance of $h_i^{(0)}(x)$ and $h_i^{(1)}(x)$ are only valid on $[x_i, x_{i+1}]$ we only need to check $x_j = x_i, x_{i+1}$\n",
    "\n",
    "For $h^{(0)}_i(x)$:\n",
    "\\begin{gather*}\n",
    "    h_{i}^{(0)}(x_j) &=& \\frac{\\left[ \\Delta x_{i}+2\\left( x_j-x_{i}\\right) \\right]\n",
    "        (x_{i+1}-x_j)^{2}}{(\\Delta x_{i})^{3}} &=& \\left\\{\n",
    "        \\begin{array}{rr}\n",
    "        1 & i=j\n",
    "        \\\\ \n",
    "        0 & j = i+1\n",
    "        \\end{array}\n",
    "        \\right. = \\delta_{ij}\n",
    "    \\\\\n",
    "    \\frac{d}{dx}h_{i}^{(0)}(x_j) &=& \\frac{2(x_{i+1}-x_j)^{2} - 2\\left[ \\Delta x_{i}+2\\left( x_j-x_{i}\\right) \\right]\n",
    "        (x_{i+1}-x_j)}{(\\Delta x_{i})^{3}} &=& \\left\\{\n",
    "        \\begin{array}{rr}\n",
    "        0 & i=j\n",
    "        \\\\ \n",
    "        0 & j = i+1\n",
    "        \\end{array}\n",
    "        \\right. = 0\n",
    "    \\\\\n",
    "    h_{i+1}^{(0)}(x_j) &=&\\frac{\\left[ \\Delta x_{i}+2\\left( x_{i+1}-x_j\\right) \n",
    "        \\right] (x_j-x_{i})^{2}}{(\\Delta x_{i})^{3}}\n",
    "        &=& \\left\\{\n",
    "        \\begin{array}{rr}\n",
    "        0 & i=j\n",
    "        \\\\ \n",
    "        1 & j = i+1\n",
    "        \\end{array}\n",
    "        \\right. = \\delta_{(i+1)j}\n",
    "    \\\\\n",
    "    \\frac{d}{dx} h_{i+1}^{(0)}(x_j) &=&\\frac{2\\left[ \\Delta x_{i}+2\\left( x_{i+1}-x_j\\right) \n",
    "        \\right] (x_j-x_{i}) - 2(x_j-x_{i})^{2}}{(\\Delta x_{i})^{3}}\n",
    "        &=& \\left\\{\n",
    "        \\begin{array}{rr}\n",
    "        0 & i=j\n",
    "        \\\\ \n",
    "        0 & j = i+1\n",
    "        \\end{array}\n",
    "        \\right. = 0\n",
    "\\end{gather*}\n",
    "For $h^{(1)}_i(x)$:\n",
    "\\begin{gather*}\n",
    "    h_{i}^{(1)}(x_j) &=& \\frac{(x_j-x_{i})(x_{i+1}-x_j)^{2}}{(\\Delta x_{i})^{2}} &=& \\left\\{\n",
    "        \\begin{array}{rr}\n",
    "        0 & i=j\n",
    "        \\\\ \n",
    "        0 & j = i+1\n",
    "        \\end{array}\n",
    "        \\right. = 0\n",
    "    \\\\\n",
    "    \\frac{d}{dx}h_{i}^{(1)}(x_j) &=& \\frac{(x_{i+1}-x_j)^{2} - 2(x_j-x_{i})(x_{i+1}-x_j)}{(\\Delta x_{i})^{2}} &=& \\left\\{\n",
    "        \\begin{array}{rr}\n",
    "        1 & i=j\n",
    "        \\\\ \n",
    "        0 & j = i+1\n",
    "        \\end{array}\n",
    "        \\right. = \\delta_{ij}\n",
    "    \\\\\n",
    "    h_{i+1}^{(1)}(x_j) &=&-\\frac{(x_{i+1}-x_j)(x_j-x_{i})^{2}}{(\\Delta x_{i})^{2}} &=& \\left\\{\n",
    "        \\begin{array}{rr}\n",
    "        0 & i=j\n",
    "        \\\\ \n",
    "        0 & j = i+1\n",
    "        \\end{array}\n",
    "        \\right. = 0\n",
    "    \\\\\n",
    "    \\frac{d}{dx} h_{i+1}^{(1)}(x_j) &=&-\\frac{2(x_{i+1}-x_j)(x_j-x_{i})-(x_j-x_{i})^{2}}{(\\Delta x_{i})^{2}} &=& \\left\\{\n",
    "        \\begin{array}{rr}\n",
    "        0 & i=j\n",
    "        \\\\ \n",
    "        1 & j = i+1\n",
    "        \\end{array}\n",
    "        \\right. = \\delta_{(i+1)j}\n",
    "\\end{gather*}"
   ]
  },
  {
   "cell_type": "markdown",
   "id": "209d0abe",
   "metadata": {
    "deletable": false,
    "editable": false,
    "nbgrader": {
     "cell_type": "markdown",
     "checksum": "eedb8241cdeaf43667ed724fe94562f3",
     "grade": false,
     "grade_id": "cell-57d9693d9e4d0dcb",
     "locked": true,
     "schema_version": 3,
     "solution": false,
     "task": false
    }
   },
   "source": [
    "\n",
    "- (b) In order to specify the interpolant it is necessary to supply both the\n",
    "function values $f(x_{i})$ and the derivatives $f^{\\prime }(x_{i})$ at the\n",
    "interpolation points. Write a python function `hermite`$(x,y,yp,xi)$\n",
    "that will evaluate the Piecewise Cubic Hermite interpolant of a function\n",
    "sampled at the points given by the vector $x$ and whose values and\n",
    "derivatives are given by $y$ and $yp$ respectively. Let $xi$ be the set of\n",
    "desired sample points. For the function $f(x)=\\cos (4x)e^{-x^{5}}$ on the\n",
    "interval $[0,1]$ plot the Piecewise Cubic Hermite interpolant and the\n",
    "function $f$. \n",
    "Compare the value of the Piecewise Cubic Hermite interpolant\n",
    "with the function at $x=0.5$ by sampling the function and its derivative at\n",
    "only 6 uniformly distributed points and completing the table.\n",
    "\n",
    "|$f(0.5)$ |  sh1|\n",
    "|----|  ----|\n",
    "|hermite(0.5) |  sh2|\n",
    "\n"
   ]
  },
  {
   "cell_type": "code",
   "execution_count": null,
   "id": "78e63af3",
   "metadata": {
    "deletable": false,
    "nbgrader": {
     "cell_type": "code",
     "checksum": "c9b2bc0eb4b83fcb83406cd502ffa65e",
     "grade": false,
     "grade_id": "cell-ab07ed8722790358",
     "locked": false,
     "schema_version": 3,
     "solution": true,
     "task": false
    }
   },
   "outputs": [
    {
     "data": {
      "text/plain": [
       "[np.float64(1.0),\n",
       " np.float64(0.9999915939030799),\n",
       " np.float64(0.9999663917691266),\n",
       " np.float64(0.9999244178333504),\n",
       " np.float64(0.9998656963309603),\n",
       " np.float64(0.9997902514971666),\n",
       " np.float64(0.9996981075671791),\n",
       " np.float64(0.9995892887762078),\n",
       " np.float64(0.999463819359463),\n",
       " np.float64(0.9993217235521538),\n",
       " np.float64(0.9991630255894903),\n",
       " np.float64(0.9989877497066825),\n",
       " np.float64(0.9987959201389403),\n",
       " np.float64(0.9985875611214736),\n",
       " np.float64(0.9983626968894923),\n",
       " np.float64(0.9981213516782064),\n",
       " np.float64(0.9978635497228252),\n",
       " np.float64(0.9975893152585591),\n",
       " np.float64(0.9972986725206181),\n",
       " np.float64(0.9969916457442116),\n",
       " np.float64(0.9966682591645499),\n",
       " np.float64(0.9963285370168427),\n",
       " np.float64(0.9959725035363),\n",
       " np.float64(0.9956001829581315),\n",
       " np.float64(0.9952115995175468),\n",
       " np.float64(0.9948067774497568),\n",
       " np.float64(0.9943857409899703),\n",
       " np.float64(0.9939485143733978),\n",
       " np.float64(0.993495121835249),\n",
       " np.float64(0.9930255876107333),\n",
       " np.float64(0.992539935935062),\n",
       " np.float64(0.9920381910434435),\n",
       " np.float64(0.9915203771710882),\n",
       " np.float64(0.9909865185532061),\n",
       " np.float64(0.9904366394250068),\n",
       " np.float64(0.989870764021701),\n",
       " np.float64(0.9892889165784974),\n",
       " np.float64(0.9886911213306067),\n",
       " np.float64(0.9880774025132384),\n",
       " np.float64(0.9874477843616024),\n",
       " np.float64(0.9868022911109092),\n",
       " np.float64(0.9861409469963676),\n",
       " np.float64(0.9854637762531882),\n",
       " np.float64(0.984770803116581),\n",
       " np.float64(0.9840620518217553),\n",
       " np.float64(0.9833375466039217),\n",
       " np.float64(0.982597311698289),\n",
       " np.float64(0.9818413713400685),\n",
       " np.float64(0.981069749764469),\n",
       " np.float64(0.980282471206701),\n",
       " np.float64(0.9794795599019742),\n",
       " np.float64(0.9786610400854978),\n",
       " np.float64(0.9778269359924828),\n",
       " np.float64(0.9769772718581385),\n",
       " np.float64(0.9761120719176747),\n",
       " np.float64(0.9752313604063017),\n",
       " np.float64(0.9743351615592286),\n",
       " np.float64(0.9734234996116665),\n",
       " np.float64(0.9724963987988243),\n",
       " np.float64(0.971553883355912),\n",
       " np.float64(0.9705959775181399),\n",
       " np.float64(0.9696227055207174),\n",
       " np.float64(0.9686340915988552),\n",
       " np.float64(0.9676301599877617),\n",
       " np.float64(0.9666109349226484),\n",
       " np.float64(0.9655764406387242),\n",
       " np.float64(0.9645267013711989),\n",
       " np.float64(0.9634617413552836),\n",
       " np.float64(0.9623815848261865),\n",
       " np.float64(0.9612862560191188),\n",
       " np.float64(0.9601757791692896),\n",
       " np.float64(0.959050178511909),\n",
       " np.float64(0.9579094782821874),\n",
       " np.float64(0.9567537027153337),\n",
       " np.float64(0.9555828760465587),\n",
       " np.float64(0.9543970225110717),\n",
       " np.float64(0.953196166344083),\n",
       " np.float64(0.9519803317808022),\n",
       " np.float64(0.950749543056439),\n",
       " np.float64(0.9495038244062037),\n",
       " np.float64(0.948243200065306),\n",
       " np.float64(0.9469676942689559),\n",
       " np.float64(0.9456773312523633),\n",
       " np.float64(0.9443721352507375),\n",
       " np.float64(0.9430521304992892),\n",
       " np.float64(0.9417173412332277),\n",
       " np.float64(0.9403677916877633),\n",
       " np.float64(0.9390035060981056),\n",
       " np.float64(0.9376245086994645),\n",
       " np.float64(0.93623082372705),\n",
       " np.float64(0.934822475416072),\n",
       " np.float64(0.9333994880017403),\n",
       " np.float64(0.931961885719265),\n",
       " np.float64(0.9305096928038555),\n",
       " np.float64(0.9290429334907222),\n",
       " np.float64(0.9275616320150746),\n",
       " np.float64(0.9260658126121228),\n",
       " np.float64(0.9245554995170766),\n",
       " np.float64(0.9230307169651459),\n",
       " np.float64(0.9214914891915406),\n",
       " np.float64(0.9199378404314705),\n",
       " np.float64(0.9183697949201458),\n",
       " np.float64(0.9167873768927759),\n",
       " np.float64(0.915190610584571),\n",
       " np.float64(0.9135795202307407),\n",
       " np.float64(0.9119541300664954),\n",
       " np.float64(0.9103144643270444),\n",
       " np.float64(0.908660547247598),\n",
       " np.float64(0.906992403063366),\n",
       " np.float64(0.905310056009558),\n",
       " np.float64(0.9036135303213844),\n",
       " np.float64(0.9019028502340547),\n",
       " np.float64(0.9001780399827788),\n",
       " np.float64(0.8984391238027665),\n",
       " np.float64(0.896686125929228),\n",
       " np.float64(0.8949190705973731),\n",
       " np.float64(0.8931379820424115),\n",
       " np.float64(0.8913428844995531),\n",
       " np.float64(0.8895338022040078),\n",
       " np.float64(0.8877107593909859),\n",
       " np.float64(0.8858737802956965),\n",
       " np.float64(0.88402288915335),\n",
       " np.float64(0.8821581101991565),\n",
       " np.float64(0.8802794676683252),\n",
       " np.float64(0.8783869857960666),\n",
       " np.float64(0.8764806888175902),\n",
       " np.float64(0.8745606009681063),\n",
       " np.float64(0.8726267464828243),\n",
       " np.float64(0.8706791495969542),\n",
       " np.float64(0.8687178345457061),\n",
       " np.float64(0.8667428255642897),\n",
       " np.float64(0.8647541468879152),\n",
       " np.float64(0.8627518227517919),\n",
       " np.float64(0.8607358773911301),\n",
       " np.float64(0.8587063350411397),\n",
       " np.float64(0.8566632199370303),\n",
       " np.float64(0.854606556314012),\n",
       " np.float64(0.8525363684072949),\n",
       " np.float64(0.8504526804520882),\n",
       " np.float64(0.8483555166836023),\n",
       " np.float64(0.8462449013370472),\n",
       " np.float64(0.8441208586476323),\n",
       " np.float64(0.841983412850568),\n",
       " np.float64(0.8398325881810639),\n",
       " np.float64(0.8376684088743297),\n",
       " np.float64(0.8354908991655757),\n",
       " np.float64(0.8333000832900116),\n",
       " np.float64(0.8310959854828472),\n",
       " np.float64(0.8288786299792925),\n",
       " np.float64(0.8266480410145572),\n",
       " np.float64(0.8244042428238514),\n",
       " np.float64(0.8221472596423849),\n",
       " np.float64(0.8198771157053676),\n",
       " np.float64(0.8175938352480093),\n",
       " np.float64(0.81529744250552),\n",
       " np.float64(0.8129879617131095),\n",
       " np.float64(0.8106654171059877),\n",
       " np.float64(0.8083298329193647),\n",
       " np.float64(0.8059812333884501),\n",
       " np.float64(0.8036196427484537),\n",
       " np.float64(0.8012450852345855),\n",
       " np.float64(0.7988575850820554),\n",
       " np.float64(0.7964571665260736),\n",
       " np.float64(0.7940438538018496),\n",
       " np.float64(0.7916176711445932),\n",
       " np.float64(0.7891786427895147),\n",
       " np.float64(0.7867267929718236),\n",
       " np.float64(0.7842621459267299),\n",
       " np.float64(0.7817847258894437),\n",
       " np.float64(0.7792945570951744),\n",
       " np.float64(0.7767916637791324),\n",
       " np.float64(0.7742760701765273),\n",
       " np.float64(0.771747800522569),\n",
       " np.float64(0.7692068790524674),\n",
       " np.float64(0.7666533300014324),\n",
       " np.float64(0.7640871776046739),\n",
       " np.float64(0.7615084460974018),\n",
       " np.float64(0.758917159714826),\n",
       " np.float64(0.7563133426921562),\n",
       " np.float64(0.7536970192646026),\n",
       " np.float64(0.7510682136673749),\n",
       " np.float64(0.7484269501356828),\n",
       " np.float64(0.7457732529047365),\n",
       " np.float64(0.7431071462097457),\n",
       " np.float64(0.7404286542859204),\n",
       " np.float64(0.7377378013684702),\n",
       " np.float64(0.7350346116926055),\n",
       " np.float64(0.7323191094935357),\n",
       " np.float64(0.729591319006471),\n",
       " np.float64(0.7268512644666208),\n",
       " np.float64(0.7240989701091958),\n",
       " np.float64(0.7213344601694053),\n",
       " np.float64(0.7185577588824592),\n",
       " np.float64(0.7157688904835673),\n",
       " np.float64(0.7129678792079399),\n",
       " np.float64(0.7101547492907867),\n",
       " np.float64(0.7073295249673173),\n",
       " np.float64(0.7044922304727421),\n",
       " np.float64(0.7016428900422704),\n",
       " np.float64(0.6987815279111126),\n",
       " np.float64(0.695908171702935),\n",
       " np.float64(0.6930229670347363),\n",
       " np.float64(0.6901260279516118),\n",
       " np.float64(0.6872174185334508),\n",
       " np.float64(0.6842972028601423),\n",
       " np.float64(0.6813654450115756),\n",
       " np.float64(0.6784222090676395),\n",
       " np.float64(0.6754675591082238),\n",
       " np.float64(0.6725015592132173),\n",
       " np.float64(0.669524273462509),\n",
       " np.float64(0.6665357659359887),\n",
       " np.float64(0.6635361007135451),\n",
       " np.float64(0.6605253418750675),\n",
       " np.float64(0.6575035535004452),\n",
       " np.float64(0.654470799669567),\n",
       " np.float64(0.6514271444623226),\n",
       " np.float64(0.6483726519586009),\n",
       " np.float64(0.6453073862382914),\n",
       " np.float64(0.6422314113812827),\n",
       " np.float64(0.6391447914674646),\n",
       " np.float64(0.6360475905767258),\n",
       " np.float64(0.6329398727889555),\n",
       " np.float64(0.6298217021840435),\n",
       " np.float64(0.6266931428418784),\n",
       " np.float64(0.6235542588423495),\n",
       " np.float64(0.620405114265346),\n",
       " np.float64(0.6172457731907571),\n",
       " np.float64(0.6140762996984722),\n",
       " np.float64(0.6108967578683802),\n",
       " np.float64(0.6077072117803705),\n",
       " np.float64(0.6045077255143319),\n",
       " np.float64(0.601298363150154),\n",
       " np.float64(0.5980791887677259),\n",
       " np.float64(0.5948502664469366),\n",
       " np.float64(0.5916116602676754),\n",
       " np.float64(0.5883634343098316),\n",
       " np.float64(0.5851056526532943),\n",
       " np.float64(0.5818383793779526),\n",
       " np.float64(0.5785616785636958),\n",
       " np.float64(0.5752756142904131),\n",
       " np.float64(0.5719802506379934),\n",
       " np.float64(0.5686756516863265),\n",
       " np.float64(0.5653618815153008),\n",
       " np.float64(0.5620390042048063),\n",
       " np.float64(0.5587070838347316),\n",
       " np.float64(0.5553661844849658),\n",
       " np.float64(0.5520163702353986),\n",
       " np.float64(0.548657705165919),\n",
       " np.float64(0.545290253356416),\n",
       " np.float64(0.541914078886779),\n",
       " np.float64(0.5385292458368968),\n",
       " np.float64(0.5351358182866593),\n",
       " np.float64(0.5317338603159552),\n",
       " np.float64(0.5283234360046734),\n",
       " np.float64(0.5249046094327038),\n",
       " np.float64(0.521477444679935),\n",
       " np.float64(0.5180420058262565),\n",
       " np.float64(0.5145983569515575),\n",
       " np.float64(0.511146562135727),\n",
       " np.float64(0.5076866854586543),\n",
       " np.float64(0.5042187910002284),\n",
       " np.float64(0.5007429428403388),\n",
       " np.float64(0.49725920505887466),\n",
       " np.float64(0.49376764173572474),\n",
       " np.float64(0.4902683169507789),\n",
       " np.float64(0.48676129478392544),\n",
       " np.float64(0.4832466393150544),\n",
       " np.float64(0.4797244146240545),\n",
       " np.float64(0.4761946847908151),\n",
       " np.float64(0.4726575138952253),\n",
       " np.float64(0.4691129660171742),\n",
       " np.float64(0.4655611052365514),\n",
       " np.float64(0.4620019956332456),\n",
       " np.float64(0.45843570128714617),\n",
       " np.float64(0.45486228627814246),\n",
       " np.float64(0.45128181468612316),\n",
       " np.float64(0.4476943505909782),\n",
       " np.float64(0.4440999580725961),\n",
       " np.float64(0.44049870121086643),\n",
       " np.float64(0.4368906440856784),\n",
       " np.float64(0.4332758507769207),\n",
       " np.float64(0.4296543853644831),\n",
       " np.float64(0.42602631192825435),\n",
       " np.float64(0.4223916945481241),\n",
       " np.float64(0.4187505973039811),\n",
       " np.float64(0.41510308427571485),\n",
       " np.float64(0.41144921954321434),\n",
       " np.float64(0.4077890671863687),\n",
       " np.float64(0.40412269128506745),\n",
       " np.float64(0.4004501559191995),\n",
       " np.float64(0.3967715251686538),\n",
       " np.float64(0.3930868631133203),\n",
       " np.float64(0.3893962338330873),\n",
       " np.float64(0.38569970140784476),\n",
       " np.float64(0.3819973299174813),\n",
       " np.float64(0.3782891834418863),\n",
       " np.float64(0.3745753260609491),\n",
       " np.float64(0.3708558218545586),\n",
       " np.float64(0.3671307349026042),\n",
       " np.float64(0.3634001292849752),\n",
       " np.float64(0.35966406908156034),\n",
       " np.float64(0.35592261837224926),\n",
       " np.float64(0.3521758412369307),\n",
       " np.float64(0.34842380175549437),\n",
       " np.float64(0.344666564007829),\n",
       " np.float64(0.34090419207382405),\n",
       " np.float64(0.33713675003336874),\n",
       " np.float64(0.33336430196635203),\n",
       " np.float64(0.3295869119526633),\n",
       " np.float64(0.3258046440721914),\n",
       " np.float64(0.32201756240482604),\n",
       " np.float64(0.31822573103045615),\n",
       " np.float64(0.3144292140289707),\n",
       " np.float64(0.3106280754802593),\n",
       " np.float64(0.30682237946421065),\n",
       " np.float64(0.30301219006071445),\n",
       " np.float64(0.2991975713496597),\n",
       " np.float64(0.2953785874109352),\n",
       " np.float64(0.29155530232443067),\n",
       " np.float64(0.287727780170035),\n",
       " np.float64(0.2838960850276376),\n",
       " np.float64(0.2800602809771275),\n",
       " np.float64(0.27622043209839364),\n",
       " np.float64(0.2723766024713257),\n",
       " np.float64(0.2685288561758125),\n",
       " np.float64(0.26467725729174363),\n",
       " np.float64(0.2608218698990079),\n",
       " np.float64(0.2569627580774944),\n",
       " np.float64(0.25309998590709276),\n",
       " np.float64(0.24923361746769174),\n",
       " np.float64(0.24536371683918093),\n",
       " np.float64(0.24149034810144926),\n",
       " np.float64(0.23761357533438576),\n",
       " np.float64(0.23373346261788006),\n",
       " np.float64(0.2298500740318209),\n",
       " np.float64(0.2259634736560978),\n",
       " np.float64(0.22207372557059984),\n",
       " np.float64(0.218180893855216),\n",
       " np.float64(0.21428504258983583),\n",
       " np.float64(0.21038623585434812),\n",
       " np.float64(0.2064845377286425),\n",
       " np.float64(0.20258001229260775),\n",
       " np.float64(0.19867272362613336),\n",
       " np.float64(0.1947627358091084),\n",
       " np.float64(0.1908501129214219),\n",
       " np.float64(0.18693491904296333),\n",
       " np.float64(0.18301721825362158),\n",
       " np.float64(0.17909707463328617),\n",
       " np.float64(0.1751745522618461),\n",
       " np.float64(0.17124971521919038),\n",
       " np.float64(0.1673226275852086),\n",
       " np.float64(0.16339335343978947),\n",
       " np.float64(0.15946195686282266),\n",
       " np.float64(0.15552850193419718),\n",
       " np.float64(0.1515930527338019),\n",
       " np.float64(0.14765567334152652),\n",
       " np.float64(0.1437164278372597),\n",
       " np.float64(0.1397753803008912),\n",
       " np.float64(0.13583259481230986),\n",
       " np.float64(0.13188813545140474),\n",
       " np.float64(0.1279420662980654),\n",
       " np.float64(0.1239944514321806),\n",
       " np.float64(0.12004535493363999),\n",
       " np.float64(0.1160948408823325),\n",
       " np.float64(0.11214297335814719),\n",
       " np.float64(0.10818981644097356),\n",
       " np.float64(0.10423543421070039),\n",
       " np.float64(0.10027989074721735),\n",
       " np.float64(0.09632325013041318),\n",
       " np.float64(0.09236557644017748),\n",
       " np.float64(0.08840693375639923),\n",
       " np.float64(0.08444738615896738),\n",
       " np.float64(0.08048699772777158),\n",
       " np.float64(0.07652583254270057),\n",
       " np.float64(0.07256395468364396),\n",
       " np.float64(0.06860142823049074),\n",
       " np.float64(0.06463831726312985),\n",
       " np.float64(0.060674685861450944),\n",
       " np.float64(0.05671059810534275),\n",
       " np.float64(0.052746118074694905),\n",
       " np.float64(0.048781309849396354),\n",
       " np.float64(0.04481623750933608),\n",
       " np.float64(0.04085096513440371),\n",
       " np.float64(0.036885556804488004),\n",
       " np.float64(0.03292007659947857),\n",
       " np.float64(0.02895458859926436),\n",
       " np.float64(0.02498915688373436),\n",
       " np.float64(0.021023845532778203),\n",
       " np.float64(0.017058718626284615),\n",
       " np.float64(0.013093840244143232),\n",
       " np.float64(0.009129274466243033),\n",
       " np.float64(0.0051650853724729585),\n",
       " np.float64(0.0012013370427226625),\n",
       " np.float64(-0.0027619064431191297),\n",
       " np.float64(-0.006724581005162787),\n",
       " np.float64(-0.010686622563519332),\n",
       " np.float64(-0.014647967038299813),\n",
       " np.float64(-0.018608550349614603),\n",
       " np.float64(-0.022568308417574942),\n",
       " np.float64(-0.02652717716229122),\n",
       " np.float64(-0.03048503904266182),\n",
       " np.float64(-0.03444133075272951),\n",
       " np.float64(-0.038395854372038435),\n",
       " np.float64(-0.04234853140278733),\n",
       " np.float64(-0.046299283347174036),\n",
       " np.float64(-0.05024803170739728),\n",
       " np.float64(-0.0541946979856549),\n",
       " np.float64(-0.05813920368414541),\n",
       " np.float64(-0.062081470305067284),\n",
       " np.float64(-0.06602141935061841),\n",
       " np.float64(-0.06995897232299747),\n",
       " np.float64(-0.07389405072440232),\n",
       " np.float64(-0.07782657605703149),\n",
       " np.float64(-0.08175646982308345),\n",
       " np.float64(-0.08568365352475606),\n",
       " np.float64(-0.08960804866424801),\n",
       " np.float64(-0.09352957674375721),\n",
       " np.float64(-0.09744815926548211),\n",
       " np.float64(-0.10136371773162123),\n",
       " np.float64(-0.1052761736443724),\n",
       " np.float64(-0.10918544850593437),\n",
       " np.float64(-0.11309146381850495),\n",
       " np.float64(-0.11699414108428266),\n",
       " np.float64(-0.12089340180546602),\n",
       " np.float64(-0.12478916748425287),\n",
       " np.float64(-0.1286813596228419),\n",
       " np.float64(-0.13256989972343097),\n",
       " np.float64(-0.13645470928821862),\n",
       " np.float64(-0.1403357098194033),\n",
       " np.float64(-0.14421282281918282),\n",
       " np.float64(-0.14808596978975605),\n",
       " np.float64(-0.15195507223332064),\n",
       " np.float64(-0.1558200516520755),\n",
       " np.float64(-0.15968082954821838),\n",
       " np.float64(-0.16353732742394775),\n",
       " np.float64(-0.16738946678146216),\n",
       " np.float64(-0.1712371691229595),\n",
       " np.float64(-0.1750803559506384),\n",
       " np.float64(-0.17891894876669673),\n",
       " np.float64(-0.18275286907333307),\n",
       " np.float64(-0.18658203837274578),\n",
       " np.float64(-0.19040637816713282),\n",
       " np.float64(-0.19422580995869285),\n",
       " np.float64(-0.19804025524962382),\n",
       " np.float64(-0.20184963554212407),\n",
       " np.float64(-0.20565387233839222),\n",
       " np.float64(-0.20945288714062607),\n",
       " np.float64(-0.2132466014510244),\n",
       " np.float64(-0.21703493677178498),\n",
       " np.float64(-0.2208178146051063),\n",
       " np.float64(-0.22459515645318695),\n",
       " np.float64(-0.2283668838182247),\n",
       " np.float64(-0.23213291820241835),\n",
       " np.float64(-0.23589318110796562),\n",
       " np.float64(-0.23964759403706506),\n",
       " np.float64(-0.2433960784919153),\n",
       " np.float64(-0.24713855597471407),\n",
       " np.float64(-0.2508749479876601),\n",
       " np.float64(-0.2546051760329512),\n",
       " np.float64(-0.2583291616127859),\n",
       " np.float64(-0.26204682622936276),\n",
       " np.float64(-0.2657580913848796),\n",
       " np.float64(-0.26946287858153506),\n",
       " np.float64(-0.2731611093215271),\n",
       " np.float64(-0.27685270510705423),\n",
       " np.float64(-0.28053758744031476),\n",
       " np.float64(-0.2842156778235067),\n",
       " np.float64(-0.28788689775882875),\n",
       " np.float64(-0.2915511687484788),\n",
       " np.float64(-0.29520841229465544),\n",
       " np.float64(-0.2988585498995566),\n",
       " np.float64(-0.3025015030653808),\n",
       " np.float64(-0.30613719329432654),\n",
       " np.float64(-0.3097655420885916),\n",
       " np.float64(-0.31338647095037475),\n",
       " np.float64(-0.3169999013818739),\n",
       " np.float64(-0.32060575488528736),\n",
       " np.float64(-0.3242039529628138),\n",
       " np.float64(-0.32779441711665097),\n",
       " np.float64(-0.33137706884899776),\n",
       " np.float64(-0.3349518296620518),\n",
       " np.float64(-0.3385186210580117),\n",
       " np.float64(-0.3420773645390759),\n",
       " np.float64(-0.34562798160744246),\n",
       " np.float64(-0.3491703937653098),\n",
       " np.float64(-0.3527045225148759),\n",
       " np.float64(-0.3562302893583392),\n",
       " np.float64(-0.35974761579789843),\n",
       " np.float64(-0.36325642333575126),\n",
       " np.float64(-0.3667566334740963),\n",
       " np.float64(-0.3702481677151316),\n",
       " np.float64(-0.37373094756105557),\n",
       " np.float64(-0.3772048945140667),\n",
       " np.float64(-0.38066993007636285),\n",
       " np.float64(-0.38412597575014273),\n",
       " np.float64(-0.38757295303760425),\n",
       " np.float64(-0.3910107834409461),\n",
       " np.float64(-0.3944393884623661),\n",
       " np.float64(-0.3978586896040627),\n",
       " np.float64(-0.40126860836823447),\n",
       " np.float64(-0.40466906625707955),\n",
       " np.float64(-0.40805998477279587),\n",
       " np.float64(-0.41144128541758207),\n",
       " np.float64(-0.41481288969363617),\n",
       " np.float64(-0.41817471910315673),\n",
       " np.float64(-0.42152669514834235),\n",
       " np.float64(-0.42486873933139063),\n",
       " np.float64(-0.4282007731544999),\n",
       " np.float64(-0.43152271811986875),\n",
       " np.float64(-0.43483449572969546),\n",
       " np.float64(-0.4381360274861784),\n",
       " np.float64(-0.4414272348915155),\n",
       " np.float64(-0.44470803944790516),\n",
       " np.float64(-0.44797836265754587),\n",
       " np.float64(-0.4512381260226356),\n",
       " np.float64(-0.45448725104537313),\n",
       " np.float64(-0.45772565922795627),\n",
       " np.float64(-0.4609532720725832),\n",
       " np.float64(-0.4641700110814527),\n",
       " np.float64(-0.46737579775676275),\n",
       " np.float64(-0.470570553600712),\n",
       " np.float64(-0.47375420011549807),\n",
       " np.float64(-0.4769266588033196),\n",
       " np.float64(-0.4800878511663749),\n",
       " np.float64(-0.4832376987068623),\n",
       " np.float64(-0.48637612292698024),\n",
       " np.float64(-0.4895030453289264),\n",
       " np.float64(-0.4926183874148995),\n",
       " np.float64(-0.4957220706870979),\n",
       " np.float64(-0.4988140166477195),\n",
       " np.float64(-0.5018941467989634),\n",
       " np.float64(-0.5049623826430267),\n",
       " np.float64(-0.5080186456821085),\n",
       " np.float64(-0.5110628574184068),\n",
       " np.float64(-0.5140949393541201),\n",
       " np.float64(-0.5171148129914468),\n",
       " np.float64(-0.5201223998325846),\n",
       " np.float64(-0.5231176213797321),\n",
       " np.float64(-0.5261003991350874),\n",
       " np.float64(-0.5290706546008492),\n",
       " np.float64(-0.5320283092792158),\n",
       " np.float64(-0.534973284672385),\n",
       " np.float64(-0.5379055022825553),\n",
       " np.float64(-0.5408248836119248),\n",
       " np.float64(-0.5437313501626925),\n",
       " np.float64(-0.5466248234370561),\n",
       " np.float64(-0.5495052249372138),\n",
       " np.float64(-0.552372476165364),\n",
       " np.float64(-0.555226498623705),\n",
       " np.float64(-0.5580672138144354),\n",
       " np.float64(-0.5608945432397529),\n",
       " np.float64(-0.5637084084018559),\n",
       " np.float64(-0.5665087308029433),\n",
       " np.float64(-0.5692954319452126),\n",
       " np.float64(-0.5720684333308629),\n",
       " np.float64(-0.5748276564620916),\n",
       " np.float64(-0.5775730228410976),\n",
       " np.float64(-0.5803044539700787),\n",
       " np.float64(-0.5830218713512335),\n",
       " np.float64(-0.5857251964867605),\n",
       " np.float64(-0.5884143508788576),\n",
       " np.float64(-0.5910892560297231),\n",
       " np.float64(-0.5937498334415555),\n",
       " np.float64(-0.596396004616553),\n",
       " np.float64(-0.5990276910569141),\n",
       " np.float64(-0.6016448142648365),\n",
       " np.float64(-0.6042472957425188),\n",
       " np.float64(-0.6068350569921594),\n",
       " np.float64(-0.6094080195159565),\n",
       " np.float64(-0.6119661048161086),\n",
       " np.float64(-0.6145092343948135),\n",
       " np.float64(-0.6170373297542697),\n",
       " np.float64(-0.6195503123966757),\n",
       " np.float64(-0.6220481038242294),\n",
       " np.float64(-0.6245306255391297),\n",
       " np.float64(-0.6269977990435741),\n",
       " np.float64(-0.6294495458397613),\n",
       " np.float64(-0.6318857874298895),\n",
       " np.float64(-0.6343064453161572),\n",
       " np.float64(-0.6367114410007626),\n",
       " np.float64(-0.6391006959859037),\n",
       " np.float64(-0.6414741317737791),\n",
       " np.float64(-0.6438316698665867),\n",
       " np.float64(-0.6461732317665252),\n",
       " np.float64(-0.6484987389757929),\n",
       " np.float64(-0.6508081129965878),\n",
       " np.float64(-0.6531012753311081),\n",
       " np.float64(-0.6553781474815524),\n",
       " np.float64(-0.6576386509501188),\n",
       " np.float64(-0.6598827072390061),\n",
       " np.float64(-0.6621102378504117),\n",
       " np.float64(-0.6643211642865342),\n",
       " np.float64(-0.6665154080495722),\n",
       " np.float64(-0.6686928906417237),\n",
       " np.float64(-0.6708535335651874),\n",
       " np.float64(-0.6729972583221608),\n",
       " np.float64(-0.6751239864148428),\n",
       " np.float64(-0.6772336393454312),\n",
       " np.float64(-0.6793261386161251),\n",
       " np.float64(-0.6814014057291222),\n",
       " np.float64(-0.6834590298865085),\n",
       " np.float64(-0.6854976028320396),\n",
       " np.float64(-0.6875169813348996),\n",
       " np.float64(-0.6895171721259764),\n",
       " np.float64(-0.6914981819361572),\n",
       " np.float64(-0.6934600174963298),\n",
       " np.float64(-0.6954026855373816),\n",
       " np.float64(-0.6973261927902008),\n",
       " np.float64(-0.6992305459856749),\n",
       " np.float64(-0.7011157518546912),\n",
       " np.float64(-0.7029818171281376),\n",
       " np.float64(-0.7048287485369018),\n",
       " np.float64(-0.7066565528118716),\n",
       " np.float64(-0.7084652366839345),\n",
       " np.float64(-0.7102548068839779),\n",
       " np.float64(-0.7120252701428899),\n",
       " np.float64(-0.7137766331915578),\n",
       " np.float64(-0.7155089027608694),\n",
       " np.float64(-0.7172220855817129),\n",
       " np.float64(-0.718916188384975),\n",
       " np.float64(-0.7205912179015441),\n",
       " np.float64(-0.7222471808623074),\n",
       " np.float64(-0.7238840839981525),\n",
       " np.float64(-0.7255019340399677),\n",
       " np.float64(-0.7271007377186403),\n",
       " np.float64(-0.7286805017650576),\n",
       " np.float64(-0.7302412329101077),\n",
       " np.float64(-0.7317829378846783),\n",
       " np.float64(-0.7333056234196569),\n",
       " np.float64(-0.734809296245931),\n",
       " np.float64(-0.7362939630943885),\n",
       " np.float64(-0.737759630695917),\n",
       " np.float64(-0.7392063057814042),\n",
       " np.float64(-0.7406339950817378),\n",
       " np.float64(-0.7420427053278051),\n",
       " np.float64(-0.7434324432504942),\n",
       " np.float64(-0.7448032155806926),\n",
       " np.float64(-0.7461550290492879),\n",
       " np.float64(-0.7474878903871679),\n",
       " np.float64(-0.7488018063252202),\n",
       " np.float64(-0.7500967835943323),\n",
       " np.float64(-0.751372828925392),\n",
       " np.float64(-0.752629949049287),\n",
       " np.float64(-0.7538681506969053),\n",
       " np.float64(-0.7550874405991338),\n",
       " np.float64(-0.7562878254868607),\n",
       " np.float64(-0.7574693120909733),\n",
       " np.float64(-0.7586319071423596),\n",
       " np.float64(-0.7597756173719071),\n",
       " np.float64(-0.7609004495105036),\n",
       " np.float64(-0.7620064102890367),\n",
       " np.float64(-0.7630935064383937),\n",
       " np.float64(-0.7641617446894627),\n",
       " np.float64(-0.7652111317731315),\n",
       " np.float64(-0.7662416744202871),\n",
       " np.float64(-0.7672533793618178),\n",
       " np.float64(-0.7682462533286111),\n",
       " np.float64(-0.7692203030515544),\n",
       " np.float64(-0.7701755352615357),\n",
       " np.float64(-0.7711119566894422),\n",
       " np.float64(-0.7720295740661621),\n",
       " np.float64(-0.772928394122583),\n",
       " np.float64(-0.7738084235895921),\n",
       " np.float64(-0.7746696691980773),\n",
       " np.float64(-0.7755121376789265),\n",
       " np.float64(-0.7763358357630271),\n",
       " np.float64(-0.7771407701812668),\n",
       " np.float64(-0.7779269476645334),\n",
       " np.float64(-0.7786943749437144),\n",
       " np.float64(-0.7794430587496975),\n",
       " np.float64(-0.7801730058133703),\n",
       " np.float64(-0.7808842228656206),\n",
       " np.float64(-0.7815767166373361),\n",
       " np.float64(-0.7822504938594043),\n",
       " np.float64(-0.7829055612627128),\n",
       " np.float64(-0.7835419255781494),\n",
       " np.float64(-0.7841595935366019),\n",
       " np.float64(-0.7847585718689577),\n",
       " np.float64(-0.7853388673061047),\n",
       " np.float64(-0.7859004865789301),\n",
       " np.float64(-0.7864434364183222),\n",
       " np.float64(-0.7869677235551681),\n",
       " np.float64(-0.7874733547203558),\n",
       " np.float64(-0.7879603366447729),\n",
       " np.float64(-0.7884286760593071),\n",
       " np.float64(-0.788878379694846),\n",
       " np.float64(-0.7893094542822772),\n",
       " np.float64(-0.7897219065524884),\n",
       " np.float64(-0.790115743236367),\n",
       " np.float64(-0.7904909710648014),\n",
       " np.float64(-0.7908475967686786),\n",
       " np.float64(-0.7911856270788864),\n",
       " np.float64(-0.7915050687263125),\n",
       " np.float64(-0.7918059284418447),\n",
       " np.float64(-0.7920882129563704),\n",
       " np.float64(-0.7923519290007776),\n",
       " np.float64(-0.7925970833059536),\n",
       " np.float64(-0.7928236826027864),\n",
       " np.float64(-0.7930317336221634),\n",
       " np.float64(-0.7932212430949721),\n",
       " np.float64(-0.7933922177521006),\n",
       " np.float64(-0.7935446643244365),\n",
       " np.float64(-0.7936785895428672),\n",
       " np.float64(-0.7937940001382804),\n",
       " np.float64(-0.793890902841564),\n",
       " np.float64(-0.7939693043836055),\n",
       " np.float64(-0.7940292114952925),\n",
       " np.float64(-0.7940706309075127),\n",
       " np.float64(-0.7940935693511539),\n",
       " np.float64(-0.7940980335571035),\n",
       " np.float64(-0.7940840302562495),\n",
       " np.float64(-0.7940515661794795),\n",
       " np.float64(-0.7940006480576808),\n",
       " np.float64(-0.7939312826217414),\n",
       " np.float64(-0.7938434766025486),\n",
       " np.float64(-0.7937372367309907),\n",
       " np.float64(-0.7936125697379548),\n",
       " np.float64(-0.7934694823543288),\n",
       " np.float64(-0.7933079813110003),\n",
       " np.float64(-0.793128073338857),\n",
       " np.float64(-0.7929297651687864),\n",
       " np.float64(-0.7927130635316764),\n",
       " np.float64(-0.7924779751584146),\n",
       " np.float64(-0.7922245067798884),\n",
       " np.float64(-0.7919526651269858),\n",
       " np.float64(-0.7916624569305944),\n",
       " np.float64(-0.7913538889216017),\n",
       " np.float64(-0.7910269678308955),\n",
       " np.float64(-0.7906817003893634),\n",
       " np.float64(-0.790318093327893),\n",
       " np.float64(-0.7899361533773722),\n",
       " np.float64(-0.7895358872686884),\n",
       " np.float64(-0.7891173017327294),\n",
       " np.float64(-0.7886804035003827),\n",
       " np.float64(-0.7882251993025363),\n",
       " np.float64(-0.7877516958700777),\n",
       " np.float64(-0.7872598999338942),\n",
       " np.float64(-0.7867498182248738),\n",
       " np.float64(-0.7862214574739043),\n",
       " np.float64(-0.7856748244118731),\n",
       " np.float64(-0.7851099257696679),\n",
       " np.float64(-0.7845267682781766),\n",
       " np.float64(-0.7839253586682865),\n",
       " np.float64(-0.7833057036708855),\n",
       " np.float64(-0.7826678100168611),\n",
       " np.float64(-0.7820116844371013),\n",
       " np.float64(-0.7813373336624931),\n",
       " np.float64(-0.780644764423925),\n",
       " np.float64(-0.779933983452284),\n",
       " np.float64(-0.7792049974784582),\n",
       " np.float64(-0.7784578132333348),\n",
       " np.float64(-0.7776924374478018),\n",
       " np.float64(-0.7769088768527469),\n",
       " np.float64(-0.7761071381790577),\n",
       " np.float64(-0.7752872281576215),\n",
       " np.float64(-0.7744491535193265),\n",
       " np.float64(-0.7735929209950599),\n",
       " np.float64(-0.77271853731571),\n",
       " np.float64(-0.7718260092121637),\n",
       " np.float64(-0.7709153434153092),\n",
       " np.float64(-0.7699865466560339),\n",
       " np.float64(-0.7690396256652253),\n",
       " np.float64(-0.7680745871737716),\n",
       " np.float64(-0.7670914379125602),\n",
       " np.float64(-0.7660901846124786),\n",
       " np.float64(-0.7650708340044147),\n",
       " np.float64(-0.7640333928192558),\n",
       " np.float64(-0.7629778677878898),\n",
       " np.float64(-0.7619042656412045),\n",
       " np.float64(-0.7608125931100875),\n",
       " np.float64(-0.7597028569254263),\n",
       " np.float64(-0.7585750638181082),\n",
       " np.float64(-0.757429220519022),\n",
       " np.float64(-0.7562653337590544),\n",
       " np.float64(-0.7550834102690932),\n",
       " np.float64(-0.7538834567800264),\n",
       " np.float64(-0.7526654800227411),\n",
       " np.float64(-0.7514294867281257),\n",
       " np.float64(-0.7501754836270673),\n",
       " np.float64(-0.7489034774504538),\n",
       " np.float64(-0.7476134749291728),\n",
       " np.float64(-0.7463054827941118),\n",
       " np.float64(-0.7449795077761587),\n",
       " np.float64(-0.7436355566062011),\n",
       " np.float64(-0.7422736360151266),\n",
       " np.float64(-0.7408937527338229),\n",
       " np.float64(-0.7394959134931776),\n",
       " np.float64(-0.7380801250240785),\n",
       " np.float64(-0.7366463940574134),\n",
       " np.float64(-0.7351947273240694),\n",
       " np.float64(-0.7337251315549347),\n",
       " np.float64(-0.7322376134808964),\n",
       " np.float64(-0.7307321798328429),\n",
       " np.float64(-0.7292088373416616),\n",
       " np.float64(-0.7276675927382397),\n",
       " np.float64(-0.7261084527534656),\n",
       " np.float64(-0.724531424118226),\n",
       " np.float64(-0.7229365135634096),\n",
       " np.float64(-0.7213237278199035),\n",
       " np.float64(-0.7196930736185954),\n",
       " np.float64(-0.7180452023903363),\n",
       " np.float64(-0.7163815144833289),\n",
       " np.float64(-0.7147021745101423),\n",
       " np.float64(-0.7130073075787784),\n",
       " np.float64(-0.7112970387972388),\n",
       " np.float64(-0.7095714932735254),\n",
       " np.float64(-0.7078307961156404),\n",
       " np.float64(-0.7060750724315853),\n",
       " np.float64(-0.7043044473293618),\n",
       " np.float64(-0.7025190459169721),\n",
       " np.float64(-0.7007189933024176),\n",
       " np.float64(-0.6989044145937006),\n",
       " np.float64(-0.6970754348988228),\n",
       " np.float64(-0.6952321793257858),\n",
       " np.float64(-0.693374772982592),\n",
       " np.float64(-0.6915033409772423),\n",
       " np.float64(-0.6896180084177393),\n",
       " np.float64(-0.6877189004120848),\n",
       " np.float64(-0.6858061420682804),\n",
       " np.float64(-0.6838798584943279),\n",
       " np.float64(-0.6819401747982292),\n",
       " np.float64(-0.6799872160879863),\n",
       " np.float64(-0.6780211074716008),\n",
       " np.float64(-0.6760419740570749),\n",
       " np.float64(-0.6740499409524101),\n",
       " np.float64(-0.6720451332656081),\n",
       " np.float64(-0.6700276761046712),\n",
       " np.float64(-0.667997694577601),\n",
       " np.float64(-0.6659553137923994),\n",
       " np.float64(-0.6639006588570681),\n",
       " np.float64(-0.661833854879609),\n",
       " np.float64(-0.659755026968024),\n",
       " np.float64(-0.657664300230315),\n",
       " np.float64(-0.6555617997744835),\n",
       " np.float64(-0.6534476507085317),\n",
       " np.float64(-0.6513219781404612),\n",
       " np.float64(-0.6491849071782742),\n",
       " np.float64(-0.6470365629299721),\n",
       " np.float64(-0.644877070503557),\n",
       " np.float64(-0.6427065550070308),\n",
       " np.float64(-0.6405251415483948),\n",
       " np.float64(-0.6383329552356516),\n",
       " np.float64(-0.6361301211768026),\n",
       " np.float64(-0.6339167644798498),\n",
       " np.float64(-0.6316930102527948),\n",
       " np.float64(-0.6294589836036396),\n",
       " np.float64(-0.627214809640386),\n",
       " np.float64(-0.624960613471036),\n",
       " np.float64(-0.6226965202035913),\n",
       " np.float64(-0.6204226549460539),\n",
       " np.float64(-0.6181391428064251),\n",
       " np.float64(-0.6158461088927075),\n",
       " np.float64(-0.6135436783129024),\n",
       " np.float64(-0.6112319761750117),\n",
       " np.float64(-0.6089111275870376),\n",
       " np.float64(-0.6065812576569812),\n",
       " np.float64(-0.6042424914928453),\n",
       " np.float64(-0.6018949542026312),\n",
       " np.float64(-0.5995387708943407),\n",
       " np.float64(-0.5971740666759757),\n",
       " np.float64(-0.5948009666555378),\n",
       " np.float64(-0.5924195959410296),\n",
       " np.float64(-0.5900300796404522),\n",
       " np.float64(-0.5876325428618078),\n",
       " np.float64(-0.5852271107130977),\n",
       " np.float64(-0.5828139083023247),\n",
       " np.float64(-0.5803930607374899),\n",
       " np.float64(-0.5779646931265953),\n",
       " np.float64(-0.5755289305776428),\n",
       " np.float64(-0.573085898198634),\n",
       " np.float64(-0.570635721097571),\n",
       " np.float64(-0.568178524382456),\n",
       " np.float64(-0.5657144331612901),\n",
       " np.float64(-0.5632435725420757),\n",
       " np.float64(-0.5607660676328139),\n",
       " np.float64(-0.5582820435415075),\n",
       " np.float64(-0.5557916253761577),\n",
       " np.float64(-0.5532949382447667),\n",
       " np.float64(-0.550792107255336),\n",
       " np.float64(-0.5482832575158675),\n",
       " np.float64(-0.5457685141343632),\n",
       " np.float64(-0.543248002218825),\n",
       " np.float64(-0.5407218468772544),\n",
       " np.float64(-0.5381901732176536),\n",
       " np.float64(-0.5356531063480241),\n",
       " np.float64(-0.5331107713763681),\n",
       " np.float64(-0.5305632934106874),\n",
       " np.float64(-0.5280107975589834),\n",
       " np.float64(-0.5254534089292584),\n",
       " np.float64(-0.5228912526295139),\n",
       " np.float64(-0.5203244537677519),\n",
       " np.float64(-0.5177531374519745),\n",
       " np.float64(-0.5151774287901832),\n",
       " np.float64(-0.51259745289038),\n",
       " np.float64(-0.5100133348605663),\n",
       " np.float64(-0.5074251998087447),\n",
       " np.float64(-0.5048331728429165),\n",
       " np.float64(-0.5022373790710837),\n",
       " np.float64(-0.49963794360124814),\n",
       " np.float64(-0.4970349915414114),\n",
       " np.float64(-0.49442864799957575),\n",
       " np.float64(-0.4918190380837429),\n",
       " np.float64(-0.4892062869019146),\n",
       " np.float64(-0.48659051956209265),\n",
       " np.float64(-0.48397186117227875),\n",
       " np.float64(-0.4813504368404751),\n",
       " np.float64(-0.47872637167468357),\n",
       " np.float64(-0.47609979078290554),\n",
       " np.float64(-0.4734708192731434),\n",
       " np.float64(-0.47083958225339817),\n",
       " np.float64(-0.4682062048316725),\n",
       " np.float64(-0.4655708121159681),\n",
       " np.float64(-0.46293352921428665),\n",
       " np.float64(-0.46029448123462996),\n",
       " np.float64(-0.4576537932849994),\n",
       " np.float64(-0.45501159047339784),\n",
       " np.float64(-0.4523679979078264),\n",
       " np.float64(-0.44972314069628716),\n",
       " np.float64(-0.447077143946782),\n",
       " np.float64(-0.4444301327673123),\n",
       " np.float64(-0.44178223226588054),\n",
       " np.float64(-0.43913356755048827),\n",
       " np.float64(-0.43648426372913735),\n",
       " np.float64(-0.4338344459098296),\n",
       " np.float64(-0.43118423920056653),\n",
       " np.float64(-0.4285337687093506),\n",
       " np.float64(-0.4258831595441834),\n",
       " np.float64(-0.4232325368130667),\n",
       " np.float64(-0.4205820256240024),\n",
       " np.float64(-0.4179317510849919),\n",
       " np.float64(-0.41528183830403775),\n",
       " np.float64(-0.4126324123891415),\n",
       " np.float64(-0.409983598448305),\n",
       " np.float64(-0.40733552158952974),\n",
       " np.float64(-0.40468830692081814),\n",
       " np.float64(-0.40204207955017174),\n",
       " np.float64(-0.3993969645855925),\n",
       " np.float64(-0.39675308713508206),\n",
       " np.float64(-0.39411057230664215),\n",
       " np.float64(-0.39146954520827504),\n",
       " np.float64(-0.38883013094798236),\n",
       " np.float64(-0.38619245463376606),\n",
       " np.float64(-0.38355664137362766),\n",
       " np.float64(-0.380922816275569),\n",
       " np.float64(-0.37829110444759234),\n",
       " np.float64(-0.37566163099769934),\n",
       " np.float64(-0.37303452103389184),\n",
       " np.float64(-0.37040989966417154),\n",
       " np.float64(-0.36778789199654016),\n",
       " np.float64(-0.3651686231389999),\n",
       " np.float64(-0.3625522181995525),\n",
       " np.float64(-0.3599388022861998),\n",
       " np.float64(-0.35732850050694354),\n",
       " np.float64(-0.3547214379697852),\n",
       " np.float64(-0.3521177397827274),\n",
       " np.float64(-0.3495175310537716),\n",
       " np.float64(-0.3469209368909196),\n",
       " np.float64(-0.34432808240217316),\n",
       " np.float64(-0.34173909269553404),\n",
       " np.float64(-0.3391540928790046),\n",
       " np.float64(-0.3365732080605863),\n",
       " np.float64(-0.333996563348281),\n",
       " np.float64(-0.33142428385009054),\n",
       " np.float64(-0.32885649467401645),\n",
       " np.float64(-0.32629332092806124),\n",
       " np.float64(-0.3237348877202264),\n",
       " np.float64(-0.32118132015851375),\n",
       " np.float64(-0.3186327433509252),\n",
       " np.float64(-0.3160892824054622),\n",
       " np.float64(-0.3135510624301272),\n",
       " np.float64(-0.3110182085329217),\n",
       " np.float64(-0.30849084582184777),\n",
       " np.float64(-0.30596909940490696),\n",
       " np.float64(-0.30345309439010093),\n",
       " np.float64(-0.3009429558854321),\n",
       " np.float64(-0.29843880899890207),\n",
       " np.float64(-0.2959407788385126),\n",
       " np.float64(-0.29344899051226553),\n",
       " np.float64(-0.2909635691281625),\n",
       " np.float64(-0.2884846397942058),\n",
       " np.float64(-0.2860123276183971),\n",
       " np.float64(-0.28354675770873816),\n",
       " np.float64(-0.2810880551732308),\n",
       " np.float64(-0.2786363451198766),\n",
       " np.float64(-0.2761917526566781),\n",
       " np.float64(-0.27375440289163666),\n",
       " np.float64(-0.27132442093275416),\n",
       " np.float64(-0.2689019318880324),\n",
       " np.float64(-0.26648706086547314),\n",
       " np.float64(-0.26407993297307863),\n",
       " np.float64(-0.26168067331885037),\n",
       " np.float64(-0.25928940701079034),\n",
       " np.float64(-0.2569062591569),\n",
       " np.float64(-0.2545313548651818),\n",
       " np.float64(-0.2521648192436372),\n",
       " np.float64(-0.24980677740026816),\n",
       " np.float64(-0.24745735444307654),\n",
       " np.float64(-0.24511667548006377),\n",
       " np.float64(-0.24278486561923232),\n",
       " np.float64(-0.2404620499685837)]"
      ]
     },
     "execution_count": 118,
     "metadata": {},
     "output_type": "execute_result"
    }
   ],
   "source": [
    "sh1 = 0\n",
    "sh2 = 0\n",
    "\n",
    "def f(x):\n",
    "    return np.cos(4*x) * np.exp(-x**5)\n",
    "\n",
    "def fp(x):\n",
    "    return -4*np.sin(4*x) * np.exp(-x**5) - 5*x**4 * np.cos(4*x) * np.exp(-x**5)\n",
    "\n",
    "x_interp = np.linspace(0, 1, 1000)\n",
    "x_sample = np.linspace(0,1,6)\n",
    "\n",
    "def hermite(x, y, yp, xi):\n",
    "    interp = []\n",
    "\n",
    "    N = len(x)-1\n",
    "\n",
    "    h0i = lambda x, x_k, x_k1 : ((x_k1-x_k) + 2*(x-x_k))*(x_k1-x)**2/(x_k1-x_k)**3\n",
    "    h0i1 = lambda x, x_k, x_k1 : ((x_k1-x_k) + 2*(x_k1-x))*(x-x_k)**2/(x_k1-x_k)**3\n",
    "    h1i = lambda x, x_k, x_k1 : (x-x_k)*(x_k1-x)**2/(x_k1-x_k)**2\n",
    "    h1i1 = lambda x, x_k, x_k1 : -(x_k1-x)*(x-x_k)**2/(x_k1-x_k)**2\n",
    "\n",
    "    # print(h0i)\n",
    "\n",
    "    for i in xi:\n",
    "        idx = min(max(np.searchsorted(x, i)-1, 0), N-1)\n",
    "\n",
    "        interp.append(y[idx]*h0i(i, x[idx], x[idx+1]) \n",
    "                      + y[idx+1]*h0i1(i, x[idx], x[idx+1])\n",
    "                      + yp[idx]*h1i(i, x[idx], x[idx+1])\n",
    "                      + yp[idx+1]*h1i1(i, x[idx], x[idx+1])\n",
    "                      )\n",
    "        \n",
    "    return interp\n",
    "        \n",
    "\n",
    "\n",
    "# YOUR CODE HERE\n",
    "hermite(x_sample, f(x_sample), fp(x_sample), x_interp)\n",
    "# raise NotImplementedError()\n"
   ]
  },
  {
   "cell_type": "markdown",
   "id": "8306a9d3",
   "metadata": {
    "deletable": false,
    "editable": false,
    "nbgrader": {
     "cell_type": "markdown",
     "checksum": "9eb3f77e137a82a6907fcd5bf4660212",
     "grade": false,
     "grade_id": "cell-e326b6af6fb09b8a",
     "locked": true,
     "points": 5,
     "schema_version": 3,
     "solution": false,
     "task": true
    }
   },
   "source": [
    "\n",
    "Plot under :\n"
   ]
  },
  {
   "cell_type": "code",
   "execution_count": null,
   "id": "71604908",
   "metadata": {
    "deletable": false,
    "nbgrader": {
     "cell_type": "code",
     "checksum": "8ae6e2446cfdc85158c4787099b2b810",
     "grade": false,
     "grade_id": "cell-ef1b89836185f7c2",
     "locked": false,
     "schema_version": 3,
     "solution": true,
     "task": false
    }
   },
   "outputs": [
    {
     "data": {
      "image/png": "[encoded data removed]",
      "text/plain": [
       "<Figure size 640x480 with 1 Axes>"
      ]
     },
     "metadata": {},
     "output_type": "display_data"
    },
    {
     "data": {
      "text/plain": [
       "[<matplotlib.lines.Line2D at 0x109c73ad0>]"
      ]
     },
     "execution_count": 124,
     "metadata": {},
     "output_type": "execute_result"
    },
    {
     "data": {
      "image/png": "[encoded data removed]",
      "text/plain": [
       "<Figure size 640x480 with 1 Axes>"
      ]
     },
     "metadata": {},
     "output_type": "display_data"
    }
   ],
   "source": [
    "# YOUR CODE HERE\n",
    "plt.plot(x_interp, f(x_interp), label=r\"$f(x)$\")\n",
    "plt.plot(x_interp, hermite(x_sample, f(x_sample), fp(x_sample), x_interp), label=\"hermite\")\n",
    "plt.scatter(x_sample, f(x_sample), label=\"sample points\")\n",
    "plt.legend()\n",
    "plt.title(r\"$f(x)$ vs pchip iterpolation of $f(x)$ with $N=6$\")\n",
    "plt.show()"
   ]
  },
  {
   "cell_type": "code",
   "execution_count": null,
   "id": "f79cf482",
   "metadata": {
    "deletable": false,
    "editable": false,
    "nbgrader": {
     "cell_type": "code",
     "checksum": "392010f6f1f10f86d9ec3cf703b8e151",
     "grade": true,
     "grade_id": "cell-81790bdec4a60547",
     "locked": true,
     "points": 5,
     "schema_version": 3,
     "solution": false,
     "task": false
    }
   },
   "outputs": [],
   "source": [
    "\n",
    "#Testing answer \n"
   ]
  },
  {
   "cell_type": "markdown",
   "id": "c888ed43",
   "metadata": {
    "deletable": false,
    "editable": false,
    "nbgrader": {
     "cell_type": "markdown",
     "checksum": "1d618c5818e34a610eefafa6caeb9c48",
     "grade": false,
     "grade_id": "cell-92658f119398945a",
     "locked": true,
     "schema_version": 3,
     "solution": false,
     "task": false
    }
   },
   "source": [
    "\n",
    "- (c) It is often not possible to provide the derivatives $f^{\\prime\n",
    "}(x_{i}) $ at the interpolation points.\n",
    "Use Newton's divided difference formula to derive an approximate expression\n",
    "for the derivatives $f_{k-1}^{\\prime },$ $f_{k}^{\\prime },$ and $\n",
    "f_{k+1}^{\\prime }$ of a function $f$ that is approximated by a quadratic\n",
    "polynomial that interpolates $f$ at the three points $(x_{k-1},f_{k-1}),$ $\n",
    "(x_{k},$ $f_{k})$ and $(x_{k+1},f_{k+1}).\n",
    "\n"
   ]
  },
  {
   "cell_type": "markdown",
   "id": "a2c95419",
   "metadata": {
    "deletable": false,
    "nbgrader": {
     "cell_type": "markdown",
     "checksum": "41ca5513716b79d71a5809fd7d71612b",
     "grade": true,
     "grade_id": "cell-3facef40d5a2093a",
     "locked": false,
     "points": 10,
     "schema_version": 3,
     "solution": true,
     "task": false
    }
   },
   "source": [
    "YOUR ANSWER HERE"
   ]
  },
  {
   "cell_type": "markdown",
   "id": "a5ef6968",
   "metadata": {
    "deletable": false,
    "editable": false,
    "nbgrader": {
     "cell_type": "markdown",
     "checksum": "1d9add7f9fad54c02edf3b1fe555f49f",
     "grade": false,
     "grade_id": "cell-5c79d5d5c126f830",
     "locked": true,
     "schema_version": 3,
     "solution": false,
     "task": false
    }
   },
   "source": [
    "Now use those formulae for the approximate\n",
    "derivatives to approximate the required derivatives $\n",
    "f^{\\prime }(x_{i})$ by the derivatives of a local quadratic polynomial. For\n",
    "the left endpoint of the interval use the formula for the derivative at $\n",
    "x_{k-1},$ for the interior nodes use the formula for the approximate\n",
    "derivative at $x_{k},$ and for the right endpoint use the formula for the\n",
    "approximate derivative at $x_{k+1}.$ Similarly, write a python function `h_quadratic_deriv(x,y,xi)` (based on your `hermite` function) that evaluates this interpolation method."
   ]
  },
  {
   "cell_type": "code",
   "execution_count": null,
   "id": "90659a19",
   "metadata": {
    "deletable": false,
    "nbgrader": {
     "cell_type": "code",
     "checksum": "3c66a1fd24d3c0d27115e6a9212cc56a",
     "grade": false,
     "grade_id": "cell-32c23191a76d2242",
     "locked": false,
     "schema_version": 3,
     "solution": true,
     "task": false
    }
   },
   "outputs": [],
   "source": [
    "def h_quadratic_deriv(x,y,xi):\n",
    "    # YOUR CODE HERE\n",
    "    raise NotImplementedError()"
   ]
  },
  {
   "cell_type": "markdown",
   "id": "5c9f0013",
   "metadata": {
    "deletable": false,
    "editable": false,
    "nbgrader": {
     "cell_type": "markdown",
     "checksum": "ea29104bf745f8510dea8fc50a7f6ee4",
     "grade": false,
     "grade_id": "cell-83f6a333e18af350",
     "locked": true,
     "schema_version": 3,
     "solution": false,
     "task": false
    }
   },
   "source": [
    "\n",
    "- (d) The `pchip_interpolate` routine in python (see the reference * below and this [link](https://docs.scipy.org/doc/scipy-1.15.0/reference/generated/scipy.interpolate.pchip_interpolate.html)) uses the\n",
    "following scheme to approximate the derivatives at the interpolation points.\n",
    "The slope at each interior node is taken to be the following weighted mean\n",
    "of the slopes of the piecewise linear interpolant either side of the\n",
    "interior point:\n",
    "$$\n",
    "f^{\\prime }(x_{i})=\\left\\{ \n",
    "\\begin{array}{c}\n",
    "\\frac{f[x_{i-1},x_{i}]f[x_{i},x_{i+1}]}{\\alpha f[x_{i},x_{i+1}]+(1-\\alpha\n",
    ")f[x_{i-1},x_{i}]}\\text{ if }f[x_{i-1},x_{i}]f[x_{i},x_{i+1}]>0 \\\\ \n",
    "0\\text{ otherwise}\n",
    "\\end{array}\n",
    "\\right.\n",
    "$$\n",
    "where $\\alpha =(\\Delta x_{i-1}+2\\Delta x_{i})/3(\\Delta x_{i-1}+\\Delta x_{i})$\n",
    "and $\\Delta x_{i}=x_{i+1}-x_{i}.$\n",
    "\n",
    "Impose the quadratic one-sided derivative conditions at the two end points.\n",
    "Now construct a `pchip` routine of your own to interpolate a function given\n",
    "only nodal values, constructing the weighted derivative approximations at\n",
    "the nodes and then calling your `hermite` routine. For the function $\n",
    "f(x)=\\cos (4x)e^{-x^{5}}$ on the interval $[0,1]$ plot $f,$ the the results\n",
    "of your `hermite` code using the quadratic derivatives defined in\n",
    "part (c), and those of your `pchip` code by sampling the function at\n",
    "10 uniformly distributed points and provide a similar plot for 12 uniformly\n",
    "distributed points. Complete the following table:\n",
    "\n",
    "| - | $N=10$ | $N=12$ |\n",
    "|----|----|----|\n",
    "|$f(0.5)$ | s63 |  s64 |\n",
    "|`h_quadratic_deriv`(0.5) |  s65 |  s66 |\n",
    "|`pchip`(0.5) | s67 |  s68 |\n",
    "\n",
    "\n",
    "\n",
    "\n",
    "(*) Reference: F.N Fritsch and J. \\ Butland, ``A method for constructing\n",
    "local monotone piecewise cubic interpolants'', SIAM J. Sci. Stat. Comput.\n",
    "Vol 5, No 2, 1984."
   ]
  },
  {
   "cell_type": "code",
   "execution_count": null,
   "id": "fd7e5a2e",
   "metadata": {
    "deletable": false,
    "nbgrader": {
     "cell_type": "code",
     "checksum": "ef4afd7297ccbc6d35c4c262eec20b15",
     "grade": false,
     "grade_id": "cell-fd4ba519efd7910e",
     "locked": false,
     "schema_version": 3,
     "solution": true,
     "task": false
    }
   },
   "outputs": [],
   "source": [
    "s63 =0\n",
    "s64 =0\n",
    "s65 =0\n",
    "s66 =0\n",
    "s67 =0\n",
    "s68 =0\n",
    "# YOUR CODE HERE\n",
    "raise NotImplementedError()\n"
   ]
  },
  {
   "cell_type": "markdown",
   "id": "d1f6d167",
   "metadata": {
    "deletable": false,
    "editable": false,
    "nbgrader": {
     "cell_type": "markdown",
     "checksum": "c1cf0b6097e2c987b9e463e752ad48da",
     "grade": false,
     "grade_id": "cell-18ff975797e22619",
     "locked": true,
     "points": 5,
     "schema_version": 3,
     "solution": false,
     "task": true
    }
   },
   "source": [
    "\n",
    "Plot under :\n"
   ]
  },
  {
   "cell_type": "code",
   "execution_count": null,
   "id": "394c82a6",
   "metadata": {
    "deletable": false,
    "nbgrader": {
     "cell_type": "code",
     "checksum": "d1ce0aaa6e47d795651b02fa193fd3c2",
     "grade": false,
     "grade_id": "cell-4d5902ad64614898",
     "locked": false,
     "schema_version": 3,
     "solution": true,
     "task": false
    }
   },
   "outputs": [],
   "source": [
    "# YOUR CODE HERE\n",
    "raise NotImplementedError()"
   ]
  },
  {
   "cell_type": "code",
   "execution_count": null,
   "id": "c250adc7",
   "metadata": {
    "deletable": false,
    "editable": false,
    "nbgrader": {
     "cell_type": "code",
     "checksum": "f0894aeff0729aa6fc023f5fa248d4f5",
     "grade": true,
     "grade_id": "cell-5883896bff85a384",
     "locked": true,
     "points": 5,
     "schema_version": 3,
     "solution": false,
     "task": false
    }
   },
   "outputs": [],
   "source": [
    "#Testing answer \n"
   ]
  },
  {
   "cell_type": "code",
   "execution_count": null,
   "id": "852f2f24-3d4a-411a-9426-70749213f5cb",
   "metadata": {
    "deletable": false,
    "editable": false,
    "nbgrader": {
     "cell_type": "code",
     "checksum": "40468b023753af3a18fa42d85bbcac6a",
     "grade": true,
     "grade_id": "cell-14cf8317b5cdf75d",
     "locked": true,
     "points": 5,
     "schema_version": 3,
     "solution": false,
     "task": false
    }
   },
   "outputs": [],
   "source": [
    "#Testing answer \n"
   ]
  },
  {
   "cell_type": "code",
   "execution_count": null,
   "id": "13c682a1-601b-4e17-9958-0e4636b0b02f",
   "metadata": {
    "deletable": false,
    "editable": false,
    "nbgrader": {
     "cell_type": "code",
     "checksum": "bdbaeb291ac4b81426072d3d269803dc",
     "grade": true,
     "grade_id": "cell-03608f08a2aec49a",
     "locked": true,
     "points": 5,
     "schema_version": 3,
     "solution": false,
     "task": false
    }
   },
   "outputs": [],
   "source": [
    "#Testing answer \n"
   ]
  }
 ],
 "metadata": {
  "kernelspec": {
   "display_name": "Python 3",
   "language": "python",
   "name": "python3"
  },
  "language_info": {
   "codemirror_mode": {
    "name": "ipython",
    "version": 3
   },
   "file_extension": ".py",
   "mimetype": "text/x-python",
   "name": "python",
   "nbconvert_exporter": "python",
   "pygments_lexer": "ipython3",
   "version": "3.undefined.undefined"
  }
 },
 "nbformat": 4,
 "nbformat_minor": 5
}
